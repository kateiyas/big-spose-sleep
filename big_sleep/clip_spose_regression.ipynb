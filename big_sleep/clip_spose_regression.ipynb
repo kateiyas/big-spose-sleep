{
 "cells": [
  {
   "cell_type": "code",
   "execution_count": 28,
   "id": "477a1e72",
   "metadata": {},
   "outputs": [],
   "source": [
    "import numpy as np\n",
    "from sklearn.model_selection import cross_val_score\n",
    "from sklearn.multioutput import MultiOutputRegressor\n",
    "import xgboost as xgb\n",
    "from sklearn.linear_model import MultiTaskElasticNet, Ridge, RidgeCV, ElasticNet, ElasticNetCV, Lasso, MultiTaskLassoCV, LinearRegression\n",
    "from sklearn.metrics import mean_squared_error, accuracy_score, r2_score, explained_variance_score, mean_absolute_percentage_error\n",
    "from sklearn.model_selection import RandomizedSearchCV\n",
    "from sklearn.model_selection import KFold\n",
    "from scipy.io import loadmat, savemat\n",
    "from sklearn.preprocessing import StandardScaler\n",
    "from clip import load\n",
    "from big_spose_sleep import create_clip_img_transform\n",
    "import glob, pickle\n",
    "import torch\n",
    "from os.path import exists\n",
    "from scipy.stats import pearsonr\n",
    "from ridge import ridge, ridge_corr, bootstrap_ridge\n",
    "\n",
    "from sklearn.ensemble import GradientBoostingClassifier\n",
    "#https://scikit-learn.org/stable/modules/generated/sklearn.linear_model.ElasticNet.html#sklearn.linear_model.ElasticNet\n",
    "\n",
    "from torchvision import datasets, transforms\n",
    "\n",
    "from sklearn.datasets import make_regression\n",
    "from sklearn.model_selection import train_test_split\n",
    "\n",
    "from sklearn.multioutput import MultiOutputRegressor\n",
    "from sklearn.ensemble import GradientBoostingRegressor, HistGradientBoostingRegressor"
   ]
  },
  {
   "cell_type": "code",
   "execution_count": 2,
   "id": "207d7a2e",
   "metadata": {},
   "outputs": [],
   "source": [
    "def calc_corrs(timesrs_test, timesrs_pred): \n",
    "    corr_by_ft = {}\n",
    "\n",
    "    ft_n = timesrs_test.shape[1]\n",
    "    corr_by_ft = np.array([ pearsonr(timesrs_test[:,ft_i], \n",
    "                                     timesrs_pred[:,ft_i])[0] for ft_i in range(ft_n) ]).astype('float32')\n",
    "    return corr_by_ft"
   ]
  },
  {
   "cell_type": "markdown",
   "id": "bbe86d78",
   "metadata": {},
   "source": [
    "## Extract CLIP features"
   ]
  },
  {
   "cell_type": "code",
   "execution_count": 4,
   "id": "cdfe5a32",
   "metadata": {},
   "outputs": [],
   "source": [
    "thingsroot = \"/Users/katja/Documents/Data/THINGS/\"\n",
    "\n",
    "thingsimgfns = thingsroot+\"/images/{}/*.*\"\n",
    "\n",
    "regr_data_fn = \"../../data_spose_to_clip.mat\"\n",
    "\n",
    "reextract_data = False\n",
    "\n",
    "thingscats = []\n",
    "with open(thingsroot+\"THINGS_unique_IDs.txt\", 'r') as handle:\n",
    "    lines = handle.readlines()\n",
    "    for line in lines:\n",
    "        line = line.strip()\n",
    "        if len(line)>0:\n",
    "            thingscats.append(line)\n",
    "\n",
    "assert(len(thingscats)==1854)\n",
    "\n",
    "spose_cat_emb = np.loadtxt(thingsroot+\"spose_embedding_49d_sorted.txt\")\n",
    "\n",
    "assert(len(thingscats)==spose_cat_emb.shape[0])\n",
    "\n",
    "clip_perceptor, _ = load('ViT-B/32', jit = False)\n",
    "clip_transform = create_clip_img_transform(224)"
   ]
  },
  {
   "cell_type": "code",
   "execution_count": 5,
   "id": "8874670e",
   "metadata": {},
   "outputs": [
    {
     "name": "stdout",
     "output_type": "stream",
     "text": [
      "Number of THINGS images found: 26107\n",
      "Compose(\n",
      "    Resize(size=224, interpolation=bilinear, max_size=None, antialias=None)\n",
      "    CenterCrop(size=(224, 224))\n",
      "    ToTensor()\n",
      "    Normalize(mean=[0.48145466, 0.4578275, 0.40821073], std=[0.26862954, 0.26130258, 0.27577711])\n",
      ")\n"
     ]
    }
   ],
   "source": [
    "thingsimgs = datasets.ImageFolder(thingsroot+'/images/', transform=clip_transform)\n",
    "thingsloader = torch.utils.data.DataLoader(thingsimgs, batch_size=1, shuffle=False)\n",
    "\n",
    "print(\"Number of THINGS images found:\", len(thingsloader))\n",
    "\n",
    "print(clip_transform)\n",
    "\n",
    "num_imgs = len(thingsloader)"
   ]
  },
  {
   "cell_type": "code",
   "execution_count": 6,
   "id": "d0a5b1e3",
   "metadata": {},
   "outputs": [],
   "source": [
    "# Looping through it, get a batch on each loop, check data shape\n",
    "\n",
    "show_shapes = False\n",
    "if show_shapes: \n",
    "    show_num = 50\n",
    "    for i, (thingsimg, catID) in enumerate(thingsloader): \n",
    "        print(thingscats[catID])\n",
    "        print(thingsimg.shape)\n",
    "        if i > show_num:\n",
    "            break"
   ]
  },
  {
   "cell_type": "code",
   "execution_count": 7,
   "id": "23120728",
   "metadata": {},
   "outputs": [
    {
     "name": "stdout",
     "output_type": "stream",
     "text": [
      "CPU times: user 31.4 ms, sys: 57 ms, total: 88.5 ms\n",
      "Wall time: 92.6 ms\n"
     ]
    }
   ],
   "source": [
    "%%time\n",
    "#https://www.datacamp.com/community/tutorials/xgboost-in-python\n",
    "\n",
    "if not exists(regr_data_fn) and reextract_data:\n",
    "    # CPU times: user 1h 7min 42s, sys: 2min 53s, total: 1h 10min 36s\n",
    "    # Wall time: 1h 8min 37s\n",
    "\n",
    "    x_spose_vecs = np.zeros([num_imgs,49])  # X: SPoSE vectors (same for each cat)\n",
    "    y_clip_vecs = np.zeros([num_imgs,512])  # Y: clip vectors\n",
    "\n",
    "    # Load data\n",
    "    img_i = 0\n",
    "    for i, (thingsimg, catID) in enumerate(thingsloader):\n",
    "\n",
    "        x_spose_vecs[i,:] = spose_cat_emb[catID,:] \n",
    "        y_clip_vecs[i,:] = clip_perceptor.encode_image(thingsimg).detach().numpy().squeeze()\n",
    "\n",
    "        img_i += 1\n",
    "\n",
    "    savemat(regr_data_fn, {\"x_spose\":x_spose_vecs, \"y_clip\":y_clip_vecs})\n",
    "else: \n",
    "    regr_data = loadmat(regr_data_fn)\n",
    "    x_spose_vecs = regr_data[\"x_spose\"]\n",
    "    y_clip_vecs = regr_data[\"y_clip\"]"
   ]
  },
  {
   "cell_type": "code",
   "execution_count": 8,
   "id": "662f2d54",
   "metadata": {},
   "outputs": [
    {
     "name": "stdout",
     "output_type": "stream",
     "text": [
      "X shape: (26107, 49)\n",
      "Y shape: (26107, 512)\n"
     ]
    }
   ],
   "source": [
    "print(\"X shape:\", x_spose_vecs.shape)\n",
    "print(\"Y shape:\", y_clip_vecs.shape)\n",
    "\n",
    "xspose_train, xspose_test, yclip_train, yclip_test = train_test_split( x_spose_vecs, \n",
    "                                                                       y_clip_vecs, \n",
    "                                                                       test_size=0.10, \n",
    "                                                                       random_state=42)\n",
    "\n",
    "xclip_train, xclip_test, yspose_train, yspose_test = train_test_split( y_clip_vecs, \n",
    "                                                                       x_spose_vecs, \n",
    "                                                                       test_size=0.10, \n",
    "                                                                       random_state=42)"
   ]
  },
  {
   "cell_type": "code",
   "execution_count": 9,
   "id": "36a5c277",
   "metadata": {},
   "outputs": [],
   "source": [
    "if False: # scaling\n",
    "    scaler = StandardScaler()\n",
    "    xspose_train = scaler.fit_transform(xspose_train)\n",
    "    xspose_test = scaler.fit_transform(xspose_test)\n",
    "    \n",
    "    xclip_train = scaler.fit_transform(xclip_train)\n",
    "    xclip_test = scaler.fit_transform(xclip_test)"
   ]
  },
  {
   "cell_type": "markdown",
   "id": "c40654f1",
   "metadata": {},
   "source": [
    "## xgboost model"
   ]
  },
  {
   "cell_type": "code",
   "execution_count": 58,
   "id": "9c519a99",
   "metadata": {},
   "outputs": [
    {
     "ename": "TypeError",
     "evalue": "Parameter value is not iterable or distribution (key='early_stopping_rounds', value=5)",
     "output_type": "error",
     "traceback": [
      "\u001b[0;31m---------------------------------------------------------------------------\u001b[0m",
      "\u001b[0;31mTypeError\u001b[0m                                 Traceback (most recent call last)",
      "\u001b[0;32m<timed exec>\u001b[0m in \u001b[0;36m<module>\u001b[0;34m\u001b[0m\n",
      "\u001b[0;32m~/anaconda3/lib/python3.7/site-packages/sklearn/model_selection/_search.py\u001b[0m in \u001b[0;36mfit\u001b[0;34m(self, X, y, groups, **fit_params)\u001b[0m\n\u001b[1;32m    889\u001b[0m                 \u001b[0;32mreturn\u001b[0m \u001b[0mresults\u001b[0m\u001b[0;34m\u001b[0m\u001b[0;34m\u001b[0m\u001b[0m\n\u001b[1;32m    890\u001b[0m \u001b[0;34m\u001b[0m\u001b[0m\n\u001b[0;32m--> 891\u001b[0;31m             \u001b[0mself\u001b[0m\u001b[0;34m.\u001b[0m\u001b[0m_run_search\u001b[0m\u001b[0;34m(\u001b[0m\u001b[0mevaluate_candidates\u001b[0m\u001b[0;34m)\u001b[0m\u001b[0;34m\u001b[0m\u001b[0;34m\u001b[0m\u001b[0m\n\u001b[0m\u001b[1;32m    892\u001b[0m \u001b[0;34m\u001b[0m\u001b[0m\n\u001b[1;32m    893\u001b[0m             \u001b[0;31m# multimetric is determined here because in the case of a callable\u001b[0m\u001b[0;34m\u001b[0m\u001b[0;34m\u001b[0m\u001b[0;34m\u001b[0m\u001b[0m\n",
      "\u001b[0;32m~/anaconda3/lib/python3.7/site-packages/sklearn/model_selection/_search.py\u001b[0m in \u001b[0;36m_run_search\u001b[0;34m(self, evaluate_candidates)\u001b[0m\n\u001b[1;32m   1766\u001b[0m         evaluate_candidates(\n\u001b[1;32m   1767\u001b[0m             ParameterSampler(\n\u001b[0;32m-> 1768\u001b[0;31m                 \u001b[0mself\u001b[0m\u001b[0;34m.\u001b[0m\u001b[0mparam_distributions\u001b[0m\u001b[0;34m,\u001b[0m \u001b[0mself\u001b[0m\u001b[0;34m.\u001b[0m\u001b[0mn_iter\u001b[0m\u001b[0;34m,\u001b[0m \u001b[0mrandom_state\u001b[0m\u001b[0;34m=\u001b[0m\u001b[0mself\u001b[0m\u001b[0;34m.\u001b[0m\u001b[0mrandom_state\u001b[0m\u001b[0;34m\u001b[0m\u001b[0;34m\u001b[0m\u001b[0m\n\u001b[0m\u001b[1;32m   1769\u001b[0m             )\n\u001b[1;32m   1770\u001b[0m         )\n",
      "\u001b[0;32m~/anaconda3/lib/python3.7/site-packages/sklearn/model_selection/_search.py\u001b[0m in \u001b[0;36m__init__\u001b[0;34m(self, param_distributions, n_iter, random_state)\u001b[0m\n\u001b[1;32m    266\u001b[0m                     raise TypeError(\n\u001b[1;32m    267\u001b[0m                         \u001b[0;34m\"Parameter value is not iterable \"\u001b[0m\u001b[0;34m\u001b[0m\u001b[0;34m\u001b[0m\u001b[0m\n\u001b[0;32m--> 268\u001b[0;31m                         \u001b[0;34m\"or distribution (key={!r}, value={!r})\"\u001b[0m\u001b[0;34m.\u001b[0m\u001b[0mformat\u001b[0m\u001b[0;34m(\u001b[0m\u001b[0mkey\u001b[0m\u001b[0;34m,\u001b[0m \u001b[0mdist\u001b[0m\u001b[0;34m[\u001b[0m\u001b[0mkey\u001b[0m\u001b[0;34m]\u001b[0m\u001b[0;34m)\u001b[0m\u001b[0;34m\u001b[0m\u001b[0;34m\u001b[0m\u001b[0m\n\u001b[0m\u001b[1;32m    269\u001b[0m                     )\n\u001b[1;32m    270\u001b[0m         \u001b[0mself\u001b[0m\u001b[0;34m.\u001b[0m\u001b[0mn_iter\u001b[0m \u001b[0;34m=\u001b[0m \u001b[0mn_iter\u001b[0m\u001b[0;34m\u001b[0m\u001b[0;34m\u001b[0m\u001b[0m\n",
      "\u001b[0;31mTypeError\u001b[0m: Parameter value is not iterable or distribution (key='early_stopping_rounds', value=5)"
     ]
    }
   ],
   "source": [
    "%%time\n",
    "# on hyperparameter tuning: https://github.com/KSpiliop/Fraud_Detection\n",
    "# visual guide parameter tuning: \n",
    "# https://kevinvecmanis.io/machine%20learning/hyperparameter%20tuning/dataviz/python/2019/05/11/XGBoost-Tuning-Visual-Guide.html\n",
    "# https://stackoverflow.com/questions/69786993/tuning-xgboost-hyperparameters-with-randomizedsearchcv\n",
    "\n",
    "model = MultiOutputRegressor( xgb.XGBRegressor(), n_jobs=-1)\n",
    "\n",
    "grid = {  'n_estimators': [100, 500, 900, 1100, 1500],\n",
    "          'max_depth': [2, 3, 5, 10, 15],\n",
    "          'learning_rate': [0.05, 0.1, 0.15, 0.20],\n",
    "          'min_child_weight': [1, 2, 3, 4]    }\n",
    "\n",
    "kfold = KFold(n_splits=5, shuffle=True, random_state=10)\n",
    "\n",
    "grid_search = RandomizedSearchCV(model, param_grid, scoring=\"r2\", n_jobs=-1, verbose=1, n_iter = 500, cv=kfold)\n",
    "grid_result = grid_search.fit(xspose_train, yclip_train, **param_grid)"
   ]
  },
  {
   "cell_type": "code",
   "execution_count": 10,
   "id": "62dc70ee",
   "metadata": {},
   "outputs": [
    {
     "name": "stdout",
     "output_type": "stream",
     "text": [
      "CPU times: user 2 µs, sys: 1 µs, total: 3 µs\n",
      "Wall time: 5.72 µs\n"
     ]
    },
    {
     "data": {
      "text/plain": [
       "'\\nregressor = xgb.XGBRegressor()\\nmultiregressor = MultiOutputRegressor( estimator=regressor ) \\n\\nhyparam_grid = {  \\'estimator__n_estimators\\': [100, 500, 900, 1100, 1500],\\n                  \\'estimator__max_depth\\': [2, 3, 5, 10, 15],\\n                  \\'estimator__learning_rate\\': [0.05, 0.1, 0.15, 0.20],\\n                  \\'estimator__min_child_weight\\': [1, 2, 3, 4]   }\\n\\n# Set up the random search with 4-fold cross validation\\nrandom_cv = RandomizedSearchCV( estimator=multiregressor,\\n                                param_distributions=hyparam_grid,\\n                                cv=5, n_iter=50, n_jobs=-1, \\n                                scoring = \\'neg_mean_absolute_error\\', \\n                                verbose = 5, \\n                                return_train_score = True,\\n                                random_state=42 )\\n\\nrandom_cv.fit(xspose_train, yclip_train)\\n\\nprint( \"Best estimater:\\n\", random_cv.best_estimator_ )\\n'"
      ]
     },
     "execution_count": 10,
     "metadata": {},
     "output_type": "execute_result"
    }
   ],
   "source": [
    "%%time\n",
    "# on hyperparameter tuning: https://github.com/KSpiliop/Fraud_Detection\n",
    "# visual guide parameter tuning: \n",
    "# https://kevinvecmanis.io/machine%20learning/hyperparameter%20tuning/dataviz/python/2019/05/11/XGBoost-Tuning-Visual-Guide.html\n",
    "# https://stackoverflow.com/questions/69786993/tuning-xgboost-hyperparameters-with-randomizedsearchcv\n",
    "# example with multioutput and randomsearchcv: \n",
    "# https://stackoverflow.com/questions/43532811/gridsearch-over-multioutputregressor\n",
    "\n",
    "\"\"\"\n",
    "regressor = xgb.XGBRegressor()\n",
    "multiregressor = MultiOutputRegressor( estimator=regressor ) \n",
    "\n",
    "hyparam_grid = {  'estimator__n_estimators': [100, 500, 900, 1100, 1500],\n",
    "                  'estimator__max_depth': [2, 3, 5, 10, 15],\n",
    "                  'estimator__learning_rate': [0.05, 0.1, 0.15, 0.20],\n",
    "                  'estimator__min_child_weight': [1, 2, 3, 4]   }\n",
    "\n",
    "# Set up the random search with 4-fold cross validation\n",
    "random_cv = RandomizedSearchCV( estimator=multiregressor,\n",
    "                                param_distributions=hyparam_grid,\n",
    "                                cv=5, n_iter=50, n_jobs=-1, \n",
    "                                scoring = 'neg_mean_absolute_error', \n",
    "                                verbose = 5, \n",
    "                                return_train_score = True,\n",
    "                                random_state=42 )\n",
    "\n",
    "random_cv.fit(xspose_train, yclip_train)\n",
    "\n",
    "print( \"Best estimater:\\n\", random_cv.best_estimator_ )\n",
    "\"\"\""
   ]
  },
  {
   "cell_type": "code",
   "execution_count": 11,
   "id": "2ed70f02",
   "metadata": {},
   "outputs": [
    {
     "data": {
      "text/plain": [
       "MultiOutputRegressor(estimator=XGBRegressor(base_score=None, booster=None,\n",
       "                                            colsample_bylevel=None,\n",
       "                                            colsample_bynode=None,\n",
       "                                            colsample_bytree=None,\n",
       "                                            enable_categorical=False,\n",
       "                                            gamma=None, gpu_id=None,\n",
       "                                            importance_type=None,\n",
       "                                            interaction_constraints=None,\n",
       "                                            learning_rate=None,\n",
       "                                            max_delta_step=None, max_depth=None,\n",
       "                                            min_child_weight=None, missing=nan,\n",
       "                                            monotone_constraints=None,\n",
       "                                            n_estimators=100, n_jobs=None,\n",
       "                                            num_parallel_tree=None,\n",
       "                                            predictor=None, random_state=None,\n",
       "                                            reg_alpha=None, reg_lambda=None,\n",
       "                                            scale_pos_weight=None,\n",
       "                                            subsample=None, tree_method=None,\n",
       "                                            validate_parameters=None,\n",
       "                                            verbosity=None))"
      ]
     },
     "execution_count": 11,
     "metadata": {},
     "output_type": "execute_result"
    }
   ],
   "source": [
    "%%time\n",
    "model = MultiOutputRegressor( xgb.XGBRegressor() )\n",
    "model.fit(xspose_train, yclip_train)"
   ]
  },
  {
   "cell_type": "code",
   "execution_count": 13,
   "id": "957023ae",
   "metadata": {},
   "outputs": [],
   "source": []
  },
  {
   "cell_type": "code",
   "execution_count": 36,
   "id": "b615304c",
   "metadata": {},
   "outputs": [
    {
     "name": "stdout",
     "output_type": "stream",
     "text": [
      "Pearson score: 0.70394534\n",
      "R2 score: 0.5203283862199036\n",
      "MSE: 0.052056707074646616\n"
     ]
    }
   ],
   "source": [
    "yclip_test_pred = model.predict(xspose_test)\n",
    "\n",
    "print(\"Pearson score:\", np.mean(calc_corrs(yclip_test, yclip_test_pred)))\n",
    "\n",
    "print(\"R2 score:\", r2_score(yclip_test, yclip_test_pred, multioutput='variance_weighted'))\n",
    "\n",
    "print(\"MSE:\", mean_squared_error(yclip_test, yclip_test_pred))\n",
    "# Pearson score: 0.70394534\n",
    "# R2 score: 0.5203283862199036\n",
    "# MSE: 0.052056707074646616"
   ]
  },
  {
   "cell_type": "code",
   "execution_count": 45,
   "id": "12d35744",
   "metadata": {},
   "outputs": [
    {
     "data": {
      "text/plain": [
       "MultiOutputRegressor(estimator=XGBRegressor(base_score=None, booster=None,\n",
       "                                            colsample_bylevel=None,\n",
       "                                            colsample_bynode=None,\n",
       "                                            colsample_bytree=None,\n",
       "                                            enable_categorical=False,\n",
       "                                            gamma=None, gpu_id=None,\n",
       "                                            importance_type=None,\n",
       "                                            interaction_constraints=None,\n",
       "                                            learning_rate=None,\n",
       "                                            max_delta_step=None, max_depth=None,\n",
       "                                            min_child_weight=None, missing=nan,\n",
       "                                            monotone_constraints=None,\n",
       "                                            n_estimators=100, n_jobs=None,\n",
       "                                            num_parallel_tree=None,\n",
       "                                            predictor=None, random_state=None,\n",
       "                                            reg_alpha=None, reg_lambda=None,\n",
       "                                            scale_pos_weight=None,\n",
       "                                            subsample=None, tree_method=None,\n",
       "                                            validate_parameters=None,\n",
       "                                            verbosity=None))"
      ]
     },
     "execution_count": 45,
     "metadata": {},
     "output_type": "execute_result"
    }
   ],
   "source": [
    "# train on all data\n",
    "modelfull = MultiOutputRegressor( xgb.XGBRegressor() )\n",
    "modelfull.fit(x_spose_vecs, y_clip_vecs)"
   ]
  },
  {
   "cell_type": "code",
   "execution_count": 46,
   "id": "685b95f1",
   "metadata": {},
   "outputs": [],
   "source": [
    "# save all data model\n",
    "with open('../../xgb_spose_to_clip_defaultmodel.pkl','wb') as f:\n",
    "    pickle.dump(modelfull,f)"
   ]
  },
  {
   "cell_type": "code",
   "execution_count": 10,
   "id": "d9052a29",
   "metadata": {},
   "outputs": [],
   "source": [
    "# load for trying\n",
    "with open('../../xgb_spose_to_clip_defaultmodel.pkl', 'rb') as f:\n",
    "    modelfull = pickle.load(f)"
   ]
  },
  {
   "cell_type": "code",
   "execution_count": 11,
   "id": "8046aad9",
   "metadata": {},
   "outputs": [],
   "source": [
    "yclip_test_pred = modelfull.predict(xspose_test)"
   ]
  },
  {
   "cell_type": "code",
   "execution_count": 26,
   "id": "ab8ae86c",
   "metadata": {},
   "outputs": [
    {
     "name": "stdout",
     "output_type": "stream",
     "text": [
      "Pearson score: 0.7517518\n"
     ]
    }
   ],
   "source": [
    "print(\"Pearson score:\", np.mean(calc_corrs(yclip_test, yclip_test_pred)))"
   ]
  },
  {
   "cell_type": "code",
   "execution_count": 19,
   "id": "216ba5c3",
   "metadata": {},
   "outputs": [
    {
     "data": {
      "text/plain": [
       "array([-9.31128785e-02, -3.25521752e-02,  6.12249151e-02, -4.23552468e-02,\n",
       "       -3.58751923e-01,  7.52240419e-02,  3.52490544e-01,  1.90431803e-01,\n",
       "        1.08170278e-01,  1.96422309e-01,  1.37410581e-01, -4.02237475e-01,\n",
       "        4.87368882e-01, -1.58078745e-01,  1.33816630e-01, -3.81042361e-01,\n",
       "       -2.67576337e-01, -1.70580178e-01,  2.38323241e-01, -2.83255786e-01,\n",
       "       -2.08098412e-01, -2.32674167e-01,  2.09498331e-01,  6.99855387e-02,\n",
       "        6.65688440e-02,  8.55920315e-02, -1.26968697e-01,  4.33144301e-01,\n",
       "        6.60823286e-02,  6.96236715e-02, -1.82352349e-01,  1.72174811e-01,\n",
       "       -1.73856914e-01, -4.90278415e-02,  1.46638393e-01,  3.30262303e-01,\n",
       "       -7.10158842e-03,  4.15240675e-01, -7.03793764e-02,  9.09227252e-01,\n",
       "       -6.09922223e-02, -5.13980947e-02, -2.32223094e-01, -1.52467534e-01,\n",
       "        3.98635179e-01, -8.31941485e-01,  1.68916844e-02,  4.09209669e-01,\n",
       "        1.39160618e-01,  3.85603011e-01, -2.59922534e-01,  1.12388261e-01,\n",
       "       -1.18255958e-01, -3.17056775e-01, -1.36485294e-01,  6.63410202e-02,\n",
       "       -8.55179783e-03, -4.19026501e-02, -9.19696912e-02,  1.95954502e-01,\n",
       "        5.38954616e-01, -1.46193102e-01,  1.00357406e-01,  1.22746691e-01,\n",
       "        3.01471233e-01,  1.20380148e-01, -4.29601334e-02, -5.57885885e-01,\n",
       "        3.12432766e-01, -1.17466502e-01,  2.00617611e-01,  3.31218131e-02,\n",
       "       -1.13870084e-01, -2.24849984e-01, -7.44714439e-02,  1.58413708e-01,\n",
       "        2.84693480e-01, -7.70932287e-02, -1.26998842e-01, -2.40470216e-01,\n",
       "       -1.04749754e-01, -4.69804794e-01,  2.61231720e-01, -4.65674490e-01,\n",
       "        1.32835165e-01, -2.41179779e-01, -8.63956735e-02,  4.43717502e-02,\n",
       "        5.23098350e-01, -2.31644273e-01, -2.89927926e-02, -3.52043360e-02,\n",
       "       -7.52988768e+00, -1.57418743e-01, -2.54741371e-01,  2.57081270e-01,\n",
       "        5.22358343e-03, -6.77974001e-02, -1.32639050e-01,  5.48592448e-01,\n",
       "        1.07041351e-01,  2.07527369e-01,  1.19163178e-01, -1.33047611e-01,\n",
       "        5.49711049e-01, -9.17709172e-02,  1.59482515e+00, -1.77997708e-01,\n",
       "        3.38682711e-01, -5.94791956e-02, -5.71428947e-02,  1.67127997e-01,\n",
       "       -8.43729638e-03, -6.39750659e-02, -2.77175039e-01,  2.50421107e-01,\n",
       "        2.13032607e-02, -1.48544775e-03,  3.15729678e-01, -1.24163456e-01,\n",
       "        2.73127347e-01, -1.97088182e-01,  4.81472127e-02, -2.58679003e-01,\n",
       "        8.55633914e-02,  1.54936910e-02,  2.45189205e-01,  6.70594648e-02,\n",
       "        1.70464367e-01, -9.24054980e-02,  3.45792532e-01,  2.40553007e-01,\n",
       "       -1.84117526e-01,  9.05708671e-01,  3.33185613e-01, -6.17050678e-02,\n",
       "       -1.85825318e-01, -3.78670931e-01, -1.83003664e-01,  9.35840011e-02,\n",
       "        1.99524820e-01,  3.43102753e-01, -1.04939200e-01,  2.36354873e-01,\n",
       "        2.82549001e-02,  1.81365833e-02, -4.50261742e-01, -1.41506091e-01,\n",
       "       -8.16824883e-02,  3.81533206e-01,  6.22267909e-02, -1.42085716e-01,\n",
       "        9.58554029e-01,  2.12207492e-02,  1.77454606e-01, -5.98484695e-01,\n",
       "        8.74961764e-02, -1.05805032e-01,  1.63828462e-01,  2.17639327e-01,\n",
       "        4.67634993e-04, -3.99516702e-01, -2.71068394e-01,  5.68599021e-03,\n",
       "       -3.36290777e-01, -6.38217866e-01,  2.78489947e-01,  6.51954234e-01,\n",
       "        6.57481551e-02,  2.21256185e-02, -7.06947222e-02, -1.80131227e-01,\n",
       "       -4.80644912e-01, -2.45749891e-01, -1.47770092e-01, -2.22393543e-01,\n",
       "        1.17908642e-01, -2.84673363e-01,  1.23340441e-02, -4.56278890e-01,\n",
       "        1.96201786e-01, -2.35310331e-01,  8.87196809e-02,  2.88674772e-01,\n",
       "       -5.37057936e-01,  2.29078338e-01,  1.06682070e-02,  2.67315865e-01,\n",
       "       -2.62917966e-01,  8.33488943e-04,  2.13597134e-01, -2.65127927e-01,\n",
       "       -1.11405566e-01, -3.49528790e-01,  2.32272550e-01,  1.33670075e-02,\n",
       "        2.75163591e-01, -2.58376598e-01, -1.50651217e-01,  1.16570286e-01,\n",
       "        1.34745929e-02, -1.97023638e-02, -1.00149579e-01, -3.04911155e-02,\n",
       "        2.45251194e-01, -3.77101690e-01, -3.56735196e-03, -3.22486401e-01,\n",
       "        2.75345862e-01,  2.12792128e-01,  3.46911162e-01,  3.35398912e-01,\n",
       "        3.29142630e-01,  3.65303367e-01, -3.80658358e-01, -1.93512991e-01,\n",
       "       -4.04358208e-01,  2.31651172e-01,  3.04469675e-01, -3.68199587e-01,\n",
       "       -2.86317766e-01,  1.45798594e-01, -1.30120888e-01, -3.51734017e-03,\n",
       "        7.47871324e-02,  1.32096112e-02, -1.59564480e-01,  3.88986096e-02,\n",
       "       -4.16967720e-01, -2.89397925e-01,  1.36060789e-02, -1.90188512e-02,\n",
       "        2.59404480e-01,  1.68922961e-01, -9.09641758e-02,  3.70558143e-01,\n",
       "        2.04687968e-01, -1.00623518e-01,  2.10788101e-01,  1.80649921e-01,\n",
       "       -1.03099778e-01, -3.81677561e-02,  1.65860027e-01, -2.92851269e-01,\n",
       "       -2.66667604e-01, -6.25048041e-01, -1.08434305e-01,  5.11341631e-01,\n",
       "       -2.02249289e-01,  2.05516875e-01, -9.82524902e-02,  1.09372944e-01,\n",
       "       -1.34317920e-01,  5.29665351e-02, -1.43642187e-01, -2.39513107e-02,\n",
       "       -1.82799473e-01,  6.23960420e-02,  4.79795963e-01,  5.14339516e-03,\n",
       "        2.44759038e-01,  1.51406020e-01,  4.18531597e-01, -6.91851616e-01,\n",
       "       -1.56384006e-01, -3.07113647e-01, -4.07867610e-01, -1.24559715e-01,\n",
       "        1.10655792e-01, -5.54437796e-03,  8.22146013e-02, -5.48446737e-03,\n",
       "        1.69593766e-02, -1.44181088e-01,  6.06195629e-02, -2.40811035e-01,\n",
       "       -3.42044771e-01, -9.68866944e-02, -1.76072136e-01, -9.00979862e-02,\n",
       "       -1.02376878e-01, -2.01438278e-01, -4.48324263e-01,  3.10932361e-02,\n",
       "       -1.55091491e-02,  2.71802396e-01, -5.69924235e-01,  2.00268924e-01,\n",
       "       -3.09455872e-01,  9.36615691e-02,  8.34443271e-02, -4.19814931e-03,\n",
       "        2.04081535e-01,  2.35708773e-01, -1.21889293e-01,  1.69362038e-01,\n",
       "       -1.12384689e+00, -2.50837579e-02,  4.77469526e-02,  3.87311190e-01,\n",
       "        2.81833023e-01,  5.95777519e-02,  2.74249822e-01, -2.10007504e-01,\n",
       "        4.43081297e-02,  1.24673195e-01, -2.66447067e-01,  1.73646241e-01,\n",
       "        2.43320331e-01,  3.26349825e-01, -2.97323287e-01, -1.04771510e-01,\n",
       "        9.00087118e-01, -9.28030089e-02,  1.39851286e-03, -2.02543229e-01,\n",
       "        2.40701094e-01,  3.28058660e-01, -7.33131096e-02, -1.68812782e-01,\n",
       "        2.53669798e-01,  1.52611268e+00, -1.89543188e-01, -4.47954327e-01,\n",
       "        3.22603494e-01,  6.15055673e-02,  1.38001800e-01, -1.17717378e-01,\n",
       "       -3.56634527e-01,  2.47304887e-01,  3.15910876e-01,  4.81893271e-02,\n",
       "       -1.93064451e-01,  1.37344375e-01, -1.32070124e-01, -2.99934652e-02,\n",
       "       -1.25209957e-01,  1.17098980e-01,  1.90598235e-01,  1.38817251e-01,\n",
       "        1.96423978e-01, -3.93432498e-01, -2.66041577e-01,  3.32792461e-01,\n",
       "       -1.45799071e-01, -9.37019587e-02,  5.53610101e-02, -2.05444023e-01,\n",
       "        2.79778391e-01, -3.91414911e-02, -5.31318426e-01, -1.00989662e-01,\n",
       "        5.02330244e-01, -1.37877852e-01, -2.02787332e-02, -5.15871882e-01,\n",
       "       -3.06764662e-01, -2.00348049e-01, -7.86282122e-02, -2.50247151e-01,\n",
       "       -1.81440666e-01, -2.68039376e-01,  1.44577576e-02, -6.16955832e-02,\n",
       "       -1.49219131e+00,  7.07283840e-02, -1.55323401e-01, -7.98001215e-02,\n",
       "        6.33060113e-02,  1.63243830e-01, -5.74400984e-02,  1.95084348e-01,\n",
       "        1.96216539e-01,  2.03235015e-01,  2.97724068e-01,  2.49969284e-03,\n",
       "        1.96723676e+00, -3.21612433e-02, -7.62908459e-02,  1.39259368e-01,\n",
       "        6.15517460e-02, -2.06409529e-01,  8.36521834e-02, -2.29632810e-01,\n",
       "        2.37627238e-01,  7.51125291e-02,  7.88991302e-02,  6.12924471e-02,\n",
       "       -6.54653832e-02,  1.14223874e+00,  7.34687924e-01, -2.91464686e-01,\n",
       "       -1.11121938e-01, -2.11981922e-01, -2.39413586e-02, -1.43857449e-01,\n",
       "       -3.29800509e-02, -1.99485168e-01, -1.08926989e-01,  1.49727732e-01,\n",
       "        1.75136149e-01,  3.55667263e-01,  1.08526385e+00, -2.33736396e-01,\n",
       "       -1.55924885e-02, -1.78872451e-01, -2.04485565e-01,  1.69980720e-01,\n",
       "       -1.37113094e-01, -3.29651058e-01,  8.94575641e-02, -1.08340792e-02,\n",
       "        3.21345538e-01, -3.61021936e-01,  8.97174142e-03, -6.10424057e-02,\n",
       "       -1.48208454e-01,  2.66778827e-01, -6.55929506e-01, -2.79244035e-01,\n",
       "       -6.02859318e-01, -9.90613997e-02,  5.49192846e-01,  1.31313547e-01,\n",
       "       -2.46552244e-01,  5.28135896e-02,  8.11169371e-02,  3.53623211e-01,\n",
       "       -1.51138544e+00,  1.60985678e-01,  5.28462082e-02, -2.68556047e-02,\n",
       "        1.26094961e+00,  8.68138745e-02, -2.05587775e-01, -4.85371619e-01,\n",
       "       -4.17374402e-01,  4.27679159e-02, -3.07030678e-01,  4.96504530e-02,\n",
       "       -2.65823543e-01,  1.98131695e-01, -6.07432052e-02,  3.48527908e-01,\n",
       "        8.52668285e-02, -1.30065724e-01,  3.11105132e-01, -1.89547683e-03,\n",
       "        9.66790225e-03, -7.07728183e-03, -4.69356716e-01, -3.73705089e-01,\n",
       "       -8.47903604e-04, -3.32475543e-01, -3.77861224e-02, -6.74713179e-02,\n",
       "       -1.18818037e-01,  2.39323765e-01, -2.23278627e-02, -2.14124098e-01,\n",
       "       -3.20270866e-01, -4.64530326e-02,  5.62295131e-02,  2.15118974e-01,\n",
       "        1.35099560e-01, -6.34090751e-02,  2.45721757e-01, -1.08692266e-01,\n",
       "       -6.24518692e-01,  9.13850218e-02, -3.00223887e-01, -4.56241891e-02,\n",
       "        4.98972088e-02,  1.11143619e-01,  5.18346839e-02, -2.51231134e-01,\n",
       "       -1.09774679e-01, -4.16629799e-02,  2.45627746e-01, -1.82198778e-01,\n",
       "       -2.70949621e-02,  8.94709900e-02,  3.18609215e-02,  1.04240693e-01,\n",
       "        3.09766114e-01, -9.82053131e-02,  2.39036202e-01, -9.53656584e-02,\n",
       "        7.43259639e-02,  3.62761095e-02,  3.89995307e-01,  4.52811159e-02,\n",
       "        1.09665617e-01, -3.07583898e-01, -4.15294856e-01, -2.04119440e-02,\n",
       "       -1.55613804e-02,  4.34497558e-02, -4.26971465e-02,  1.73507743e-02,\n",
       "        1.23017378e-01,  5.33788651e-02,  2.52569973e-01, -1.68620795e-01,\n",
       "        6.20048940e-01,  2.41339639e-01,  2.47957274e-01,  8.56944248e-02,\n",
       "        1.71203345e-01,  5.21953046e-01,  2.97927320e-01, -8.66808929e-03],\n",
       "      dtype=float32)"
      ]
     },
     "execution_count": 19,
     "metadata": {},
     "output_type": "execute_result"
    }
   ],
   "source": [
    "yclip_test_pred[233]"
   ]
  },
  {
   "cell_type": "code",
   "execution_count": null,
   "id": "190b1e26",
   "metadata": {},
   "outputs": [],
   "source": []
  },
  {
   "cell_type": "markdown",
   "id": "cbe39405",
   "metadata": {},
   "source": [
    "## Ridge model"
   ]
  },
  {
   "cell_type": "code",
   "execution_count": 20,
   "id": "200b3f10",
   "metadata": {},
   "outputs": [
    {
     "name": "stdout",
     "output_type": "stream",
     "text": [
      "Default sklearn Ridge CLIP-to-SPoSE R2: 0.48726410602795295\n"
     ]
    }
   ],
   "source": [
    "# checking data for issues by doing CLIP-to-SPoSE (which is supposed to work)\n",
    "model = Ridge()\n",
    "model.fit(xclip_train, yspose_train)\n",
    "yspose_test_pred = model.predict(xclip_test)\n",
    "\n",
    "print(\"Default sklearn Ridge CLIP-to-SPoSE R2:\", r2_score(yspose_test, yspose_test_pred))"
   ]
  },
  {
   "cell_type": "code",
   "execution_count": 23,
   "id": "140be33b",
   "metadata": {},
   "outputs": [
    {
     "name": "stdout",
     "output_type": "stream",
     "text": [
      "sklearn CV-Ridge CLIP-to-SPoSE R2: 0.5148705488754908\n"
     ]
    }
   ],
   "source": [
    "# checking data for issues by doing CLIP-to-SPoSE (which is supposed to work)\n",
    "model = RidgeCV()\n",
    "clf = model.fit(xclip_train, yspose_train)\n",
    "print(\"sklearn CV-Ridge CLIP-to-SPoSE R2:\", clf.score(xclip_train, yspose_train) )"
   ]
  },
  {
   "cell_type": "code",
   "execution_count": 30,
   "id": "83eef859",
   "metadata": {},
   "outputs": [
    {
     "name": "stderr",
     "output_type": "stream",
     "text": [
      "/Users/katja/ownCloud/PostDocMPICBS/_sposesleep/big-spose-sleep/big_sleep/ridge.py:8: RuntimeWarning: divide by zero encountered in true_divide\n",
      "  zs = lambda v: (v-v.mean(0))/v.std(0) ## z-score function\n",
      "/Users/katja/anaconda3/lib/python3.7/site-packages/numpy/core/_methods.py:178: RuntimeWarning: invalid value encountered in reduce\n",
      "  ret = umr_sum(arr, axis, dtype, out, keepdims, where=where)\n"
     ]
    },
    {
     "name": "stdout",
     "output_type": "stream",
     "text": [
      "CPU times: user 5.23 s, sys: 1.08 s, total: 6.31 s\n",
      "Wall time: 841 ms\n"
     ]
    }
   ],
   "source": [
    "%%time\n",
    "wt, corr, valphas, bscorrs, valinds = bootstrap_ridge(xspose_train, yclip_train,\n",
    "                                                      xspose_test, yclip_test, \n",
    "                                                      alphas=np.logspace(-100, 100, 60),\n",
    "                                                      nboots=5,\n",
    "                                                      chunklen=10, nchunks=15, return_wt=True)"
   ]
  },
  {
   "cell_type": "code",
   "execution_count": 34,
   "id": "1b0f5256",
   "metadata": {},
   "outputs": [
    {
     "name": "stdout",
     "output_type": "stream",
     "text": [
      "Pearson score: 0.42788085\n",
      "R2 score: 0.23764935063586742\n",
      "MSE: 0.08273465283753259\n"
     ]
    }
   ],
   "source": [
    "yclip_test_pred = np.dot(xspose_test, wt)\n",
    "\n",
    "print(\"Pearson score:\", np.mean(calc_corrs(yclip_test, yclip_test_pred)))\n",
    "\n",
    "print(\"R2 score:\", r2_score(yclip_test, yclip_test_pred, multioutput='variance_weighted'))\n",
    "\n",
    "print(\"MSE:\", mean_squared_error(yclip_test, yclip_test_pred))\n",
    "# Pearson score: 0.42788085\n",
    "# R2 score: 0.23764935063586742\n",
    "# MSE: 0.08273465283753259"
   ]
  },
  {
   "cell_type": "code",
   "execution_count": 125,
   "id": "4a753a1a",
   "metadata": {},
   "outputs": [
    {
     "name": "stdout",
     "output_type": "stream",
     "text": [
      "0.42757745111063405\n"
     ]
    }
   ],
   "source": [
    "print(np.mean(corr))  # 0.68"
   ]
  },
  {
   "cell_type": "code",
   "execution_count": null,
   "id": "fb64c6ae",
   "metadata": {},
   "outputs": [],
   "source": [
    "# train on all data\n",
    "wt, corr, valphas, bscorrs, valinds = bootstrap_ridge(x_spose_vecs, y_clip_vecs, \n",
    "                                                      xspose_test, yclip_test,\n",
    "                                                      alphas=np.logspace(-2, 100, 100),\n",
    "                                                      nboots=5,\n",
    "                                                      chunklen=10, nchunks=15, return_wt=True)"
   ]
  },
  {
   "cell_type": "markdown",
   "id": "65808d55",
   "metadata": {},
   "source": [
    "## Model test ground"
   ]
  },
  {
   "cell_type": "code",
   "execution_count": 33,
   "id": "2d3f20cc",
   "metadata": {},
   "outputs": [
    {
     "name": "stdout",
     "output_type": "stream",
     "text": [
      "Default LinearRegression SPoSE-to-CLIP R2: 0.19375703244804993\n"
     ]
    }
   ],
   "source": [
    "# checking data for issues by doing CLIP-to-SPoSE (which is supposed to work)\n",
    "model = LinearRegression()\n",
    "model.fit(xspose_train, yclip_train)\n",
    "yclip_test_pred = model.predict(xspose_test)\n",
    "\n",
    "print(\"Default LinearRegression SPoSE-to-CLIP R2:\", r2_score(yclip_test, yclip_test_pred))"
   ]
  },
  {
   "cell_type": "code",
   "execution_count": 5,
   "id": "55b3d666",
   "metadata": {},
   "outputs": [
    {
     "name": "stdout",
     "output_type": "stream",
     "text": [
      "Default XGBRegressor SPoSE-to-CLIP R2: 0.4962098745787638\n",
      "CPU times: user 3h 58min 11s, sys: 5min 44s, total: 4h 3min 56s\n",
      "Wall time: 16min 23s\n"
     ]
    }
   ],
   "source": [
    "%%time\n",
    "\n",
    "# fitting\n",
    "model = MultiOutputRegressor(xgb.XGBRegressor(objective='reg:squarederror'))\n",
    "model.fit(xspose_train, yclip_train)\n",
    "yclip_test_pred = model.predict(xspose_test)\n",
    "\n",
    "print(\"Default XGBRegressor SPoSE-to-CLIP R2:\", r2_score(yclip_test, yclip_test_pred))"
   ]
  },
  {
   "cell_type": "code",
   "execution_count": 46,
   "id": "b6e35597",
   "metadata": {},
   "outputs": [
    {
     "data": {
      "text/plain": [
       "'\\nparams = {\"objective\":\"reg:linear\",\\'colsample_bytree\\': 0.3,\\'learning_rate\\': 0.1,\\n                \\'max_depth\\': 5, \\'alpha\\': 10}\\n\\ncv_results = xgb.cv(dtrain=data_dmatrix, params=params, nfold=3,\\n                    num_boost_round=50,early_stopping_rounds=10,metrics=\"rmse\", as_pandas=True, seed=123)\\n'"
      ]
     },
     "execution_count": 46,
     "metadata": {},
     "output_type": "execute_result"
    }
   ],
   "source": [
    "\"\"\"\n",
    "params = {\"objective\":\"reg:linear\",'colsample_bytree': 0.3,'learning_rate': 0.1,\n",
    "                'max_depth': 5, 'al                'max_depth': 5, 'alpha': 10}\n",
    "pha': 10}\n",
    "\n",
    "cv_results = xgb.cv(dtrain=data_dmatrix, params=params, nfold=3,\n",
    "                    num_boost_round=50,early_stopping_rounds=10,metrics=\"rmse\", as_pandas=True, seed=123)\n",
    "# https://www.datacamp.com/community/tutorials/xgboost-in-python\n",
    "\"\"\""
   ]
  },
  {
   "cell_type": "code",
   "execution_count": 34,
   "id": "0486e446",
   "metadata": {},
   "outputs": [
    {
     "name": "stdout",
     "output_type": "stream",
     "text": [
      "Default LinearRegression SPoSE-to-CLIP R2: 0.1937618314739155\n"
     ]
    }
   ],
   "source": [
    "# checking data for issues by doing CLIP-to-SPoSE (which is supposed to work)\n",
    "model = Ridge()\n",
    "model.fit(xspose_train, yclip_train)\n",
    "yclip_test_pred = model.predict(xspose_test)\n",
    "\n",
    "print(\"Default RidgeRegression SPoSE-to-CLIP R2:\", r2_score(yclip_test, yclip_test_pred))"
   ]
  },
  {
   "cell_type": "code",
   "execution_count": 126,
   "id": "9b050bef",
   "metadata": {},
   "outputs": [
    {
     "data": {
      "text/plain": [
       "(49, 512)"
      ]
     },
     "execution_count": 126,
     "metadata": {},
     "output_type": "execute_result"
    }
   ],
   "source": [
    "wt.shape"
   ]
  },
  {
   "cell_type": "code",
   "execution_count": 116,
   "id": "b3545dec",
   "metadata": {},
   "outputs": [],
   "source": []
  },
  {
   "cell_type": "code",
   "execution_count": 124,
   "id": "98790b2a",
   "metadata": {},
   "outputs": [
    {
     "data": {
      "text/plain": [
       "0.795284011669666"
      ]
     },
     "execution_count": 124,
     "metadata": {},
     "output_type": "execute_result"
    }
   ],
   "source": [
    "np.max(corr)"
   ]
  },
  {
   "cell_type": "code",
   "execution_count": null,
   "id": "6f48092b",
   "metadata": {},
   "outputs": [],
   "source": []
  },
  {
   "cell_type": "code",
   "execution_count": 133,
   "id": "bc8a8348",
   "metadata": {},
   "outputs": [],
   "source": []
  },
  {
   "cell_type": "code",
   "execution_count": 134,
   "id": "222a7b2c",
   "metadata": {},
   "outputs": [
    {
     "name": "stdout",
     "output_type": "stream",
     "text": [
      "0.42767548855293525\n"
     ]
    }
   ],
   "source": [
    "print(np.mean(corr))  # 0.68"
   ]
  },
  {
   "cell_type": "code",
   "execution_count": 136,
   "id": "92926b69",
   "metadata": {},
   "outputs": [],
   "source": [
    "savemat('big_sleep/data/W_aridge_spose_to_clip.mat', {'W':wt} )"
   ]
  },
  {
   "cell_type": "code",
   "execution_count": null,
   "id": "b92f0221",
   "metadata": {},
   "outputs": [],
   "source": []
  },
  {
   "cell_type": "code",
   "execution_count": 101,
   "id": "f171064d",
   "metadata": {},
   "outputs": [
    {
     "data": {
      "text/plain": [
       "0.5128427207844467"
      ]
     },
     "execution_count": 101,
     "metadata": {},
     "output_type": "execute_result"
    }
   ],
   "source": [
    "# checking data for issues by doing CLIP-to-SPoSE (which is supposed to work)\n",
    "model = MultiTaskLassoCV()\n",
    "clf = model.fit(xclip_train, yspose_train)\n",
    "clf.score(xclip_train, yspose_train)"
   ]
  },
  {
   "cell_type": "code",
   "execution_count": 102,
   "id": "14477c68",
   "metadata": {},
   "outputs": [
    {
     "data": {
      "text/plain": [
       "0.5127160482374192"
      ]
     },
     "execution_count": 102,
     "metadata": {},
     "output_type": "execute_result"
    }
   ],
   "source": [
    "# checking data for issues by doing CLIP-to-SPoSE (which is supposed to work)\n",
    "model = MultiTaskElasticNetCV()\n",
    "clf = model.fit(xclip_train, yspose_train)\n",
    "clf.score(xclip_train, yspose_train)"
   ]
  },
  {
   "cell_type": "code",
   "execution_count": null,
   "id": "67175cdf",
   "metadata": {},
   "outputs": [],
   "source": [
    "# TODO: set up modeling with CLIP-to-spose\n",
    "\n",
    "# TODO: standard scaler\n",
    "# TODO: compare regression methods: https://towardsdatascience.com/quickly-test-multiple-models-a98477476f0\n",
    "# TODO: determine best parameters via CV\n",
    "# TODO: try alexridge"
   ]
  },
  {
   "cell_type": "code",
   "execution_count": null,
   "id": "2223ff6f",
   "metadata": {},
   "outputs": [],
   "source": [
    "# TODO: set up modeling with CLIP-to-spose\n",
    "\n"
   ]
  },
  {
   "cell_type": "code",
   "execution_count": 31,
   "id": "175fbc9a",
   "metadata": {},
   "outputs": [],
   "source": [
    "model = MultiTaskElasticNet()\n",
    "model.fit(xspose_train, yclip_train)\n",
    "yclip_test_pred = model.predict(xspose_test)\n",
    "\n",
    "# TODO: determine best parameters"
   ]
  },
  {
   "cell_type": "code",
   "execution_count": 32,
   "id": "e0891141",
   "metadata": {},
   "outputs": [],
   "source": [
    "model = MultiTaskLasso()\n",
    "model.fit(xspose_train, yclip_train)\n",
    "yclip_test_pred = model.predict(xspose_test)"
   ]
  },
  {
   "cell_type": "code",
   "execution_count": 36,
   "id": "e8167e86",
   "metadata": {},
   "outputs": [
    {
     "name": "stdout",
     "output_type": "stream",
     "text": [
      "CPU times: user 3 µs, sys: 0 ns, total: 3 µs\n",
      "Wall time: 5.96 µs\n"
     ]
    }
   ],
   "source": [
    "%%time\n",
    "#yclip_test_pred = MultiOutputRegressor(GradientBoostingRegressor(random_state=0)).fit(xspose_train, yclip_train).predict(xspose_test)"
   ]
  },
  {
   "cell_type": "code",
   "execution_count": null,
   "id": "5a344664",
   "metadata": {},
   "outputs": [],
   "source": [
    "r2_score(yclip_test, yclip_test_pred)"
   ]
  },
  {
   "cell_type": "code",
   "execution_count": null,
   "id": "1b3f35e5",
   "metadata": {},
   "outputs": [],
   "source": [
    "model = LinearRegression()  # TODO: elasticNet\n",
    "# fit model\n",
    "model.fit(X, y)\n",
    "# make a prediction\n",
    "\n",
    "# define the evaluation procedure\n",
    "cv = RepeatedKFold(n_splits=10, n_repeats=3, random_state=1)\n",
    "# evaluate the model and collect the scores\n",
    "n_scores = cross_val_score(model, X, y, scoring='neg_mean_absolute_error', cv=cv, n_jobs=-1)\n",
    "# force the scores to be positive\n",
    "n_scores = absolute(n_scores)\n",
    "# summarize performance\n",
    "print('MAE: %.3f (%.3f)' % (mean(n_scores), std(n_scores)))\n"
   ]
  },
  {
   "cell_type": "code",
   "execution_count": null,
   "id": "62a1360d",
   "metadata": {},
   "outputs": [],
   "source": []
  },
  {
   "cell_type": "code",
   "execution_count": null,
   "id": "78b27c86",
   "metadata": {},
   "outputs": [],
   "source": []
  },
  {
   "cell_type": "code",
   "execution_count": null,
   "id": "0c0dd956",
   "metadata": {},
   "outputs": [],
   "source": []
  },
  {
   "cell_type": "code",
   "execution_count": null,
   "id": "7b01a09a",
   "metadata": {},
   "outputs": [],
   "source": []
  },
  {
   "cell_type": "code",
   "execution_count": null,
   "id": "4998f510",
   "metadata": {},
   "outputs": [],
   "source": []
  },
  {
   "cell_type": "code",
   "execution_count": null,
   "id": "bdb84d57",
   "metadata": {},
   "outputs": [],
   "source": []
  },
  {
   "cell_type": "code",
   "execution_count": null,
   "id": "a1ce0bc3",
   "metadata": {},
   "outputs": [],
   "source": []
  },
  {
   "cell_type": "code",
   "execution_count": null,
   "id": "62ddb898",
   "metadata": {},
   "outputs": [],
   "source": []
  },
  {
   "cell_type": "code",
   "execution_count": null,
   "id": "79be662e",
   "metadata": {},
   "outputs": [],
   "source": []
  },
  {
   "cell_type": "code",
   "execution_count": null,
   "id": "9d513b2e",
   "metadata": {},
   "outputs": [],
   "source": []
  },
  {
   "cell_type": "code",
   "execution_count": null,
   "id": "4354bb90",
   "metadata": {},
   "outputs": [],
   "source": []
  },
  {
   "cell_type": "code",
   "execution_count": null,
   "id": "f4e056e8",
   "metadata": {},
   "outputs": [],
   "source": []
  },
  {
   "cell_type": "code",
   "execution_count": null,
   "id": "c73d1117",
   "metadata": {},
   "outputs": [],
   "source": []
  },
  {
   "cell_type": "code",
   "execution_count": null,
   "id": "2ae71517",
   "metadata": {},
   "outputs": [],
   "source": []
  },
  {
   "cell_type": "code",
   "execution_count": null,
   "id": "bc4e5905",
   "metadata": {},
   "outputs": [],
   "source": []
  },
  {
   "cell_type": "code",
   "execution_count": null,
   "id": "142699be",
   "metadata": {},
   "outputs": [],
   "source": []
  }
 ],
 "metadata": {
  "kernelspec": {
   "display_name": "Python 3 (ipykernel)",
   "language": "python",
   "name": "python3"
  },
  "language_info": {
   "codemirror_mode": {
    "name": "ipython",
    "version": 3
   },
   "file_extension": ".py",
   "mimetype": "text/x-python",
   "name": "python",
   "nbconvert_exporter": "python",
   "pygments_lexer": "ipython3",
   "version": "3.7.11"
  }
 },
 "nbformat": 4,
 "nbformat_minor": 5
}
