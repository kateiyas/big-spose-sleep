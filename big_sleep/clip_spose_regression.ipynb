{
 "cells": [
  {
   "cell_type": "code",
   "execution_count": 1,
   "id": "477a1e72",
   "metadata": {},
   "outputs": [],
   "source": [
    "import numpy as np\n",
    "from sklearn.model_selection import cross_val_score\n",
    "from sklearn.multioutput import MultiOutputRegressor\n",
    "import xgboost as xgb\n",
    "from sklearn.linear_model import MultiTaskElasticNet, Ridge, RidgeCV, ElasticNet, ElasticNetCV, Lasso, MultiTaskLassoCV, LinearRegression\n",
    "from sklearn.metrics import mean_squared_error, accuracy_score, r2_score, explained_variance_score, mean_absolute_percentage_error\n",
    "from sklearn.model_selection import RandomizedSearchCV\n",
    "from sklearn.model_selection import KFold\n",
    "from scipy.io import loadmat, savemat\n",
    "from sklearn.preprocessing import StandardScaler\n",
    "from clip import load\n",
    "from big_spose_sleep import create_clip_img_transform\n",
    "import glob, pickle\n",
    "import torch\n",
    "from os.path import exists\n",
    "from scipy.stats import pearsonr\n",
    "#from ridge import ridge, ridge_corr, bootstrap_ridge\n",
    "\n",
    "from sklearn.ensemble import GradientBoostingClassifier\n",
    "#https://scikit-learn.org/stable/modules/generated/sklearn.linear_model.ElasticNet.html#sklearn.linear_model.ElasticNet\n",
    "\n",
    "from torchvision import datasets, transforms\n",
    "\n",
    "from sklearn.datasets import make_regression\n",
    "from sklearn.model_selection import train_test_split\n",
    "\n",
    "from sklearn.multioutput import MultiOutputRegressor\n",
    "from sklearn.ensemble import GradientBoostingRegressor, HistGradientBoostingRegressor"
   ]
  },
  {
   "cell_type": "code",
   "execution_count": 2,
   "id": "207d7a2e",
   "metadata": {},
   "outputs": [],
   "source": [
    "def calc_corrs(timesrs_test, timesrs_pred): \n",
    "    corr_by_ft = {}\n",
    "\n",
    "    ft_n = timesrs_test.shape[1]\n",
    "    corr_by_ft = np.array([ pearsonr(timesrs_test[:,ft_i], \n",
    "                                     timesrs_pred[:,ft_i])[0] for ft_i in range(ft_n) ]).astype('float32')\n",
    "    return corr_by_ft"
   ]
  },
  {
   "cell_type": "markdown",
   "id": "bbe86d78",
   "metadata": {},
   "source": [
    "## Extract CLIP features"
   ]
  },
  {
   "cell_type": "code",
   "execution_count": 3,
   "id": "cdfe5a32",
   "metadata": {},
   "outputs": [],
   "source": [
    "thingsroot = \"/Users/katja/Documents/Data/THINGS/\"\n",
    "\n",
    "thingsimgfns = thingsroot+\"/images/{}/*.*\"\n",
    "\n",
    "regr_data_fn = \"../../data_spose_to_clip.mat\"\n",
    "\n",
    "reextract_data = False\n",
    "\n",
    "thingscats = []\n",
    "with open(thingsroot+\"THINGS_unique_IDs.txt\", 'r') as handle:\n",
    "    lines = handle.readlines()\n",
    "    for line in lines:\n",
    "        line = line.strip()\n",
    "        if len(line)>0:\n",
    "            thingscats.append(line)\n",
    "\n",
    "assert(len(thingscats)==1854)\n",
    "\n",
    "spose_cat_emb = np.loadtxt(thingsroot+\"spose_embedding_49d_sorted.txt\")\n",
    "\n",
    "assert(len(thingscats)==spose_cat_emb.shape[0])\n",
    "\n",
    "clip_perceptor, _ = load('ViT-B/32', jit = False)\n",
    "clip_transform = create_clip_img_transform(224)"
   ]
  },
  {
   "cell_type": "code",
   "execution_count": 4,
   "id": "8874670e",
   "metadata": {},
   "outputs": [
    {
     "name": "stdout",
     "output_type": "stream",
     "text": [
      "Number of THINGS images found: 26107\n",
      "Compose(\n",
      "    Resize(size=224, interpolation=bilinear, max_size=None, antialias=None)\n",
      "    CenterCrop(size=(224, 224))\n",
      "    ToTensor()\n",
      "    Normalize(mean=[0.48145466, 0.4578275, 0.40821073], std=[0.26862954, 0.26130258, 0.27577711])\n",
      ")\n"
     ]
    }
   ],
   "source": [
    "thingsimgs = datasets.ImageFolder(thingsroot+'/images/', transform=clip_transform)\n",
    "thingsloader = torch.utils.data.DataLoader(thingsimgs, batch_size=1, shuffle=False)\n",
    "\n",
    "print(\"Number of THINGS images found:\", len(thingsloader))\n",
    "\n",
    "print(clip_transform)\n",
    "\n",
    "num_imgs = len(thingsloader)"
   ]
  },
  {
   "cell_type": "code",
   "execution_count": 5,
   "id": "d0a5b1e3",
   "metadata": {},
   "outputs": [],
   "source": [
    "# Looping through it, get a batch on each loop, check data shape\n",
    "\n",
    "show_shapes = False\n",
    "if show_shapes: \n",
    "    show_num = 50\n",
    "    for i, (thingsimg, catID) in enumerate(thingsloader): \n",
    "        print(thingscats[catID])\n",
    "        print(thingsimg.shape)\n",
    "        if i > show_num:\n",
    "            break"
   ]
  },
  {
   "cell_type": "code",
   "execution_count": 6,
   "id": "23120728",
   "metadata": {},
   "outputs": [
    {
     "name": "stdout",
     "output_type": "stream",
     "text": [
      "CPU times: user 34.5 ms, sys: 66.1 ms, total: 101 ms\n",
      "Wall time: 102 ms\n"
     ]
    }
   ],
   "source": [
    "%%time\n",
    "#https://www.datacamp.com/community/tutorials/xgboost-in-python\n",
    "\n",
    "if not exists(regr_data_fn) and reextract_data:\n",
    "    # CPU times: user 1h 7min 42s, sys: 2min 53s, total: 1h 10min 36s\n",
    "    # Wall time: 1h 8min 37s\n",
    "\n",
    "    x_spose_vecs = np.zeros([num_imgs,49])  # X: SPoSE vectors (same for each cat)\n",
    "    y_clip_vecs = np.zeros([num_imgs,512])  # Y: clip vectors\n",
    "\n",
    "    # Load data\n",
    "    img_i = 0\n",
    "    for i, (thingsimg, catID) in enumerate(thingsloader):\n",
    "\n",
    "        x_spose_vecs[i,:] = spose_cat_emb[catID,:] \n",
    "        y_clip_vecs[i,:] = clip_perceptor.encode_image(thingsimg).detach().numpy().squeeze()\n",
    "\n",
    "        img_i += 1\n",
    "\n",
    "    savemat(regr_data_fn, {\"x_spose\":x_spose_vecs, \"y_clip\":y_clip_vecs})\n",
    "else: \n",
    "    regr_data = loadmat(regr_data_fn)\n",
    "    x_spose_vecs = regr_data[\"x_spose\"]\n",
    "    y_clip_vecs = regr_data[\"y_clip\"]"
   ]
  },
  {
   "cell_type": "code",
   "execution_count": 7,
   "id": "662f2d54",
   "metadata": {},
   "outputs": [
    {
     "name": "stdout",
     "output_type": "stream",
     "text": [
      "X shape: (26107, 49)\n",
      "Y shape: (26107, 512)\n"
     ]
    }
   ],
   "source": [
    "print(\"X shape:\", x_spose_vecs.shape)\n",
    "print(\"Y shape:\", y_clip_vecs.shape)\n",
    "\n",
    "xspose_train, xspose_test, yclip_train, yclip_test = train_test_split( x_spose_vecs, \n",
    "                                                                       y_clip_vecs, \n",
    "                                                                       test_size=0.10, \n",
    "                                                                       random_state=42)\n",
    "\n",
    "xclip_train, xclip_test, yspose_train, yspose_test = train_test_split( y_clip_vecs, \n",
    "                                                                       x_spose_vecs, \n",
    "                                                                       test_size=0.10, \n",
    "                                                                       random_state=42)"
   ]
  },
  {
   "cell_type": "code",
   "execution_count": 8,
   "id": "36a5c277",
   "metadata": {},
   "outputs": [],
   "source": [
    "if False: # scaling\n",
    "    scaler = StandardScaler()\n",
    "    xspose_train = scaler.fit_transform(xspose_train)\n",
    "    xspose_test = scaler.fit_transform(xspose_test)\n",
    "    \n",
    "    xclip_train = scaler.fit_transform(xclip_train)\n",
    "    xclip_test = scaler.fit_transform(xclip_test)"
   ]
  },
  {
   "cell_type": "markdown",
   "id": "c40654f1",
   "metadata": {},
   "source": [
    "## xgboost model"
   ]
  },
  {
   "cell_type": "code",
   "execution_count": 58,
   "id": "9c519a99",
   "metadata": {},
   "outputs": [
    {
     "ename": "TypeError",
     "evalue": "Parameter value is not iterable or distribution (key='early_stopping_rounds', value=5)",
     "output_type": "error",
     "traceback": [
      "\u001b[0;31m---------------------------------------------------------------------------\u001b[0m",
      "\u001b[0;31mTypeError\u001b[0m                                 Traceback (most recent call last)",
      "\u001b[0;32m<timed exec>\u001b[0m in \u001b[0;36m<module>\u001b[0;34m\u001b[0m\n",
      "\u001b[0;32m~/anaconda3/lib/python3.7/site-packages/sklearn/model_selection/_search.py\u001b[0m in \u001b[0;36mfit\u001b[0;34m(self, X, y, groups, **fit_params)\u001b[0m\n\u001b[1;32m    889\u001b[0m                 \u001b[0;32mreturn\u001b[0m \u001b[0mresults\u001b[0m\u001b[0;34m\u001b[0m\u001b[0;34m\u001b[0m\u001b[0m\n\u001b[1;32m    890\u001b[0m \u001b[0;34m\u001b[0m\u001b[0m\n\u001b[0;32m--> 891\u001b[0;31m             \u001b[0mself\u001b[0m\u001b[0;34m.\u001b[0m\u001b[0m_run_search\u001b[0m\u001b[0;34m(\u001b[0m\u001b[0mevaluate_candidates\u001b[0m\u001b[0;34m)\u001b[0m\u001b[0;34m\u001b[0m\u001b[0;34m\u001b[0m\u001b[0m\n\u001b[0m\u001b[1;32m    892\u001b[0m \u001b[0;34m\u001b[0m\u001b[0m\n\u001b[1;32m    893\u001b[0m             \u001b[0;31m# multimetric is determined here because in the case of a callable\u001b[0m\u001b[0;34m\u001b[0m\u001b[0;34m\u001b[0m\u001b[0;34m\u001b[0m\u001b[0m\n",
      "\u001b[0;32m~/anaconda3/lib/python3.7/site-packages/sklearn/model_selection/_search.py\u001b[0m in \u001b[0;36m_run_search\u001b[0;34m(self, evaluate_candidates)\u001b[0m\n\u001b[1;32m   1766\u001b[0m         evaluate_candidates(\n\u001b[1;32m   1767\u001b[0m             ParameterSampler(\n\u001b[0;32m-> 1768\u001b[0;31m                 \u001b[0mself\u001b[0m\u001b[0;34m.\u001b[0m\u001b[0mparam_distributions\u001b[0m\u001b[0;34m,\u001b[0m \u001b[0mself\u001b[0m\u001b[0;34m.\u001b[0m\u001b[0mn_iter\u001b[0m\u001b[0;34m,\u001b[0m \u001b[0mrandom_state\u001b[0m\u001b[0;34m=\u001b[0m\u001b[0mself\u001b[0m\u001b[0;34m.\u001b[0m\u001b[0mrandom_state\u001b[0m\u001b[0;34m\u001b[0m\u001b[0;34m\u001b[0m\u001b[0m\n\u001b[0m\u001b[1;32m   1769\u001b[0m             )\n\u001b[1;32m   1770\u001b[0m         )\n",
      "\u001b[0;32m~/anaconda3/lib/python3.7/site-packages/sklearn/model_selection/_search.py\u001b[0m in \u001b[0;36m__init__\u001b[0;34m(self, param_distributions, n_iter, random_state)\u001b[0m\n\u001b[1;32m    266\u001b[0m                     raise TypeError(\n\u001b[1;32m    267\u001b[0m                         \u001b[0;34m\"Parameter value is not iterable \"\u001b[0m\u001b[0;34m\u001b[0m\u001b[0;34m\u001b[0m\u001b[0m\n\u001b[0;32m--> 268\u001b[0;31m                         \u001b[0;34m\"or distribution (key={!r}, value={!r})\"\u001b[0m\u001b[0;34m.\u001b[0m\u001b[0mformat\u001b[0m\u001b[0;34m(\u001b[0m\u001b[0mkey\u001b[0m\u001b[0;34m,\u001b[0m \u001b[0mdist\u001b[0m\u001b[0;34m[\u001b[0m\u001b[0mkey\u001b[0m\u001b[0;34m]\u001b[0m\u001b[0;34m)\u001b[0m\u001b[0;34m\u001b[0m\u001b[0;34m\u001b[0m\u001b[0m\n\u001b[0m\u001b[1;32m    269\u001b[0m                     )\n\u001b[1;32m    270\u001b[0m         \u001b[0mself\u001b[0m\u001b[0;34m.\u001b[0m\u001b[0mn_iter\u001b[0m \u001b[0;34m=\u001b[0m \u001b[0mn_iter\u001b[0m\u001b[0;34m\u001b[0m\u001b[0;34m\u001b[0m\u001b[0m\n",
      "\u001b[0;31mTypeError\u001b[0m: Parameter value is not iterable or distribution (key='early_stopping_rounds', value=5)"
     ]
    }
   ],
   "source": [
    "%%time\n",
    "# on hyperparameter tuning: https://github.com/KSpiliop/Fraud_Detection\n",
    "# visual guide parameter tuning: \n",
    "# https://kevinvecmanis.io/machine%20learning/hyperparameter%20tuning/dataviz/python/2019/05/11/XGBoost-Tuning-Visual-Guide.html\n",
    "# https://stackoverflow.com/questions/69786993/tuning-xgboost-hyperparameters-with-randomizedsearchcv\n",
    "\n",
    "model = MultiOutputRegressor( xgb.XGBRegressor(), n_jobs=-1)\n",
    "\n",
    "grid = {  'n_estimators': [100, 500, 900, 1100, 1500],\n",
    "          'max_depth': [2, 3, 5, 10, 15],\n",
    "          'learning_rate': [0.05, 0.1, 0.15, 0.20],\n",
    "          'min_child_weight': [1, 2, 3, 4]    }\n",
    "\n",
    "kfold = KFold(n_splits=5, shuffle=True, random_state=10)\n",
    "\n",
    "grid_search = RandomizedSearchCV(model, param_grid, scoring=\"r2\", n_jobs=-1, verbose=1, n_iter = 500, cv=kfold)\n",
    "grid_result = grid_search.fit(xspose_train, yclip_train, **param_grid)"
   ]
  },
  {
   "cell_type": "code",
   "execution_count": 16,
   "id": "62dc70ee",
   "metadata": {},
   "outputs": [
    {
     "name": "stdout",
     "output_type": "stream",
     "text": [
      "Fitting 5 folds for each of 50 candidates, totalling 250 fits\n"
     ]
    },
    {
     "ename": "KeyboardInterrupt",
     "evalue": "",
     "output_type": "error",
     "traceback": [
      "\u001b[0;31m---------------------------------------------------------------------------\u001b[0m",
      "\u001b[0;31mKeyboardInterrupt\u001b[0m                         Traceback (most recent call last)",
      "\u001b[0;32m<timed exec>\u001b[0m in \u001b[0;36m<module>\u001b[0;34m\u001b[0m\n",
      "\u001b[0;32m~/anaconda3/lib/python3.7/site-packages/sklearn/model_selection/_search.py\u001b[0m in \u001b[0;36mfit\u001b[0;34m(self, X, y, groups, **fit_params)\u001b[0m\n\u001b[1;32m    889\u001b[0m                 \u001b[0;32mreturn\u001b[0m \u001b[0mresults\u001b[0m\u001b[0;34m\u001b[0m\u001b[0;34m\u001b[0m\u001b[0m\n\u001b[1;32m    890\u001b[0m \u001b[0;34m\u001b[0m\u001b[0m\n\u001b[0;32m--> 891\u001b[0;31m             \u001b[0mself\u001b[0m\u001b[0;34m.\u001b[0m\u001b[0m_run_search\u001b[0m\u001b[0;34m(\u001b[0m\u001b[0mevaluate_candidates\u001b[0m\u001b[0;34m)\u001b[0m\u001b[0;34m\u001b[0m\u001b[0;34m\u001b[0m\u001b[0m\n\u001b[0m\u001b[1;32m    892\u001b[0m \u001b[0;34m\u001b[0m\u001b[0m\n\u001b[1;32m    893\u001b[0m             \u001b[0;31m# multimetric is determined here because in the case of a callable\u001b[0m\u001b[0;34m\u001b[0m\u001b[0;34m\u001b[0m\u001b[0;34m\u001b[0m\u001b[0m\n",
      "\u001b[0;32m~/anaconda3/lib/python3.7/site-packages/sklearn/model_selection/_search.py\u001b[0m in \u001b[0;36m_run_search\u001b[0;34m(self, evaluate_candidates)\u001b[0m\n\u001b[1;32m   1766\u001b[0m         evaluate_candidates(\n\u001b[1;32m   1767\u001b[0m             ParameterSampler(\n\u001b[0;32m-> 1768\u001b[0;31m                 \u001b[0mself\u001b[0m\u001b[0;34m.\u001b[0m\u001b[0mparam_distributions\u001b[0m\u001b[0;34m,\u001b[0m \u001b[0mself\u001b[0m\u001b[0;34m.\u001b[0m\u001b[0mn_iter\u001b[0m\u001b[0;34m,\u001b[0m \u001b[0mrandom_state\u001b[0m\u001b[0;34m=\u001b[0m\u001b[0mself\u001b[0m\u001b[0;34m.\u001b[0m\u001b[0mrandom_state\u001b[0m\u001b[0;34m\u001b[0m\u001b[0;34m\u001b[0m\u001b[0m\n\u001b[0m\u001b[1;32m   1769\u001b[0m             )\n\u001b[1;32m   1770\u001b[0m         )\n",
      "\u001b[0;32m~/anaconda3/lib/python3.7/site-packages/sklearn/model_selection/_search.py\u001b[0m in \u001b[0;36mevaluate_candidates\u001b[0;34m(candidate_params, cv, more_results)\u001b[0m\n\u001b[1;32m    849\u001b[0m                     )\n\u001b[1;32m    850\u001b[0m                     for (cand_idx, parameters), (split_idx, (train, test)) in product(\n\u001b[0;32m--> 851\u001b[0;31m                         \u001b[0menumerate\u001b[0m\u001b[0;34m(\u001b[0m\u001b[0mcandidate_params\u001b[0m\u001b[0;34m)\u001b[0m\u001b[0;34m,\u001b[0m \u001b[0menumerate\u001b[0m\u001b[0;34m(\u001b[0m\u001b[0mcv\u001b[0m\u001b[0;34m.\u001b[0m\u001b[0msplit\u001b[0m\u001b[0;34m(\u001b[0m\u001b[0mX\u001b[0m\u001b[0;34m,\u001b[0m \u001b[0my\u001b[0m\u001b[0;34m,\u001b[0m \u001b[0mgroups\u001b[0m\u001b[0;34m)\u001b[0m\u001b[0;34m)\u001b[0m\u001b[0;34m\u001b[0m\u001b[0;34m\u001b[0m\u001b[0m\n\u001b[0m\u001b[1;32m    852\u001b[0m                     )\n\u001b[1;32m    853\u001b[0m                 )\n",
      "\u001b[0;32m~/anaconda3/lib/python3.7/site-packages/joblib/parallel.py\u001b[0m in \u001b[0;36m__call__\u001b[0;34m(self, iterable)\u001b[0m\n\u001b[1;32m   1054\u001b[0m \u001b[0;34m\u001b[0m\u001b[0m\n\u001b[1;32m   1055\u001b[0m             \u001b[0;32mwith\u001b[0m \u001b[0mself\u001b[0m\u001b[0;34m.\u001b[0m\u001b[0m_backend\u001b[0m\u001b[0;34m.\u001b[0m\u001b[0mretrieval_context\u001b[0m\u001b[0;34m(\u001b[0m\u001b[0;34m)\u001b[0m\u001b[0;34m:\u001b[0m\u001b[0;34m\u001b[0m\u001b[0;34m\u001b[0m\u001b[0m\n\u001b[0;32m-> 1056\u001b[0;31m                 \u001b[0mself\u001b[0m\u001b[0;34m.\u001b[0m\u001b[0mretrieve\u001b[0m\u001b[0;34m(\u001b[0m\u001b[0;34m)\u001b[0m\u001b[0;34m\u001b[0m\u001b[0;34m\u001b[0m\u001b[0m\n\u001b[0m\u001b[1;32m   1057\u001b[0m             \u001b[0;31m# Make sure that we get a last message telling us we are done\u001b[0m\u001b[0;34m\u001b[0m\u001b[0;34m\u001b[0m\u001b[0;34m\u001b[0m\u001b[0m\n\u001b[1;32m   1058\u001b[0m             \u001b[0melapsed_time\u001b[0m \u001b[0;34m=\u001b[0m \u001b[0mtime\u001b[0m\u001b[0;34m.\u001b[0m\u001b[0mtime\u001b[0m\u001b[0;34m(\u001b[0m\u001b[0;34m)\u001b[0m \u001b[0;34m-\u001b[0m \u001b[0mself\u001b[0m\u001b[0;34m.\u001b[0m\u001b[0m_start_time\u001b[0m\u001b[0;34m\u001b[0m\u001b[0;34m\u001b[0m\u001b[0m\n",
      "\u001b[0;32m~/anaconda3/lib/python3.7/site-packages/joblib/parallel.py\u001b[0m in \u001b[0;36mretrieve\u001b[0;34m(self)\u001b[0m\n\u001b[1;32m    933\u001b[0m             \u001b[0;32mtry\u001b[0m\u001b[0;34m:\u001b[0m\u001b[0;34m\u001b[0m\u001b[0;34m\u001b[0m\u001b[0m\n\u001b[1;32m    934\u001b[0m                 \u001b[0;32mif\u001b[0m \u001b[0mgetattr\u001b[0m\u001b[0;34m(\u001b[0m\u001b[0mself\u001b[0m\u001b[0;34m.\u001b[0m\u001b[0m_backend\u001b[0m\u001b[0;34m,\u001b[0m \u001b[0;34m'supports_timeout'\u001b[0m\u001b[0;34m,\u001b[0m \u001b[0;32mFalse\u001b[0m\u001b[0;34m)\u001b[0m\u001b[0;34m:\u001b[0m\u001b[0;34m\u001b[0m\u001b[0;34m\u001b[0m\u001b[0m\n\u001b[0;32m--> 935\u001b[0;31m                     \u001b[0mself\u001b[0m\u001b[0;34m.\u001b[0m\u001b[0m_output\u001b[0m\u001b[0;34m.\u001b[0m\u001b[0mextend\u001b[0m\u001b[0;34m(\u001b[0m\u001b[0mjob\u001b[0m\u001b[0;34m.\u001b[0m\u001b[0mget\u001b[0m\u001b[0;34m(\u001b[0m\u001b[0mtimeout\u001b[0m\u001b[0;34m=\u001b[0m\u001b[0mself\u001b[0m\u001b[0;34m.\u001b[0m\u001b[0mtimeout\u001b[0m\u001b[0;34m)\u001b[0m\u001b[0;34m)\u001b[0m\u001b[0;34m\u001b[0m\u001b[0;34m\u001b[0m\u001b[0m\n\u001b[0m\u001b[1;32m    936\u001b[0m                 \u001b[0;32melse\u001b[0m\u001b[0;34m:\u001b[0m\u001b[0;34m\u001b[0m\u001b[0;34m\u001b[0m\u001b[0m\n\u001b[1;32m    937\u001b[0m                     \u001b[0mself\u001b[0m\u001b[0;34m.\u001b[0m\u001b[0m_output\u001b[0m\u001b[0;34m.\u001b[0m\u001b[0mextend\u001b[0m\u001b[0;34m(\u001b[0m\u001b[0mjob\u001b[0m\u001b[0;34m.\u001b[0m\u001b[0mget\u001b[0m\u001b[0;34m(\u001b[0m\u001b[0;34m)\u001b[0m\u001b[0;34m)\u001b[0m\u001b[0;34m\u001b[0m\u001b[0;34m\u001b[0m\u001b[0m\n",
      "\u001b[0;32m~/anaconda3/lib/python3.7/site-packages/joblib/_parallel_backends.py\u001b[0m in \u001b[0;36mwrap_future_result\u001b[0;34m(future, timeout)\u001b[0m\n\u001b[1;32m    540\u001b[0m         AsyncResults.get from multiprocessing.\"\"\"\n\u001b[1;32m    541\u001b[0m         \u001b[0;32mtry\u001b[0m\u001b[0;34m:\u001b[0m\u001b[0;34m\u001b[0m\u001b[0;34m\u001b[0m\u001b[0m\n\u001b[0;32m--> 542\u001b[0;31m             \u001b[0;32mreturn\u001b[0m \u001b[0mfuture\u001b[0m\u001b[0;34m.\u001b[0m\u001b[0mresult\u001b[0m\u001b[0;34m(\u001b[0m\u001b[0mtimeout\u001b[0m\u001b[0;34m=\u001b[0m\u001b[0mtimeout\u001b[0m\u001b[0;34m)\u001b[0m\u001b[0;34m\u001b[0m\u001b[0;34m\u001b[0m\u001b[0m\n\u001b[0m\u001b[1;32m    543\u001b[0m         \u001b[0;32mexcept\u001b[0m \u001b[0mCfTimeoutError\u001b[0m \u001b[0;32mas\u001b[0m \u001b[0me\u001b[0m\u001b[0;34m:\u001b[0m\u001b[0;34m\u001b[0m\u001b[0;34m\u001b[0m\u001b[0m\n\u001b[1;32m    544\u001b[0m             \u001b[0;32mraise\u001b[0m \u001b[0mTimeoutError\u001b[0m \u001b[0;32mfrom\u001b[0m \u001b[0me\u001b[0m\u001b[0;34m\u001b[0m\u001b[0;34m\u001b[0m\u001b[0m\n",
      "\u001b[0;32m~/anaconda3/lib/python3.7/concurrent/futures/_base.py\u001b[0m in \u001b[0;36mresult\u001b[0;34m(self, timeout)\u001b[0m\n\u001b[1;32m    428\u001b[0m                 \u001b[0;32mreturn\u001b[0m \u001b[0mself\u001b[0m\u001b[0;34m.\u001b[0m\u001b[0m__get_result\u001b[0m\u001b[0;34m(\u001b[0m\u001b[0;34m)\u001b[0m\u001b[0;34m\u001b[0m\u001b[0;34m\u001b[0m\u001b[0m\n\u001b[1;32m    429\u001b[0m \u001b[0;34m\u001b[0m\u001b[0m\n\u001b[0;32m--> 430\u001b[0;31m             \u001b[0mself\u001b[0m\u001b[0;34m.\u001b[0m\u001b[0m_condition\u001b[0m\u001b[0;34m.\u001b[0m\u001b[0mwait\u001b[0m\u001b[0;34m(\u001b[0m\u001b[0mtimeout\u001b[0m\u001b[0;34m)\u001b[0m\u001b[0;34m\u001b[0m\u001b[0;34m\u001b[0m\u001b[0m\n\u001b[0m\u001b[1;32m    431\u001b[0m \u001b[0;34m\u001b[0m\u001b[0m\n\u001b[1;32m    432\u001b[0m             \u001b[0;32mif\u001b[0m \u001b[0mself\u001b[0m\u001b[0;34m.\u001b[0m\u001b[0m_state\u001b[0m \u001b[0;32min\u001b[0m \u001b[0;34m[\u001b[0m\u001b[0mCANCELLED\u001b[0m\u001b[0;34m,\u001b[0m \u001b[0mCANCELLED_AND_NOTIFIED\u001b[0m\u001b[0;34m]\u001b[0m\u001b[0;34m:\u001b[0m\u001b[0;34m\u001b[0m\u001b[0;34m\u001b[0m\u001b[0m\n",
      "\u001b[0;32m~/anaconda3/lib/python3.7/threading.py\u001b[0m in \u001b[0;36mwait\u001b[0;34m(self, timeout)\u001b[0m\n\u001b[1;32m    294\u001b[0m         \u001b[0;32mtry\u001b[0m\u001b[0;34m:\u001b[0m    \u001b[0;31m# restore state no matter what (e.g., KeyboardInterrupt)\u001b[0m\u001b[0;34m\u001b[0m\u001b[0;34m\u001b[0m\u001b[0m\n\u001b[1;32m    295\u001b[0m             \u001b[0;32mif\u001b[0m \u001b[0mtimeout\u001b[0m \u001b[0;32mis\u001b[0m \u001b[0;32mNone\u001b[0m\u001b[0;34m:\u001b[0m\u001b[0;34m\u001b[0m\u001b[0;34m\u001b[0m\u001b[0m\n\u001b[0;32m--> 296\u001b[0;31m                 \u001b[0mwaiter\u001b[0m\u001b[0;34m.\u001b[0m\u001b[0macquire\u001b[0m\u001b[0;34m(\u001b[0m\u001b[0;34m)\u001b[0m\u001b[0;34m\u001b[0m\u001b[0;34m\u001b[0m\u001b[0m\n\u001b[0m\u001b[1;32m    297\u001b[0m                 \u001b[0mgotit\u001b[0m \u001b[0;34m=\u001b[0m \u001b[0;32mTrue\u001b[0m\u001b[0;34m\u001b[0m\u001b[0;34m\u001b[0m\u001b[0m\n\u001b[1;32m    298\u001b[0m             \u001b[0;32melse\u001b[0m\u001b[0;34m:\u001b[0m\u001b[0;34m\u001b[0m\u001b[0;34m\u001b[0m\u001b[0m\n",
      "\u001b[0;31mKeyboardInterrupt\u001b[0m: "
     ]
    }
   ],
   "source": [
    "%%time\n",
    "# on hyperparameter tuning: https://github.com/KSpiliop/Fraud_Detection\n",
    "# visual guide parameter tuning: \n",
    "# https://kevinvecmanis.io/machine%20learning/hyperparameter%20tuning/dataviz/python/2019/05/11/XGBoost-Tuning-Visual-Guide.html\n",
    "# https://stackoverflow.com/questions/69786993/tuning-xgboost-hyperparameters-with-randomizedsearchcv\n",
    "# example with multioutput and randomsearchcv: \n",
    "# https://stackoverflow.com/questions/43532811/gridsearch-over-multioutputregressor\n",
    "\n",
    "regressor = xgb.XGBRegressor()\n",
    "multiregressor = MultiOutputRegressor( estimator=regressor ) \n",
    "\n",
    "hyparam_grid = {  'estimator__n_estimators': [100, 500, 900, 1100, 1500],\n",
    "                  'estimator__max_depth': [2, 3, 5, 10, 15],\n",
    "                  'estimator__learning_rate': [0.05, 0.1, 0.15, 0.20],\n",
    "                  'estimator__min_child_weight': [1, 2, 3, 4]   }\n",
    "\n",
    "# Set up the random search with 4-fold cross validation\n",
    "random_cv = RandomizedSearchCV( estimator=multiregressor,\n",
    "                                param_distributions=hyparam_grid,\n",
    "                                cv=5, n_iter=50, n_jobs=-1, \n",
    "                                scoring = 'neg_mean_absolute_error', \n",
    "                                verbose = 5, \n",
    "                                return_train_score = True,\n",
    "                                random_state=42 )\n",
    "\n",
    "random_cv.fit(xspose_train, yclip_train)\n",
    "\n",
    "print( \"Best estimater:\\n\", random_cv.best_estimator_ )"
   ]
  },
  {
   "cell_type": "code",
   "execution_count": 31,
   "id": "2ed70f02",
   "metadata": {},
   "outputs": [],
   "source": [
    "model = MultiOutputRegressor( xgb.XGBRegressor() )\n",
    "model.fit(xspose_train, yclip_train)\n",
    "yclip_test_pred = model.predict(xspose_test)"
   ]
  },
  {
   "cell_type": "code",
   "execution_count": 32,
   "id": "b615304c",
   "metadata": {},
   "outputs": [
    {
     "name": "stdout",
     "output_type": "stream",
     "text": [
      "Pearson score: 0.70394534\n",
      "R2 score: 0.5203283862199036\n"
     ]
    }
   ],
   "source": [
    "print(\"Pearson score:\", np.mean(calc_corrs(yclip_test, yclip_test_pred)))\n",
    "\n",
    "print(\"R2 score:\", r2_score(yclip_test, yclip_test_pred, multioutput='variance_weighted'))\n",
    "# Pearson score: 0.70394534\n",
    "# R2 score: 0.5203283862199036"
   ]
  },
  {
   "cell_type": "code",
   "execution_count": 33,
   "id": "12d35744",
   "metadata": {},
   "outputs": [
    {
     "data": {
      "text/plain": [
       "MultiOutputRegressor(estimator=XGBRegressor(base_score=None, booster=None,\n",
       "                                            colsample_bylevel=None,\n",
       "                                            colsample_bynode=None,\n",
       "                                            colsample_bytree=None,\n",
       "                                            enable_categorical=False,\n",
       "                                            gamma=None, gpu_id=None,\n",
       "                                            importance_type=None,\n",
       "                                            interaction_constraints=None,\n",
       "                                            learning_rate=None,\n",
       "                                            max_delta_step=None, max_depth=None,\n",
       "                                            min_child_weight=None, missing=nan,\n",
       "                                            monotone_constraints=None,\n",
       "                                            n_estimators=100, n_jobs=None,\n",
       "                                            num_parallel_tree=None,\n",
       "                                            predictor=None, random_state=None,\n",
       "                                            reg_alpha=None, reg_lambda=None,\n",
       "                                            scale_pos_weight=None,\n",
       "                                            subsample=None, tree_method=None,\n",
       "                                            validate_parameters=None,\n",
       "                                            verbosity=None))"
      ]
     },
     "execution_count": 33,
     "metadata": {},
     "output_type": "execute_result"
    }
   ],
   "source": [
    "# train on all data\n",
    "modelfull = MultiOutputRegressor( xgb.XGBRegressor() )\n",
    "modelfull.fit(x_spose_vecs, y_clip_vecs)"
   ]
  },
  {
   "cell_type": "code",
   "execution_count": 34,
   "id": "685b95f1",
   "metadata": {},
   "outputs": [],
   "source": [
    "# save all data model\n",
    "#with open('../../xgb_spose_to_clip_defaultmodel.pkl','wb') as f:\n",
    "#    pickle.dump(modelfull,f)"
   ]
  },
  {
   "cell_type": "code",
   "execution_count": 10,
   "id": "d9052a29",
   "metadata": {},
   "outputs": [],
   "source": [
    "# load for trying\n",
    "with open('../../xgb_spose_to_clip_defaultmodel.pkl', 'rb') as f:\n",
    "    modelfull = pickle.load(f)"
   ]
  },
  {
   "cell_type": "code",
   "execution_count": 11,
   "id": "8046aad9",
   "metadata": {},
   "outputs": [],
   "source": [
    "yclip_test_pred = modelfull.predict(xspose_test)"
   ]
  },
  {
   "cell_type": "code",
   "execution_count": 12,
   "id": "ab8ae86c",
   "metadata": {},
   "outputs": [
    {
     "name": "stdout",
     "output_type": "stream",
     "text": [
      "Pearson score: 0.7517518\n"
     ]
    }
   ],
   "source": [
    "print(\"Pearson score:\", np.mean(calc_corrs(yclip_test, yclip_test_pred)))"
   ]
  },
  {
   "cell_type": "code",
   "execution_count": null,
   "id": "216ba5c3",
   "metadata": {},
   "outputs": [],
   "source": []
  },
  {
   "cell_type": "code",
   "execution_count": null,
   "id": "190b1e26",
   "metadata": {},
   "outputs": [],
   "source": []
  },
  {
   "cell_type": "markdown",
   "id": "cbe39405",
   "metadata": {},
   "source": [
    "## Ridge model"
   ]
  },
  {
   "cell_type": "code",
   "execution_count": 20,
   "id": "200b3f10",
   "metadata": {},
   "outputs": [
    {
     "name": "stdout",
     "output_type": "stream",
     "text": [
      "Default sklearn Ridge CLIP-to-SPoSE R2: 0.48726410602795295\n"
     ]
    }
   ],
   "source": [
    "# checking data for issues by doing CLIP-to-SPoSE (which is supposed to work)\n",
    "model = Ridge()\n",
    "model.fit(xclip_train, yspose_train)\n",
    "yspose_test_pred = model.predict(xclip_test)\n",
    "\n",
    "print(\"Default sklearn Ridge CLIP-to-SPoSE R2:\", r2_score(yspose_test, yspose_test_pred))"
   ]
  },
  {
   "cell_type": "code",
   "execution_count": 23,
   "id": "140be33b",
   "metadata": {},
   "outputs": [
    {
     "name": "stdout",
     "output_type": "stream",
     "text": [
      "sklearn CV-Ridge CLIP-to-SPoSE R2: 0.5148705488754908\n"
     ]
    }
   ],
   "source": [
    "# checking data for issues by doing CLIP-to-SPoSE (which is supposed to work)\n",
    "model = RidgeCV()\n",
    "clf = model.fit(xclip_train, yspose_train)\n",
    "print(\"sklearn CV-Ridge CLIP-to-SPoSE R2:\", clf.score(xclip_train, yspose_train) )"
   ]
  },
  {
   "cell_type": "code",
   "execution_count": 25,
   "id": "83eef859",
   "metadata": {},
   "outputs": [
    {
     "data": {
      "text/plain": [
       "'\\nwt, corr, valphas, bscorrs, valinds = bootstrap_ridge(xclip_train, yspose_train, \\n                                                      xclip_test, yspose_test,\\n                                                      alphas=np.logspace(-100, 100, 60),\\n                                                      nboots=5,\\n                                                      chunklen=10, nchunks=15, return_wt=True)\\n'"
      ]
     },
     "execution_count": 25,
     "metadata": {},
     "output_type": "execute_result"
    }
   ],
   "source": [
    "wt, corr, valphas, bscorrs, valinds = bootstrap_ridge(xclip_train, yspose_train, \n",
    "                                                      xclip_test, yspose_test,\n",
    "                                                      alphas=np.logspace(-100, 100, 60),\n",
    "                                                      nboots=5,\n",
    "                                                      chunklen=10, nchunks=15, return_wt=True)"
   ]
  },
  {
   "cell_type": "code",
   "execution_count": 113,
   "id": "1b0f5256",
   "metadata": {},
   "outputs": [],
   "source": [
    "wt, corr, valphas, bscorrs, valinds = bootstrap_ridge(xspose_train, yclip_train, \n",
    "                                                      xspose_test, yclip_test,\n",
    "                                                      alphas=np.logspace(-2, 100, 100),\n",
    "                                                      nboots=5,\n",
    "                                                      chunklen=10, nchunks=15, return_wt=True)"
   ]
  },
  {
   "cell_type": "code",
   "execution_count": 125,
   "id": "4a753a1a",
   "metadata": {},
   "outputs": [
    {
     "name": "stdout",
     "output_type": "stream",
     "text": [
      "0.42757745111063405\n"
     ]
    }
   ],
   "source": [
    "print(np.mean(corr))  # 0.68"
   ]
  },
  {
   "cell_type": "code",
   "execution_count": null,
   "id": "fb64c6ae",
   "metadata": {},
   "outputs": [],
   "source": [
    "# train on all data\n",
    "wt, corr, valphas, bscorrs, valinds = bootstrap_ridge(x_spose_vecs, y_clip_vecs, \n",
    "                                                      xspose_test, yclip_test,\n",
    "                                                      alphas=np.logspace(-2, 100, 100),\n",
    "                                                      nboots=5,\n",
    "                                                      chunklen=10, nchunks=15, return_wt=True)"
   ]
  },
  {
   "cell_type": "markdown",
   "id": "65808d55",
   "metadata": {},
   "source": [
    "## Model test ground"
   ]
  },
  {
   "cell_type": "code",
   "execution_count": 33,
   "id": "2d3f20cc",
   "metadata": {},
   "outputs": [
    {
     "name": "stdout",
     "output_type": "stream",
     "text": [
      "Default LinearRegression SPoSE-to-CLIP R2: 0.19375703244804993\n"
     ]
    }
   ],
   "source": [
    "# checking data for issues by doing CLIP-to-SPoSE (which is supposed to work)\n",
    "model = LinearRegression()\n",
    "model.fit(xspose_train, yclip_train)\n",
    "yclip_test_pred = model.predict(xspose_test)\n",
    "\n",
    "print(\"Default LinearRegression SPoSE-to-CLIP R2:\", r2_score(yclip_test, yclip_test_pred))"
   ]
  },
  {
   "cell_type": "code",
   "execution_count": 5,
   "id": "55b3d666",
   "metadata": {},
   "outputs": [
    {
     "name": "stdout",
     "output_type": "stream",
     "text": [
      "Default XGBRegressor SPoSE-to-CLIP R2: 0.4962098745787638\n",
      "CPU times: user 3h 58min 11s, sys: 5min 44s, total: 4h 3min 56s\n",
      "Wall time: 16min 23s\n"
     ]
    }
   ],
   "source": [
    "%%time\n",
    "\n",
    "# fitting\n",
    "model = MultiOutputRegressor(xgb.XGBRegressor(objective='reg:squarederror'))\n",
    "model.fit(xspose_train, yclip_train)\n",
    "yclip_test_pred = model.predict(xspose_test)\n",
    "\n",
    "print(\"Default XGBRegressor SPoSE-to-CLIP R2:\", r2_score(yclip_test, yclip_test_pred))"
   ]
  },
  {
   "cell_type": "code",
   "execution_count": 46,
   "id": "b6e35597",
   "metadata": {},
   "outputs": [
    {
     "data": {
      "text/plain": [
       "'\\nparams = {\"objective\":\"reg:linear\",\\'colsample_bytree\\': 0.3,\\'learning_rate\\': 0.1,\\n                \\'max_depth\\': 5, \\'alpha\\': 10}\\n\\ncv_results = xgb.cv(dtrain=data_dmatrix, params=params, nfold=3,\\n                    num_boost_round=50,early_stopping_rounds=10,metrics=\"rmse\", as_pandas=True, seed=123)\\n'"
      ]
     },
     "execution_count": 46,
     "metadata": {},
     "output_type": "execute_result"
    }
   ],
   "source": [
    "\"\"\"\n",
    "params = {\"objective\":\"reg:linear\",'colsample_bytree': 0.3,'learning_rate': 0.1,\n",
    "                'max_depth': 5, 'al                'max_depth': 5, 'alpha': 10}\n",
    "pha': 10}\n",
    "\n",
    "cv_results = xgb.cv(dtrain=data_dmatrix, params=params, nfold=3,\n",
    "                    num_boost_round=50,early_stopping_rounds=10,metrics=\"rmse\", as_pandas=True, seed=123)\n",
    "# https://www.datacamp.com/community/tutorials/xgboost-in-python\n",
    "\"\"\""
   ]
  },
  {
   "cell_type": "code",
   "execution_count": 34,
   "id": "0486e446",
   "metadata": {},
   "outputs": [
    {
     "name": "stdout",
     "output_type": "stream",
     "text": [
      "Default LinearRegression SPoSE-to-CLIP R2: 0.1937618314739155\n"
     ]
    }
   ],
   "source": [
    "# checking data for issues by doing CLIP-to-SPoSE (which is supposed to work)\n",
    "model = Ridge()\n",
    "model.fit(xspose_train, yclip_train)\n",
    "yclip_test_pred = model.predict(xspose_test)\n",
    "\n",
    "print(\"Default RidgeRegression SPoSE-to-CLIP R2:\", r2_score(yclip_test, yclip_test_pred))"
   ]
  },
  {
   "cell_type": "code",
   "execution_count": 126,
   "id": "9b050bef",
   "metadata": {},
   "outputs": [
    {
     "data": {
      "text/plain": [
       "(49, 512)"
      ]
     },
     "execution_count": 126,
     "metadata": {},
     "output_type": "execute_result"
    }
   ],
   "source": [
    "wt.shape"
   ]
  },
  {
   "cell_type": "code",
   "execution_count": 116,
   "id": "b3545dec",
   "metadata": {},
   "outputs": [],
   "source": []
  },
  {
   "cell_type": "code",
   "execution_count": 124,
   "id": "98790b2a",
   "metadata": {},
   "outputs": [
    {
     "data": {
      "text/plain": [
       "0.795284011669666"
      ]
     },
     "execution_count": 124,
     "metadata": {},
     "output_type": "execute_result"
    }
   ],
   "source": [
    "np.max(corr)"
   ]
  },
  {
   "cell_type": "code",
   "execution_count": null,
   "id": "6f48092b",
   "metadata": {},
   "outputs": [],
   "source": []
  },
  {
   "cell_type": "code",
   "execution_count": 133,
   "id": "bc8a8348",
   "metadata": {},
   "outputs": [],
   "source": []
  },
  {
   "cell_type": "code",
   "execution_count": 134,
   "id": "222a7b2c",
   "metadata": {},
   "outputs": [
    {
     "name": "stdout",
     "output_type": "stream",
     "text": [
      "0.42767548855293525\n"
     ]
    }
   ],
   "source": [
    "print(np.mean(corr))  # 0.68"
   ]
  },
  {
   "cell_type": "code",
   "execution_count": 136,
   "id": "92926b69",
   "metadata": {},
   "outputs": [],
   "source": [
    "savemat('big_sleep/data/W_aridge_spose_to_clip.mat', {'W':wt} )"
   ]
  },
  {
   "cell_type": "code",
   "execution_count": null,
   "id": "b92f0221",
   "metadata": {},
   "outputs": [],
   "source": []
  },
  {
   "cell_type": "code",
   "execution_count": 101,
   "id": "f171064d",
   "metadata": {},
   "outputs": [
    {
     "data": {
      "text/plain": [
       "0.5128427207844467"
      ]
     },
     "execution_count": 101,
     "metadata": {},
     "output_type": "execute_result"
    }
   ],
   "source": [
    "# checking data for issues by doing CLIP-to-SPoSE (which is supposed to work)\n",
    "model = MultiTaskLassoCV()\n",
    "clf = model.fit(xclip_train, yspose_train)\n",
    "clf.score(xclip_train, yspose_train)"
   ]
  },
  {
   "cell_type": "code",
   "execution_count": 102,
   "id": "14477c68",
   "metadata": {},
   "outputs": [
    {
     "data": {
      "text/plain": [
       "0.5127160482374192"
      ]
     },
     "execution_count": 102,
     "metadata": {},
     "output_type": "execute_result"
    }
   ],
   "source": [
    "# checking data for issues by doing CLIP-to-SPoSE (which is supposed to work)\n",
    "model = MultiTaskElasticNetCV()\n",
    "clf = model.fit(xclip_train, yspose_train)\n",
    "clf.score(xclip_train, yspose_train)"
   ]
  },
  {
   "cell_type": "code",
   "execution_count": null,
   "id": "67175cdf",
   "metadata": {},
   "outputs": [],
   "source": [
    "# TODO: set up modeling with CLIP-to-spose\n",
    "\n",
    "# TODO: standard scaler\n",
    "# TODO: compare regression methods: https://towardsdatascience.com/quickly-test-multiple-models-a98477476f0\n",
    "# TODO: determine best parameters via CV\n",
    "# TODO: try alexridge"
   ]
  },
  {
   "cell_type": "code",
   "execution_count": null,
   "id": "2223ff6f",
   "metadata": {},
   "outputs": [],
   "source": [
    "# TODO: set up modeling with CLIP-to-spose\n",
    "\n"
   ]
  },
  {
   "cell_type": "code",
   "execution_count": 31,
   "id": "175fbc9a",
   "metadata": {},
   "outputs": [],
   "source": [
    "model = MultiTaskElasticNet()\n",
    "model.fit(xspose_train, yclip_train)\n",
    "yclip_test_pred = model.predict(xspose_test)\n",
    "\n",
    "# TODO: determine best parameters"
   ]
  },
  {
   "cell_type": "code",
   "execution_count": 32,
   "id": "e0891141",
   "metadata": {},
   "outputs": [],
   "source": [
    "model = MultiTaskLasso()\n",
    "model.fit(xspose_train, yclip_train)\n",
    "yclip_test_pred = model.predict(xspose_test)"
   ]
  },
  {
   "cell_type": "code",
   "execution_count": 36,
   "id": "e8167e86",
   "metadata": {},
   "outputs": [
    {
     "name": "stdout",
     "output_type": "stream",
     "text": [
      "CPU times: user 3 µs, sys: 0 ns, total: 3 µs\n",
      "Wall time: 5.96 µs\n"
     ]
    }
   ],
   "source": [
    "%%time\n",
    "#yclip_test_pred = MultiOutputRegressor(GradientBoostingRegressor(random_state=0)).fit(xspose_train, yclip_train).predict(xspose_test)"
   ]
  },
  {
   "cell_type": "code",
   "execution_count": null,
   "id": "5a344664",
   "metadata": {},
   "outputs": [],
   "source": [
    "r2_score(yclip_test, yclip_test_pred)"
   ]
  },
  {
   "cell_type": "code",
   "execution_count": null,
   "id": "1b3f35e5",
   "metadata": {},
   "outputs": [],
   "source": [
    "model = LinearRegression()  # TODO: elasticNet\n",
    "# fit model\n",
    "model.fit(X, y)\n",
    "# make a prediction\n",
    "\n",
    "# define the evaluation procedure\n",
    "cv = RepeatedKFold(n_splits=10, n_repeats=3, random_state=1)\n",
    "# evaluate the model and collect the scores\n",
    "n_scores = cross_val_score(model, X, y, scoring='neg_mean_absolute_error', cv=cv, n_jobs=-1)\n",
    "# force the scores to be positive\n",
    "n_scores = absolute(n_scores)\n",
    "# summarize performance\n",
    "print('MAE: %.3f (%.3f)' % (mean(n_scores), std(n_scores)))\n"
   ]
  },
  {
   "cell_type": "code",
   "execution_count": null,
   "id": "62a1360d",
   "metadata": {},
   "outputs": [],
   "source": []
  },
  {
   "cell_type": "code",
   "execution_count": null,
   "id": "78b27c86",
   "metadata": {},
   "outputs": [],
   "source": []
  },
  {
   "cell_type": "code",
   "execution_count": null,
   "id": "0c0dd956",
   "metadata": {},
   "outputs": [],
   "source": []
  },
  {
   "cell_type": "code",
   "execution_count": null,
   "id": "7b01a09a",
   "metadata": {},
   "outputs": [],
   "source": []
  },
  {
   "cell_type": "code",
   "execution_count": null,
   "id": "4998f510",
   "metadata": {},
   "outputs": [],
   "source": []
  },
  {
   "cell_type": "code",
   "execution_count": null,
   "id": "bdb84d57",
   "metadata": {},
   "outputs": [],
   "source": []
  },
  {
   "cell_type": "code",
   "execution_count": null,
   "id": "a1ce0bc3",
   "metadata": {},
   "outputs": [],
   "source": []
  },
  {
   "cell_type": "code",
   "execution_count": null,
   "id": "62ddb898",
   "metadata": {},
   "outputs": [],
   "source": []
  },
  {
   "cell_type": "code",
   "execution_count": null,
   "id": "79be662e",
   "metadata": {},
   "outputs": [],
   "source": []
  },
  {
   "cell_type": "code",
   "execution_count": null,
   "id": "9d513b2e",
   "metadata": {},
   "outputs": [],
   "source": []
  },
  {
   "cell_type": "code",
   "execution_count": null,
   "id": "4354bb90",
   "metadata": {},
   "outputs": [],
   "source": []
  },
  {
   "cell_type": "code",
   "execution_count": null,
   "id": "f4e056e8",
   "metadata": {},
   "outputs": [],
   "source": []
  },
  {
   "cell_type": "code",
   "execution_count": null,
   "id": "c73d1117",
   "metadata": {},
   "outputs": [],
   "source": []
  },
  {
   "cell_type": "code",
   "execution_count": null,
   "id": "2ae71517",
   "metadata": {},
   "outputs": [],
   "source": []
  },
  {
   "cell_type": "code",
   "execution_count": null,
   "id": "bc4e5905",
   "metadata": {},
   "outputs": [],
   "source": []
  },
  {
   "cell_type": "code",
   "execution_count": null,
   "id": "142699be",
   "metadata": {},
   "outputs": [],
   "source": []
  }
 ],
 "metadata": {
  "kernelspec": {
   "display_name": "Python 3 (ipykernel)",
   "language": "python",
   "name": "python3"
  },
  "language_info": {
   "codemirror_mode": {
    "name": "ipython",
    "version": 3
   },
   "file_extension": ".py",
   "mimetype": "text/x-python",
   "name": "python",
   "nbconvert_exporter": "python",
   "pygments_lexer": "ipython3",
   "version": "3.7.11"
  }
 },
 "nbformat": 4,
 "nbformat_minor": 5
}
