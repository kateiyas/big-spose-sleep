{
 "cells": [
  {
   "cell_type": "code",
   "execution_count": 38,
   "id": "477a1e72",
   "metadata": {},
   "outputs": [],
   "source": [
    "import numpy as np\n",
    "from sklearn.model_selection import cross_val_score\n",
    "from sklearn.multioutput import MultiOutputRegressor\n",
    "import xgboost as xgb\n",
    "from sklearn.linear_model import MultiTaskElasticNet, Ridge, RidgeCV, ElasticNet, ElasticNetCV, Lasso, MultiTaskLassoCV, LinearRegression\n",
    "from sklearn.metrics import mean_squared_error, accuracy_score, r2_score, explained_variance_score, mean_absolute_percentage_error\n",
    "from sklearn.model_selection import RandomizedSearchCV\n",
    "from sklearn.model_selection import KFold\n",
    "from scipy.io import loadmat, savemat\n",
    "from sklearn.preprocessing import StandardScaler\n",
    "from clip import load\n",
    "from big_spose_sleep import create_clip_img_transform\n",
    "import glob\n",
    "import torch\n",
    "from os.path import exists\n",
    "#from ridge import ridge, ridge_corr, bootstrap_ridge\n",
    "\n",
    "from sklearn.ensemble import GradientBoostingClassifier\n",
    "#https://scikit-learn.org/stable/modules/generated/sklearn.linear_model.ElasticNet.html#sklearn.linear_model.ElasticNet\n",
    "\n",
    "from torchvision import datasets, transforms\n",
    "\n",
    "from sklearn.datasets import make_regression\n",
    "from sklearn.model_selection import train_test_split\n",
    "\n",
    "from sklearn.multioutput import MultiOutputRegressor\n",
    "from sklearn.ensemble import GradientBoostingRegressor, HistGradientBoostingRegressor"
   ]
  },
  {
   "cell_type": "markdown",
   "id": "bbe86d78",
   "metadata": {},
   "source": [
    "## Extract CLIP features"
   ]
  },
  {
   "cell_type": "code",
   "execution_count": 15,
   "id": "cdfe5a32",
   "metadata": {},
   "outputs": [],
   "source": [
    "thingsroot = \"/Users/katja/Documents/Data/THINGS/\"\n",
    "\n",
    "thingsimgfns = thingsroot+\"/images/{}/*.*\"\n",
    "\n",
    "regr_data_fn = \"../../data_spose_to_clip.mat\"\n",
    "\n",
    "reextract_data = False\n",
    "\n",
    "thingscats = []\n",
    "with open(thingsroot+\"THINGS_unique_IDs.txt\", 'r') as handle:\n",
    "    lines = handle.readlines()\n",
    "    for line in lines:\n",
    "        line = line.strip()\n",
    "        if len(line)>0:\n",
    "            thingscats.append(line)\n",
    "\n",
    "assert(len(thingscats)==1854)\n",
    "\n",
    "spose_cat_emb = np.loadtxt(thingsroot+\"spose_embedding_49d_sorted.txt\")\n",
    "\n",
    "assert(len(thingscats)==spose_cat_emb.shape[0])\n",
    "\n",
    "clip_perceptor, _ = load('ViT-B/32', jit = False)\n",
    "clip_transform = create_clip_img_transform(224)"
   ]
  },
  {
   "cell_type": "code",
   "execution_count": 9,
   "id": "8874670e",
   "metadata": {},
   "outputs": [
    {
     "name": "stdout",
     "output_type": "stream",
     "text": [
      "Number of THINGS images found: 26107\n",
      "Compose(\n",
      "    Resize(size=224, interpolation=bilinear, max_size=None, antialias=None)\n",
      "    CenterCrop(size=(224, 224))\n",
      "    ToTensor()\n",
      "    Normalize(mean=[0.48145466, 0.4578275, 0.40821073], std=[0.26862954, 0.26130258, 0.27577711])\n",
      ")\n"
     ]
    }
   ],
   "source": [
    "thingsimgs = datasets.ImageFolder(thingsroot+'/images/', transform=clip_transform)\n",
    "thingsloader = torch.utils.data.DataLoader(thingsimgs, batch_size=1, shuffle=False)\n",
    "\n",
    "print(\"Number of THINGS images found:\", len(thingsloader))\n",
    "\n",
    "print(clip_transform)\n",
    "\n",
    "num_imgs = len(thingsloader)"
   ]
  },
  {
   "cell_type": "code",
   "execution_count": 13,
   "id": "d0a5b1e3",
   "metadata": {},
   "outputs": [],
   "source": [
    "# Looping through it, get a batch on each loop, check data shape\n",
    "\n",
    "show_shapes = False\n",
    "if show_shapes: \n",
    "    show_num = 50\n",
    "    for i, (thingsimg, catID) in enumerate(thingsloader): \n",
    "        print(thingscats[catID])\n",
    "        print(thingsimg.shape)\n",
    "        if i > show_num:\n",
    "            break"
   ]
  },
  {
   "cell_type": "code",
   "execution_count": 17,
   "id": "23120728",
   "metadata": {},
   "outputs": [
    {
     "name": "stdout",
     "output_type": "stream",
     "text": [
      "CPU times: user 35.6 ms, sys: 57.5 ms, total: 93.2 ms\n",
      "Wall time: 97.8 ms\n"
     ]
    }
   ],
   "source": [
    "%%time\n",
    "#https://www.datacamp.com/community/tutorials/xgboost-in-python\n",
    "\n",
    "if not exists(regr_data_fn) and reextract_data:\n",
    "    # CPU times: user 1h 7min 42s, sys: 2min 53s, total: 1h 10min 36s\n",
    "    # Wall time: 1h 8min 37s\n",
    "\n",
    "    x_spose_vecs = np.zeros([num_imgs,49])  # X: SPoSE vectors (same for each cat)\n",
    "    y_clip_vecs = np.zeros([num_imgs,512])  # Y: clip vectors\n",
    "\n",
    "    # Load data\n",
    "    img_i = 0\n",
    "    for i, (thingsimg, catID) in enumerate(thingsloader):\n",
    "\n",
    "        x_spose_vecs[i,:] = spose_cat_emb[catID,:] \n",
    "        y_clip_vecs[i,:] = clip_perceptor.encode_image(thingsimg).detach().numpy().squeeze()\n",
    "\n",
    "        img_i += 1\n",
    "\n",
    "    savemat(regr_data_fn, {\"x_spose\":x_spose_vecs, \"y_clip\":y_clip_vecs})\n",
    "else: \n",
    "    regr_data = loadmat(regr_data_fn)\n",
    "    x_spose_vecs = regr_data[\"x_spose\"]\n",
    "    y_clip_vecs = regr_data[\"y_clip\"]"
   ]
  },
  {
   "cell_type": "code",
   "execution_count": 18,
   "id": "662f2d54",
   "metadata": {},
   "outputs": [
    {
     "name": "stdout",
     "output_type": "stream",
     "text": [
      "X shape: (26107, 49)\n",
      "Y shape: (26107, 512)\n"
     ]
    }
   ],
   "source": [
    "print(\"X shape:\", x_spose_vecs.shape)\n",
    "print(\"Y shape:\", y_clip_vecs.shape)\n",
    "\n",
    "xspose_train, xspose_test, yclip_train, yclip_test = train_test_split( x_spose_vecs, \n",
    "                                                                       y_clip_vecs, \n",
    "                                                                       test_size=0.10, \n",
    "                                                                       random_state=42)\n",
    "\n",
    "xclip_train, xclip_test, yspose_train, yspose_test = train_test_split( y_clip_vecs, \n",
    "                                                                       x_spose_vecs, \n",
    "                                                                       test_size=0.10, \n",
    "                                                                       random_state=42)"
   ]
  },
  {
   "cell_type": "code",
   "execution_count": 35,
   "id": "36a5c277",
   "metadata": {},
   "outputs": [],
   "source": [
    "if True: # scaling\n",
    "    scaler = StandardScaler()\n",
    "    xspose_train = scaler.fit_transform(xspose_train)\n",
    "    xspose_test = scaler.fit_transform(xspose_test)\n",
    "    \n",
    "    xclip_train = scaler.fit_transform(xclip_train)\n",
    "    xclip_test = scaler.fit_transform(xclip_test)"
   ]
  },
  {
   "cell_type": "markdown",
   "id": "f664fff8",
   "metadata": {},
   "source": [
    "## xgboost model"
   ]
  },
  {
   "cell_type": "code",
   "execution_count": null,
   "id": "3e1509c2",
   "metadata": {},
   "outputs": [],
   "source": [
    "%%time\n",
    "# TODO: try scaled with default\n",
    "# on hyperparameter tuning: https://github.com/KSpiliop/Fraud_Detection\n",
    "# visual guide parameter tuning: \n",
    "# https://kevinvecmanis.io/machine%20learning/hyperparameter%20tuning/dataviz/python/2019/05/11/XGBoost-Tuning-Visual-Guide.html\n",
    "\n",
    "model = xgb.XGBRegressor()\n",
    "\n",
    "param_grid = { 'max_depth': [3, 4, 5, 6, 7, 8, 9, 10, 11, 12], \n",
    "               'min_child_weight': np.arange(0.0001, 0.5, 0.001),\n",
    "               'gamma': np.arange(0.0, 40.0, 0.005),\n",
    "               'learning_rate': np.arange(0.0005, 0.3, 0.0005),\n",
    "               'subsample': np.arange(0.01, 1.0, 0.01),\n",
    "               'colsample_bylevel': np.round(np.arange( 0.1, 1.0, 0.01 )),\n",
    "               'colsample_bytree': np.arange( 0.1, 1.0, 0.01 )\n",
    "             }\n",
    "\n",
    "kfold = KFold(n_splits=5, shuffle=True, random_state=10)\n",
    "\n",
    "grid_search = RandomizedSearchCV(model, param_grid, scoring=\"accuracy\", n_iter = 500, cv=kfold)\n",
    "grid_result = grid_search.fit(xspose_train, xclip_train)"
   ]
  },
  {
   "cell_type": "code",
   "execution_count": null,
   "id": "baf0117b",
   "metadata": {},
   "outputs": [],
   "source": [
    "# summarize results\n",
    "print(\"Best: %f using %s\" % (grid_result.best_score_, grid_result.best_params_))\n",
    "means = grid_result.cv_results_[ 'mean_test_score' ]\n",
    "stds = grid_result.cv_results_[ 'std_test_score' ]\n",
    "params = grid_result.cv_results_[ 'params' ]"
   ]
  },
  {
   "cell_type": "code",
   "execution_count": 31,
   "id": "0e187aff",
   "metadata": {},
   "outputs": [
    {
     "name": "stdout",
     "output_type": "stream",
     "text": [
      "Best xgboost score: 0.07693536107608112\n"
     ]
    }
   ],
   "source": [
    "# TODO: run for best"
   ]
  },
  {
   "cell_type": "code",
   "execution_count": null,
   "id": "e7402903",
   "metadata": {},
   "outputs": [],
   "source": [
    "# TODO: save best model"
   ]
  },
  {
   "cell_type": "markdown",
   "id": "a1670cb2",
   "metadata": {},
   "source": [
    "## Ridge model"
   ]
  },
  {
   "cell_type": "code",
   "execution_count": 20,
   "id": "200b3f10",
   "metadata": {},
   "outputs": [
    {
     "name": "stdout",
     "output_type": "stream",
     "text": [
      "Default sklearn Ridge CLIP-to-SPoSE R2: 0.48726410602795295\n"
     ]
    }
   ],
   "source": [
    "# checking data for issues by doing CLIP-to-SPoSE (which is supposed to work)\n",
    "model = Ridge()\n",
    "model.fit(xclip_train, yspose_train)\n",
    "yspose_test_pred = model.predict(xclip_test)\n",
    "\n",
    "print(\"Default sklearn Ridge CLIP-to-SPoSE R2:\", r2_score(yspose_test, yspose_test_pred))"
   ]
  },
  {
   "cell_type": "code",
   "execution_count": 23,
   "id": "140be33b",
   "metadata": {},
   "outputs": [
    {
     "name": "stdout",
     "output_type": "stream",
     "text": [
      "sklearn CV-Ridge CLIP-to-SPoSE R2: 0.5148705488754908\n"
     ]
    }
   ],
   "source": [
    "# checking data for issues by doing CLIP-to-SPoSE (which is supposed to work)\n",
    "model = RidgeCV()\n",
    "clf = model.fit(xclip_train, yspose_train)\n",
    "print(\"sklearn CV-Ridge CLIP-to-SPoSE R2:\", clf.score(xclip_train, yspose_train) )"
   ]
  },
  {
   "cell_type": "code",
   "execution_count": 25,
   "id": "83eef859",
   "metadata": {},
   "outputs": [
    {
     "data": {
      "text/plain": [
       "'\\nwt, corr, valphas, bscorrs, valinds = bootstrap_ridge(xclip_train, yspose_train, \\n                                                      xclip_test, yspose_test,\\n                                                      alphas=np.logspace(-100, 100, 60),\\n                                                      nboots=5,\\n                                                      chunklen=10, nchunks=15, return_wt=True)\\n'"
      ]
     },
     "execution_count": 25,
     "metadata": {},
     "output_type": "execute_result"
    }
   ],
   "source": [
    "wt, corr, valphas, bscorrs, valinds = bootstrap_ridge(xclip_train, yspose_train, \n",
    "                                                      xclip_test, yspose_test,\n",
    "                                                      alphas=np.logspace(-100, 100, 60),\n",
    "                                                      nboots=5,\n",
    "                                                      chunklen=10, nchunks=15, return_wt=True)"
   ]
  },
  {
   "cell_type": "code",
   "execution_count": 113,
   "id": "1b0f5256",
   "metadata": {},
   "outputs": [],
   "source": [
    "wt, corr, valphas, bscorrs, valinds = bootstrap_ridge(xspose_train, yclip_train, \n",
    "                                                      xspose_test, yclip_test,\n",
    "                                                      alphas=np.logspace(-2, 100, 100),\n",
    "                                                      nboots=5,\n",
    "                                                      chunklen=10, nchunks=15, return_wt=True)"
   ]
  },
  {
   "cell_type": "code",
   "execution_count": 125,
   "id": "4a753a1a",
   "metadata": {},
   "outputs": [
    {
     "name": "stdout",
     "output_type": "stream",
     "text": [
      "0.42757745111063405\n"
     ]
    }
   ],
   "source": [
    "print(np.mean(corr))  # 0.68"
   ]
  },
  {
   "cell_type": "code",
   "execution_count": null,
   "id": "8ed7c561",
   "metadata": {},
   "outputs": [],
   "source": [
    "# train on all data\n",
    "wt, corr, valphas, bscorrs, valinds = bootstrap_ridge(x_spose_vecs, y_clip_vecs, \n",
    "                                                      xspose_test, yclip_test,\n",
    "                                                      alphas=np.logspace(-2, 100, 100),\n",
    "                                                      nboots=5,\n",
    "                                                      chunklen=10, nchunks=15, return_wt=True)"
   ]
  },
  {
   "cell_type": "markdown",
   "id": "11892caa",
   "metadata": {},
   "source": [
    "## Model test ground"
   ]
  },
  {
   "cell_type": "code",
   "execution_count": 33,
   "id": "2d3f20cc",
   "metadata": {},
   "outputs": [
    {
     "name": "stdout",
     "output_type": "stream",
     "text": [
      "Default LinearRegression SPoSE-to-CLIP R2: 0.19375703244804993\n"
     ]
    }
   ],
   "source": [
    "# checking data for issues by doing CLIP-to-SPoSE (which is supposed to work)\n",
    "model = LinearRegression()\n",
    "model.fit(xspose_train, yclip_train)\n",
    "yclip_test_pred = model.predict(xspose_test)\n",
    "\n",
    "print(\"Default LinearRegression SPoSE-to-CLIP R2:\", r2_score(yclip_test, yclip_test_pred))"
   ]
  },
  {
   "cell_type": "code",
   "execution_count": 5,
   "id": "55b3d666",
   "metadata": {},
   "outputs": [
    {
     "name": "stdout",
     "output_type": "stream",
     "text": [
      "Default XGBRegressor SPoSE-to-CLIP R2: 0.4962098745787638\n",
      "CPU times: user 3h 58min 11s, sys: 5min 44s, total: 4h 3min 56s\n",
      "Wall time: 16min 23s\n"
     ]
    }
   ],
   "source": [
    "%%time\n",
    "\n",
    "# fitting\n",
    "model = MultiOutputRegressor(xgb.XGBRegressor(objective='reg:squarederror'))\n",
    "model.fit(xspose_train, yclip_train)\n",
    "yclip_test_pred = model.predict(xspose_test)\n",
    "\n",
    "print(\"Default XGBRegressor SPoSE-to-CLIP R2:\", r2_score(yclip_test, yclip_test_pred))"
   ]
  },
  {
   "cell_type": "code",
   "execution_count": 46,
   "id": "b6e35597",
   "metadata": {},
   "outputs": [
    {
     "data": {
      "text/plain": [
       "'\\nparams = {\"objective\":\"reg:linear\",\\'colsample_bytree\\': 0.3,\\'learning_rate\\': 0.1,\\n                \\'max_depth\\': 5, \\'alpha\\': 10}\\n\\ncv_results = xgb.cv(dtrain=data_dmatrix, params=params, nfold=3,\\n                    num_boost_round=50,early_stopping_rounds=10,metrics=\"rmse\", as_pandas=True, seed=123)\\n'"
      ]
     },
     "execution_count": 46,
     "metadata": {},
     "output_type": "execute_result"
    }
   ],
   "source": [
    "\"\"\"\n",
    "params = {\"objective\":\"reg:linear\",'colsample_bytree': 0.3,'learning_rate': 0.1,\n",
    "                'max_depth': 5, 'al                'max_depth': 5, 'alpha': 10}\n",
    "pha': 10}\n",
    "\n",
    "cv_results = xgb.cv(dtrain=data_dmatrix, params=params, nfold=3,\n",
    "                    num_boost_round=50,early_stopping_rounds=10,metrics=\"rmse\", as_pandas=True, seed=123)\n",
    "# https://www.datacamp.com/community/tutorials/xgboost-in-python\n",
    "\"\"\""
   ]
  },
  {
   "cell_type": "code",
   "execution_count": 34,
   "id": "0486e446",
   "metadata": {},
   "outputs": [
    {
     "name": "stdout",
     "output_type": "stream",
     "text": [
      "Default LinearRegression SPoSE-to-CLIP R2: 0.1937618314739155\n"
     ]
    }
   ],
   "source": [
    "# checking data for issues by doing CLIP-to-SPoSE (which is supposed to work)\n",
    "model = Ridge()\n",
    "model.fit(xspose_train, yclip_train)\n",
    "yclip_test_pred = model.predict(xspose_test)\n",
    "\n",
    "print(\"Default RidgeRegression SPoSE-to-CLIP R2:\", r2_score(yclip_test, yclip_test_pred))"
   ]
  },
  {
   "cell_type": "code",
   "execution_count": 126,
   "id": "9b050bef",
   "metadata": {},
   "outputs": [
    {
     "data": {
      "text/plain": [
       "(49, 512)"
      ]
     },
     "execution_count": 126,
     "metadata": {},
     "output_type": "execute_result"
    }
   ],
   "source": [
    "wt.shape"
   ]
  },
  {
   "cell_type": "code",
   "execution_count": 116,
   "id": "b3545dec",
   "metadata": {},
   "outputs": [],
   "source": []
  },
  {
   "cell_type": "code",
   "execution_count": 124,
   "id": "98790b2a",
   "metadata": {},
   "outputs": [
    {
     "data": {
      "text/plain": [
       "0.795284011669666"
      ]
     },
     "execution_count": 124,
     "metadata": {},
     "output_type": "execute_result"
    }
   ],
   "source": [
    "np.max(corr)"
   ]
  },
  {
   "cell_type": "code",
   "execution_count": null,
   "id": "6f48092b",
   "metadata": {},
   "outputs": [],
   "source": []
  },
  {
   "cell_type": "code",
   "execution_count": 133,
   "id": "bc8a8348",
   "metadata": {},
   "outputs": [],
   "source": []
  },
  {
   "cell_type": "code",
   "execution_count": 134,
   "id": "222a7b2c",
   "metadata": {},
   "outputs": [
    {
     "name": "stdout",
     "output_type": "stream",
     "text": [
      "0.42767548855293525\n"
     ]
    }
   ],
   "source": [
    "print(np.mean(corr))  # 0.68"
   ]
  },
  {
   "cell_type": "code",
   "execution_count": 136,
   "id": "92926b69",
   "metadata": {},
   "outputs": [],
   "source": [
    "savemat('big_sleep/data/W_aridge_spose_to_clip.mat', {'W':wt} )"
   ]
  },
  {
   "cell_type": "code",
   "execution_count": null,
   "id": "b92f0221",
   "metadata": {},
   "outputs": [],
   "source": []
  },
  {
   "cell_type": "code",
   "execution_count": 101,
   "id": "f171064d",
   "metadata": {},
   "outputs": [
    {
     "data": {
      "text/plain": [
       "0.5128427207844467"
      ]
     },
     "execution_count": 101,
     "metadata": {},
     "output_type": "execute_result"
    }
   ],
   "source": [
    "# checking data for issues by doing CLIP-to-SPoSE (which is supposed to work)\n",
    "model = MultiTaskLassoCV()\n",
    "clf = model.fit(xclip_train, yspose_train)\n",
    "clf.score(xclip_train, yspose_train)"
   ]
  },
  {
   "cell_type": "code",
   "execution_count": 102,
   "id": "14477c68",
   "metadata": {},
   "outputs": [
    {
     "data": {
      "text/plain": [
       "0.5127160482374192"
      ]
     },
     "execution_count": 102,
     "metadata": {},
     "output_type": "execute_result"
    }
   ],
   "source": [
    "# checking data for issues by doing CLIP-to-SPoSE (which is supposed to work)\n",
    "model = MultiTaskElasticNetCV()\n",
    "clf = model.fit(xclip_train, yspose_train)\n",
    "clf.score(xclip_train, yspose_train)"
   ]
  },
  {
   "cell_type": "code",
   "execution_count": null,
   "id": "67175cdf",
   "metadata": {},
   "outputs": [],
   "source": [
    "# TODO: set up modeling with CLIP-to-spose\n",
    "\n",
    "# TODO: standard scaler\n",
    "# TODO: compare regression methods: https://towardsdatascience.com/quickly-test-multiple-models-a98477476f0\n",
    "# TODO: determine best parameters via CV\n",
    "# TODO: try alexridge"
   ]
  },
  {
   "cell_type": "code",
   "execution_count": null,
   "id": "2223ff6f",
   "metadata": {},
   "outputs": [],
   "source": [
    "# TODO: set up modeling with CLIP-to-spose\n",
    "\n"
   ]
  },
  {
   "cell_type": "code",
   "execution_count": 31,
   "id": "175fbc9a",
   "metadata": {},
   "outputs": [],
   "source": [
    "model = MultiTaskElasticNet()\n",
    "model.fit(xspose_train, yclip_train)\n",
    "yclip_test_pred = model.predict(xspose_test)\n",
    "\n",
    "# TODO: determine best parameters"
   ]
  },
  {
   "cell_type": "code",
   "execution_count": 32,
   "id": "e0891141",
   "metadata": {},
   "outputs": [],
   "source": [
    "model = MultiTaskLasso()\n",
    "model.fit(xspose_train, yclip_train)\n",
    "yclip_test_pred = model.predict(xspose_test)"
   ]
  },
  {
   "cell_type": "code",
   "execution_count": 36,
   "id": "e8167e86",
   "metadata": {},
   "outputs": [
    {
     "name": "stdout",
     "output_type": "stream",
     "text": [
      "CPU times: user 3 µs, sys: 0 ns, total: 3 µs\n",
      "Wall time: 5.96 µs\n"
     ]
    }
   ],
   "source": [
    "%%time\n",
    "#yclip_test_pred = MultiOutputRegressor(GradientBoostingRegressor(random_state=0)).fit(xspose_train, yclip_train).predict(xspose_test)"
   ]
  },
  {
   "cell_type": "code",
   "execution_count": null,
   "id": "5a344664",
   "metadata": {},
   "outputs": [],
   "source": [
    "r2_score(yclip_test, yclip_test_pred)"
   ]
  },
  {
   "cell_type": "code",
   "execution_count": null,
   "id": "1b3f35e5",
   "metadata": {},
   "outputs": [],
   "source": [
    "model = LinearRegression()  # TODO: elasticNet\n",
    "# fit model\n",
    "model.fit(X, y)\n",
    "# make a prediction\n",
    "\n",
    "# define the evaluation procedure\n",
    "cv = RepeatedKFold(n_splits=10, n_repeats=3, random_state=1)\n",
    "# evaluate the model and collect the scores\n",
    "n_scores = cross_val_score(model, X, y, scoring='neg_mean_absolute_error', cv=cv, n_jobs=-1)\n",
    "# force the scores to be positive\n",
    "n_scores = absolute(n_scores)\n",
    "# summarize performance\n",
    "print('MAE: %.3f (%.3f)' % (mean(n_scores), std(n_scores)))\n"
   ]
  },
  {
   "cell_type": "code",
   "execution_count": null,
   "id": "62a1360d",
   "metadata": {},
   "outputs": [],
   "source": []
  },
  {
   "cell_type": "code",
   "execution_count": null,
   "id": "78b27c86",
   "metadata": {},
   "outputs": [],
   "source": []
  },
  {
   "cell_type": "code",
   "execution_count": null,
   "id": "0c0dd956",
   "metadata": {},
   "outputs": [],
   "source": []
  },
  {
   "cell_type": "code",
   "execution_count": null,
   "id": "7b01a09a",
   "metadata": {},
   "outputs": [],
   "source": []
  },
  {
   "cell_type": "code",
   "execution_count": null,
   "id": "4998f510",
   "metadata": {},
   "outputs": [],
   "source": []
  },
  {
   "cell_type": "code",
   "execution_count": null,
   "id": "bdb84d57",
   "metadata": {},
   "outputs": [],
   "source": []
  },
  {
   "cell_type": "code",
   "execution_count": null,
   "id": "a1ce0bc3",
   "metadata": {},
   "outputs": [],
   "source": []
  },
  {
   "cell_type": "code",
   "execution_count": null,
   "id": "62ddb898",
   "metadata": {},
   "outputs": [],
   "source": []
  },
  {
   "cell_type": "code",
   "execution_count": null,
   "id": "79be662e",
   "metadata": {},
   "outputs": [],
   "source": []
  },
  {
   "cell_type": "code",
   "execution_count": null,
   "id": "9d513b2e",
   "metadata": {},
   "outputs": [],
   "source": []
  },
  {
   "cell_type": "code",
   "execution_count": null,
   "id": "4354bb90",
   "metadata": {},
   "outputs": [],
   "source": []
  },
  {
   "cell_type": "code",
   "execution_count": null,
   "id": "f4e056e8",
   "metadata": {},
   "outputs": [],
   "source": []
  },
  {
   "cell_type": "code",
   "execution_count": null,
   "id": "c73d1117",
   "metadata": {},
   "outputs": [],
   "source": []
  },
  {
   "cell_type": "code",
   "execution_count": null,
   "id": "2ae71517",
   "metadata": {},
   "outputs": [],
   "source": []
  },
  {
   "cell_type": "code",
   "execution_count": null,
   "id": "bc4e5905",
   "metadata": {},
   "outputs": [],
   "source": []
  },
  {
   "cell_type": "code",
   "execution_count": null,
   "id": "142699be",
   "metadata": {},
   "outputs": [],
   "source": []
  }
 ],
 "metadata": {
  "kernelspec": {
   "display_name": "Python 3 (ipykernel)",
   "language": "python",
   "name": "python3"
  },
  "language_info": {
   "codemirror_mode": {
    "name": "ipython",
    "version": 3
   },
   "file_extension": ".py",
   "mimetype": "text/x-python",
   "name": "python",
   "nbconvert_exporter": "python",
   "pygments_lexer": "ipython3",
   "version": "3.7.11"
  }
 },
 "nbformat": 4,
 "nbformat_minor": 5
}
