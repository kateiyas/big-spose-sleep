{
 "cells": [
  {
   "cell_type": "code",
   "execution_count": 62,
   "id": "477a1e72",
   "metadata": {},
   "outputs": [
    {
     "ename": "AssertionError",
     "evalue": "CUDA must be available in order to use Big Sleep",
     "output_type": "error",
     "traceback": [
      "\u001b[0;31m---------------------------------------------------------------------------\u001b[0m",
      "\u001b[0;31mAssertionError\u001b[0m                            Traceback (most recent call last)",
      "\u001b[0;32m/var/folders/r_/hnd33lkn4gsfnf5jlkssqggm0000gp/T/ipykernel_39606/781411131.py\u001b[0m in \u001b[0;36m<module>\u001b[0;34m\u001b[0m\n\u001b[1;32m      4\u001b[0m \u001b[0;32mfrom\u001b[0m \u001b[0mscipy\u001b[0m\u001b[0;34m.\u001b[0m\u001b[0mio\u001b[0m \u001b[0;32mimport\u001b[0m \u001b[0mloadmat\u001b[0m\u001b[0;34m\u001b[0m\u001b[0;34m\u001b[0m\u001b[0m\n\u001b[1;32m      5\u001b[0m \u001b[0;32mfrom\u001b[0m \u001b[0mbig_sleep\u001b[0m\u001b[0;34m.\u001b[0m\u001b[0mclip\u001b[0m \u001b[0;32mimport\u001b[0m \u001b[0mload\u001b[0m\u001b[0;34m\u001b[0m\u001b[0;34m\u001b[0m\u001b[0m\n\u001b[0;32m----> 6\u001b[0;31m \u001b[0;32mfrom\u001b[0m \u001b[0mbig_sleep\u001b[0m\u001b[0;34m.\u001b[0m\u001b[0mbig_spose_sleep\u001b[0m \u001b[0;32mimport\u001b[0m \u001b[0mcreate_clip_img_transform\u001b[0m\u001b[0;34m\u001b[0m\u001b[0;34m\u001b[0m\u001b[0m\n\u001b[0m\u001b[1;32m      7\u001b[0m \u001b[0;32mimport\u001b[0m \u001b[0mglob\u001b[0m\u001b[0;34m\u001b[0m\u001b[0;34m\u001b[0m\u001b[0m\n\u001b[1;32m      8\u001b[0m \u001b[0;32mimport\u001b[0m \u001b[0mtorch\u001b[0m\u001b[0;34m\u001b[0m\u001b[0;34m\u001b[0m\u001b[0m\n",
      "\u001b[0;32m~/ownCloud/PostDocMPICBS/_sposesleep/big-spose-sleep/big_sleep/__init__.py\u001b[0m in \u001b[0;36m<module>\u001b[0;34m\u001b[0m\n\u001b[0;32m----> 1\u001b[0;31m \u001b[0;32mfrom\u001b[0m \u001b[0mbig_sleep\u001b[0m\u001b[0;34m.\u001b[0m\u001b[0mbig_sleep\u001b[0m \u001b[0;32mimport\u001b[0m \u001b[0mBigSleep\u001b[0m\u001b[0;34m,\u001b[0m \u001b[0mImagine\u001b[0m\u001b[0;34m\u001b[0m\u001b[0;34m\u001b[0m\u001b[0m\n\u001b[0m",
      "\u001b[0;32m~/ownCloud/PostDocMPICBS/_sposesleep/big-spose-sleep/big_sleep/big_sleep.py\u001b[0m in \u001b[0;36m<module>\u001b[0;34m\u001b[0m\n\u001b[1;32m     24\u001b[0m \u001b[0;32mfrom\u001b[0m \u001b[0mbig_sleep\u001b[0m\u001b[0;34m.\u001b[0m\u001b[0mclip\u001b[0m \u001b[0;32mimport\u001b[0m \u001b[0mload\u001b[0m\u001b[0;34m,\u001b[0m \u001b[0mtokenize\u001b[0m\u001b[0;34m\u001b[0m\u001b[0;34m\u001b[0m\u001b[0m\n\u001b[1;32m     25\u001b[0m \u001b[0;34m\u001b[0m\u001b[0m\n\u001b[0;32m---> 26\u001b[0;31m \u001b[0;32massert\u001b[0m \u001b[0mtorch\u001b[0m\u001b[0;34m.\u001b[0m\u001b[0mcuda\u001b[0m\u001b[0;34m.\u001b[0m\u001b[0mis_available\u001b[0m\u001b[0;34m(\u001b[0m\u001b[0;34m)\u001b[0m\u001b[0;34m,\u001b[0m \u001b[0;34m'CUDA must be available in order to use Big Sleep'\u001b[0m\u001b[0;34m\u001b[0m\u001b[0;34m\u001b[0m\u001b[0m\n\u001b[0m\u001b[1;32m     27\u001b[0m \u001b[0;34m\u001b[0m\u001b[0m\n\u001b[1;32m     28\u001b[0m \u001b[0;31m# graceful keyboard interrupt\u001b[0m\u001b[0;34m\u001b[0m\u001b[0;34m\u001b[0m\u001b[0;34m\u001b[0m\u001b[0m\n",
      "\u001b[0;31mAssertionError\u001b[0m: CUDA must be available in order to use Big Sleep"
     ]
    }
   ],
   "source": [
    "import numpy as np\n",
    "from sklearn.model_selection import cross_val_score\n",
    "from sklearn.linear_model import ElasticNet\n",
    "from scipy.io import loadmat\n",
    "from big_sleep.clip import load\n",
    "from big_sleep.big_spose_sleep import create_clip_img_transform\n",
    "import glob\n",
    "import torch\n",
    "#https://scikit-learn.org/stable/modules/generated/sklearn.linear_model.ElasticNet.html#sklearn.linear_model.ElasticNet\n",
    "\n",
    "from torchvision import datasets, transforms\n",
    "\n",
    "from sklearn.datasets import make_regression\n",
    "from sklearn.model_selection import train_test_split\n",
    "from sklearn.multioutput import MultiOutputRegressor\n",
    "from sklearn.ensemble import RandomForestRegressor"
   ]
  },
  {
   "cell_type": "code",
   "execution_count": null,
   "id": "f92f4797",
   "metadata": {},
   "outputs": [],
   "source": []
  },
  {
   "cell_type": "markdown",
   "id": "bbe86d78",
   "metadata": {},
   "source": [
    "## Extract CLIP features"
   ]
  },
  {
   "cell_type": "code",
   "execution_count": 61,
   "id": "cdfe5a32",
   "metadata": {},
   "outputs": [
    {
     "ename": "NameError",
     "evalue": "name 'create_clip_img_transform' is not defined",
     "output_type": "error",
     "traceback": [
      "\u001b[0;31m---------------------------------------------------------------------------\u001b[0m",
      "\u001b[0;31mNameError\u001b[0m                                 Traceback (most recent call last)",
      "\u001b[0;32m/var/folders/r_/hnd33lkn4gsfnf5jlkssqggm0000gp/T/ipykernel_39606/2389590415.py\u001b[0m in \u001b[0;36m<module>\u001b[0;34m\u001b[0m\n\u001b[1;32m     21\u001b[0m \u001b[0;34m\u001b[0m\u001b[0m\n\u001b[1;32m     22\u001b[0m \u001b[0mclip_perceptor\u001b[0m\u001b[0;34m,\u001b[0m \u001b[0m_\u001b[0m \u001b[0;34m=\u001b[0m \u001b[0mload\u001b[0m\u001b[0;34m(\u001b[0m\u001b[0;34m'ViT-B/32'\u001b[0m\u001b[0;34m,\u001b[0m \u001b[0mjit\u001b[0m \u001b[0;34m=\u001b[0m \u001b[0;32mFalse\u001b[0m\u001b[0;34m)\u001b[0m\u001b[0;34m\u001b[0m\u001b[0;34m\u001b[0m\u001b[0m\n\u001b[0;32m---> 23\u001b[0;31m \u001b[0mclip_transform\u001b[0m \u001b[0;34m=\u001b[0m \u001b[0mcreate_clip_img_transform\u001b[0m\u001b[0;34m(\u001b[0m\u001b[0;36m224\u001b[0m\u001b[0;34m)\u001b[0m\u001b[0;34m\u001b[0m\u001b[0;34m\u001b[0m\u001b[0m\n\u001b[0m",
      "\u001b[0;31mNameError\u001b[0m: name 'create_clip_img_transform' is not defined"
     ]
    }
   ],
   "source": [
    "thingsroot = \"/Users/katja/Documents/Data/THINGS/\"\n",
    "\n",
    "#thingscats = [catdir.split(\"/\")[-1] for catdir in glob.glob(thingsroot+\"/images/*\")]\n",
    "thingsimgfns = thingsroot+\"/images/{}/*.*\"\n",
    "\n",
    "thingscats = []\n",
    "with open(thingsroot+\"THINGS_unique_IDs.txt\", 'r') as handle:\n",
    "    lines = handle.readlines()\n",
    "    for line in lines:\n",
    "        line = line.strip()\n",
    "        if len(line)>0:\n",
    "            thingscats.append(line)\n",
    "\n",
    "assert(len(thingscats)==1854)\n",
    "\n",
    "#num_imgs = 0\n",
    "#for thingscat in thingscats:\n",
    "#    thingscatimgfns = glob.glob(thingsimgfns.format(thingscat))\n",
    "#    num_imgs += len(thingscatimgfns)\n",
    "#print(\"Number of THINGS images found:\", num_imgs)\n",
    "    \n",
    "clip_perceptor, _ = load('ViT-B/32', jit = False)\n",
    "clip_transform = create_clip_img_transform(224)"
   ]
  },
  {
   "cell_type": "code",
   "execution_count": 60,
   "id": "1a7e51e4",
   "metadata": {},
   "outputs": [
    {
     "name": "stdout",
     "output_type": "stream",
     "text": [
      "Compose(\n",
      "    Normalize(mean=(0.48145466, 0.4578275, 0.40821073), std=(0.26862954, 0.26130258, 0.27577711))\n",
      ")\n"
     ]
    }
   ],
   "source": [
    "print(normalize_image)"
   ]
  },
  {
   "cell_type": "code",
   "execution_count": 50,
   "id": "8250197e",
   "metadata": {},
   "outputs": [],
   "source": [
    "x_spose_vecs = np.zeros([num_imgs,49])  # X: SPoSE vectors (same for each cat)\n",
    "y_clip_vecs = np.zeros([num_imgs,512])  # Y: clip vectors"
   ]
  },
  {
   "cell_type": "code",
   "execution_count": 54,
   "id": "e520d04b",
   "metadata": {},
   "outputs": [
    {
     "name": "stdout",
     "output_type": "stream",
     "text": [
      "Number of THINGS images found: 26107\n"
     ]
    }
   ],
   "source": [
    "thingsimgs = datasets.ImageFolder(thingsroot+'/images/', transform=clip_transform)\n",
    "thingsloader = torch.utils.data.DataLoader(thingsimgs, batch_size=1, shuffle=False)\n",
    "\n",
    "print(\"Number of THINGS images found:\", len(thingsloader))"
   ]
  },
  {
   "cell_type": "code",
   "execution_count": 57,
   "id": "466f429f",
   "metadata": {},
   "outputs": [
    {
     "name": "stdout",
     "output_type": "stream",
     "text": [
      "aardvark\n",
      "torch.Size([1, 3, 800, 800])\n",
      "aardvark\n",
      "torch.Size([1, 3, 638, 638])\n",
      "aardvark\n",
      "torch.Size([1, 3, 800, 800])\n",
      "aardvark\n",
      "torch.Size([1, 3, 800, 800])\n",
      "aardvark\n",
      "torch.Size([1, 3, 800, 800])\n",
      "aardvark\n",
      "torch.Size([1, 3, 800, 800])\n",
      "aardvark\n",
      "torch.Size([1, 3, 800, 800])\n",
      "aardvark\n",
      "torch.Size([1, 3, 768, 768])\n",
      "aardvark\n",
      "torch.Size([1, 3, 2704, 2704])\n",
      "aardvark\n",
      "torch.Size([1, 3, 720, 720])\n",
      "aardvark\n",
      "torch.Size([1, 3, 639, 639])\n",
      "aardvark\n",
      "torch.Size([1, 3, 800, 800])\n",
      "aardvark\n",
      "torch.Size([1, 3, 512, 512])\n",
      "aardvark\n",
      "torch.Size([1, 3, 500, 500])\n",
      "abacus\n",
      "torch.Size([1, 3, 800, 800])\n",
      "abacus\n",
      "torch.Size([1, 3, 800, 800])\n",
      "abacus\n",
      "torch.Size([1, 3, 800, 800])\n",
      "abacus\n",
      "torch.Size([1, 3, 800, 800])\n",
      "abacus\n",
      "torch.Size([1, 3, 567, 567])\n",
      "abacus\n",
      "torch.Size([1, 3, 820, 820])\n",
      "abacus\n",
      "torch.Size([1, 3, 943, 943])\n",
      "abacus\n",
      "torch.Size([1, 3, 800, 800])\n",
      "abacus\n",
      "torch.Size([1, 3, 800, 800])\n",
      "abacus\n",
      "torch.Size([1, 3, 780, 780])\n",
      "abacus\n",
      "torch.Size([1, 3, 800, 800])\n",
      "abacus\n",
      "torch.Size([1, 3, 1269, 1269])\n",
      "abacus\n",
      "torch.Size([1, 3, 546, 546])\n",
      "abacus\n",
      "torch.Size([1, 3, 500, 500])\n",
      "accordion\n",
      "torch.Size([1, 3, 540, 540])\n",
      "accordion\n",
      "torch.Size([1, 3, 3000, 3000])\n",
      "accordion\n",
      "torch.Size([1, 3, 1280, 1280])\n",
      "accordion\n",
      "torch.Size([1, 3, 1280, 1280])\n",
      "accordion\n",
      "torch.Size([1, 3, 667, 667])\n",
      "accordion\n",
      "torch.Size([1, 3, 800, 800])\n",
      "accordion\n",
      "torch.Size([1, 3, 666, 666])\n",
      "accordion\n",
      "torch.Size([1, 3, 1333, 1333])\n",
      "accordion\n",
      "torch.Size([1, 3, 1266, 1266])\n",
      "accordion\n",
      "torch.Size([1, 3, 775, 775])\n",
      "accordion\n",
      "torch.Size([1, 3, 1920, 1920])\n",
      "accordion\n",
      "torch.Size([1, 3, 800, 800])\n",
      "accordion\n",
      "torch.Size([1, 3, 632, 632])\n",
      "accordion\n",
      "torch.Size([1, 3, 602, 602])\n",
      "acorn\n",
      "torch.Size([1, 3, 800, 800])\n",
      "acorn\n",
      "torch.Size([1, 3, 1199, 1199])\n",
      "acorn\n",
      "torch.Size([1, 3, 2848, 2848])\n",
      "acorn\n",
      "torch.Size([1, 3, 1200, 1200])\n",
      "acorn\n",
      "torch.Size([1, 3, 2592, 2592])\n",
      "acorn\n",
      "torch.Size([1, 3, 2848, 2848])\n",
      "acorn\n",
      "torch.Size([1, 3, 1109, 1109])\n",
      "acorn\n",
      "torch.Size([1, 3, 997, 997])\n",
      "acorn\n",
      "torch.Size([1, 3, 2848, 2848])\n",
      "acorn\n",
      "torch.Size([1, 3, 2848, 2848])\n"
     ]
    }
   ],
   "source": [
    "# Looping through it, get a batch on each loop \n",
    "show_num = 50\n",
    "for i, (thingsimg, catID) in enumerate(thingsloader): \n",
    "    print(thingscats[catID])\n",
    "    print(thingsimg.shape)\n",
    "    if i > show_num:\n",
    "        break"
   ]
  },
  {
   "cell_type": "code",
   "execution_count": 58,
   "id": "41165449",
   "metadata": {},
   "outputs": [
    {
     "ename": "RuntimeError",
     "evalue": "The size of tensor a (626) must match the size of tensor b (50) at non-singleton dimension 1",
     "output_type": "error",
     "traceback": [
      "\u001b[0;31m---------------------------------------------------------------------------\u001b[0m",
      "\u001b[0;31mRuntimeError\u001b[0m                              Traceback (most recent call last)",
      "\u001b[0;32m/var/folders/r_/hnd33lkn4gsfnf5jlkssqggm0000gp/T/ipykernel_39606/2200315060.py\u001b[0m in \u001b[0;36m<module>\u001b[0;34m\u001b[0m\n\u001b[1;32m     10\u001b[0m \u001b[0;34m\u001b[0m\u001b[0m\n\u001b[1;32m     11\u001b[0m         \u001b[0mimg\u001b[0m \u001b[0;34m=\u001b[0m \u001b[0mnormalize_image\u001b[0m\u001b[0;34m(\u001b[0m\u001b[0mthingsimg\u001b[0m\u001b[0;34m)\u001b[0m\u001b[0;34m\u001b[0m\u001b[0;34m\u001b[0m\u001b[0m\n\u001b[0;32m---> 12\u001b[0;31m         \u001b[0mimg_emb\u001b[0m \u001b[0;34m=\u001b[0m \u001b[0mclip_perceptor\u001b[0m\u001b[0;34m.\u001b[0m\u001b[0mencode_image\u001b[0m\u001b[0;34m(\u001b[0m\u001b[0mimg\u001b[0m\u001b[0;34m)\u001b[0m\u001b[0;34m\u001b[0m\u001b[0;34m\u001b[0m\u001b[0m\n\u001b[0m\u001b[1;32m     13\u001b[0m \u001b[0;34m\u001b[0m\u001b[0m\n\u001b[1;32m     14\u001b[0m         \u001b[0mimg_i\u001b[0m \u001b[0;34m+=\u001b[0m \u001b[0;36m1\u001b[0m\u001b[0;34m\u001b[0m\u001b[0;34m\u001b[0m\u001b[0m\n",
      "\u001b[0;32m~/ownCloud/PostDocMPICBS/_sposesleep/big-spose-sleep/big_sleep/clip.py\u001b[0m in \u001b[0;36mencode_image\u001b[0;34m(self, image)\u001b[0m\n\u001b[1;32m    523\u001b[0m \u001b[0;34m\u001b[0m\u001b[0m\n\u001b[1;32m    524\u001b[0m     \u001b[0;32mdef\u001b[0m \u001b[0mencode_image\u001b[0m\u001b[0;34m(\u001b[0m\u001b[0mself\u001b[0m\u001b[0;34m,\u001b[0m \u001b[0mimage\u001b[0m\u001b[0;34m)\u001b[0m\u001b[0;34m:\u001b[0m\u001b[0;34m\u001b[0m\u001b[0;34m\u001b[0m\u001b[0m\n\u001b[0;32m--> 525\u001b[0;31m         \u001b[0;32mreturn\u001b[0m \u001b[0mself\u001b[0m\u001b[0;34m.\u001b[0m\u001b[0mvisual\u001b[0m\u001b[0;34m(\u001b[0m\u001b[0mimage\u001b[0m\u001b[0;34m.\u001b[0m\u001b[0mtype\u001b[0m\u001b[0;34m(\u001b[0m\u001b[0mself\u001b[0m\u001b[0;34m.\u001b[0m\u001b[0mdtype\u001b[0m\u001b[0;34m)\u001b[0m\u001b[0;34m)\u001b[0m\u001b[0;34m\u001b[0m\u001b[0;34m\u001b[0m\u001b[0m\n\u001b[0m\u001b[1;32m    526\u001b[0m \u001b[0;34m\u001b[0m\u001b[0m\n\u001b[1;32m    527\u001b[0m     \u001b[0;32mdef\u001b[0m \u001b[0mencode_text\u001b[0m\u001b[0;34m(\u001b[0m\u001b[0mself\u001b[0m\u001b[0;34m,\u001b[0m \u001b[0mtext\u001b[0m\u001b[0;34m)\u001b[0m\u001b[0;34m:\u001b[0m\u001b[0;34m\u001b[0m\u001b[0;34m\u001b[0m\u001b[0m\n",
      "\u001b[0;32m~/anaconda3/lib/python3.7/site-packages/torch/nn/modules/module.py\u001b[0m in \u001b[0;36m_call_impl\u001b[0;34m(self, *input, **kwargs)\u001b[0m\n\u001b[1;32m    725\u001b[0m             \u001b[0mresult\u001b[0m \u001b[0;34m=\u001b[0m \u001b[0mself\u001b[0m\u001b[0;34m.\u001b[0m\u001b[0m_slow_forward\u001b[0m\u001b[0;34m(\u001b[0m\u001b[0;34m*\u001b[0m\u001b[0minput\u001b[0m\u001b[0;34m,\u001b[0m \u001b[0;34m**\u001b[0m\u001b[0mkwargs\u001b[0m\u001b[0;34m)\u001b[0m\u001b[0;34m\u001b[0m\u001b[0;34m\u001b[0m\u001b[0m\n\u001b[1;32m    726\u001b[0m         \u001b[0;32melse\u001b[0m\u001b[0;34m:\u001b[0m\u001b[0;34m\u001b[0m\u001b[0;34m\u001b[0m\u001b[0m\n\u001b[0;32m--> 727\u001b[0;31m             \u001b[0mresult\u001b[0m \u001b[0;34m=\u001b[0m \u001b[0mself\u001b[0m\u001b[0;34m.\u001b[0m\u001b[0mforward\u001b[0m\u001b[0;34m(\u001b[0m\u001b[0;34m*\u001b[0m\u001b[0minput\u001b[0m\u001b[0;34m,\u001b[0m \u001b[0;34m**\u001b[0m\u001b[0mkwargs\u001b[0m\u001b[0;34m)\u001b[0m\u001b[0;34m\u001b[0m\u001b[0;34m\u001b[0m\u001b[0m\n\u001b[0m\u001b[1;32m    728\u001b[0m         for hook in itertools.chain(\n\u001b[1;32m    729\u001b[0m                 \u001b[0m_global_forward_hooks\u001b[0m\u001b[0;34m.\u001b[0m\u001b[0mvalues\u001b[0m\u001b[0;34m(\u001b[0m\u001b[0;34m)\u001b[0m\u001b[0;34m,\u001b[0m\u001b[0;34m\u001b[0m\u001b[0;34m\u001b[0m\u001b[0m\n",
      "\u001b[0;32m~/ownCloud/PostDocMPICBS/_sposesleep/big-spose-sleep/big_sleep/clip.py\u001b[0m in \u001b[0;36mforward\u001b[0;34m(self, x)\u001b[0m\n\u001b[1;32m    410\u001b[0m         \u001b[0mx\u001b[0m \u001b[0;34m=\u001b[0m \u001b[0mx\u001b[0m\u001b[0;34m.\u001b[0m\u001b[0mpermute\u001b[0m\u001b[0;34m(\u001b[0m\u001b[0;36m0\u001b[0m\u001b[0;34m,\u001b[0m \u001b[0;36m2\u001b[0m\u001b[0;34m,\u001b[0m \u001b[0;36m1\u001b[0m\u001b[0;34m)\u001b[0m  \u001b[0;31m# shape = [*, grid ** 2, width]\u001b[0m\u001b[0;34m\u001b[0m\u001b[0;34m\u001b[0m\u001b[0m\n\u001b[1;32m    411\u001b[0m         \u001b[0mx\u001b[0m \u001b[0;34m=\u001b[0m \u001b[0mtorch\u001b[0m\u001b[0;34m.\u001b[0m\u001b[0mcat\u001b[0m\u001b[0;34m(\u001b[0m\u001b[0;34m[\u001b[0m\u001b[0mself\u001b[0m\u001b[0;34m.\u001b[0m\u001b[0mclass_embedding\u001b[0m\u001b[0;34m.\u001b[0m\u001b[0mto\u001b[0m\u001b[0;34m(\u001b[0m\u001b[0mx\u001b[0m\u001b[0;34m.\u001b[0m\u001b[0mdtype\u001b[0m\u001b[0;34m)\u001b[0m \u001b[0;34m+\u001b[0m \u001b[0mtorch\u001b[0m\u001b[0;34m.\u001b[0m\u001b[0mzeros\u001b[0m\u001b[0;34m(\u001b[0m\u001b[0mx\u001b[0m\u001b[0;34m.\u001b[0m\u001b[0mshape\u001b[0m\u001b[0;34m[\u001b[0m\u001b[0;36m0\u001b[0m\u001b[0;34m]\u001b[0m\u001b[0;34m,\u001b[0m \u001b[0;36m1\u001b[0m\u001b[0;34m,\u001b[0m \u001b[0mx\u001b[0m\u001b[0;34m.\u001b[0m\u001b[0mshape\u001b[0m\u001b[0;34m[\u001b[0m\u001b[0;34m-\u001b[0m\u001b[0;36m1\u001b[0m\u001b[0;34m]\u001b[0m\u001b[0;34m,\u001b[0m \u001b[0mdtype\u001b[0m\u001b[0;34m=\u001b[0m\u001b[0mx\u001b[0m\u001b[0;34m.\u001b[0m\u001b[0mdtype\u001b[0m\u001b[0;34m,\u001b[0m \u001b[0mdevice\u001b[0m\u001b[0;34m=\u001b[0m\u001b[0mx\u001b[0m\u001b[0;34m.\u001b[0m\u001b[0mdevice\u001b[0m\u001b[0;34m)\u001b[0m\u001b[0;34m,\u001b[0m \u001b[0mx\u001b[0m\u001b[0;34m]\u001b[0m\u001b[0;34m,\u001b[0m \u001b[0mdim\u001b[0m\u001b[0;34m=\u001b[0m\u001b[0;36m1\u001b[0m\u001b[0;34m)\u001b[0m  \u001b[0;31m# shape = [*, grid ** 2 + 1, width]\u001b[0m\u001b[0;34m\u001b[0m\u001b[0;34m\u001b[0m\u001b[0m\n\u001b[0;32m--> 412\u001b[0;31m         \u001b[0mx\u001b[0m \u001b[0;34m=\u001b[0m \u001b[0mx\u001b[0m \u001b[0;34m+\u001b[0m \u001b[0mself\u001b[0m\u001b[0;34m.\u001b[0m\u001b[0mpositional_embedding\u001b[0m\u001b[0;34m.\u001b[0m\u001b[0mto\u001b[0m\u001b[0;34m(\u001b[0m\u001b[0mx\u001b[0m\u001b[0;34m.\u001b[0m\u001b[0mdtype\u001b[0m\u001b[0;34m)\u001b[0m\u001b[0;34m\u001b[0m\u001b[0;34m\u001b[0m\u001b[0m\n\u001b[0m\u001b[1;32m    413\u001b[0m         \u001b[0mx\u001b[0m \u001b[0;34m=\u001b[0m \u001b[0mself\u001b[0m\u001b[0;34m.\u001b[0m\u001b[0mln_pre\u001b[0m\u001b[0;34m(\u001b[0m\u001b[0mx\u001b[0m\u001b[0;34m)\u001b[0m\u001b[0;34m\u001b[0m\u001b[0;34m\u001b[0m\u001b[0m\n\u001b[1;32m    414\u001b[0m \u001b[0;34m\u001b[0m\u001b[0m\n",
      "\u001b[0;31mRuntimeError\u001b[0m: The size of tensor a (626) must match the size of tensor b (50) at non-singleton dimension 1"
     ]
    }
   ],
   "source": [
    "# Load SPoSE vectors\n",
    "# spose_embedding_49d_sorted.txt  == dims for categories\n",
    "# sposedim_labels.mat - labels for dims\n",
    "# sposedim_labels_short.mat - short labels for dims\n",
    "\n",
    "img_i = 0\n",
    "for thingscat in thingscats:\n",
    "\n",
    "    for thingsimg, catID in thingsloader:\n",
    "\n",
    "        img = normalize_image(thingsimg)\n",
    "        img_emb = clip_perceptor.encode_image(img)\n",
    "\n",
    "        img_i += 1\n",
    "\n",
    "        if img_i > 3:\n",
    "            break\n",
    "        \n",
    "    # TODO: sammle things images for cat in dir\n",
    "    # TODO: iterate through dict keys\n",
    "    # TODO: collect clip vectors for each image\n"
   ]
  },
  {
   "cell_type": "code",
   "execution_count": 10,
   "id": "662f2d54",
   "metadata": {},
   "outputs": [
    {
     "name": "stdout",
     "output_type": "stream",
     "text": [
      "Number of images in THINGS dir: 26107\n"
     ]
    }
   ],
   "source": [
    "print(\"Number of images in THINGS dir:\", len(thingsimgs))\n",
    "\n",
    "# TODO: ordne wie SPOSE vectors"
   ]
  },
  {
   "cell_type": "code",
   "execution_count": null,
   "id": "62a1360d",
   "metadata": {},
   "outputs": [],
   "source": [
    "##img = torch.cat(pieces)   ## ???\n",
    "\n"
   ]
  },
  {
   "cell_type": "code",
   "execution_count": null,
   "id": "78b27c86",
   "metadata": {},
   "outputs": [],
   "source": [
    "x_train, x_test, y_train, y_test = train_test_split(x, y, test_size=0.30, random_state=42)\n",
    "\n"
   ]
  },
  {
   "cell_type": "code",
   "execution_count": null,
   "id": "9d513b2e",
   "metadata": {},
   "outputs": [],
   "source": [
    "w = loadmat('B0_standardized.mat')['B0']\n",
    "\n",
    "ex_spose = [ 0.9975425004959106445312,\n",
    "             0.0001165076973848044872,\n",
    "             0.1091338619589805603027,\n",
    "             0.0071640675887465476990,\n",
    "             1.1984958648681640625000,\n",
    "             0.2753616869449615478516,\n",
    "             0.8005445003509521484375,\n",
    "             0.2722410559654235839844,\n",
    "             0.6451282501220703125000,\n",
    "             0.0351612679660320281982,\n",
    "             0.0312536247074604034424,\n",
    "             0.3802412450313568115234,\n",
    "             0.3117764592170715332031,\n",
    "             0.0155706601217389106750,\n",
    "             0.0168391242623329162598,\n",
    "             0.0065652816556394100189,\n",
    "             0.1131838187575340270996,\n",
    "             0.0558566302061080932617,\n",
    "             0.1507061272859573364258,\n",
    "             0.0748926475644111633301,\n",
    "             0.0195377804338932037354,\n",
    "             0.0331766046583652496338,\n",
    "             0.0119927432388067245483,\n",
    "             0.0441104471683502197266,\n",
    "             0.0087339030578732490540,\n",
    "             0.0189806353300809860229,\n",
    "             0.0121925659477710723877,\n",
    "             0.0134500823915004730225,\n",
    "             0.0189566742628812789917,\n",
    "             0.0222378205507993698120,\n",
    "             0.0289330482482910156250,\n",
    "             0.3876130878925323486328,\n",
    "             0.0256285127252340316772,\n",
    "             0.0070729865692555904388,\n",
    "             0.0517533086240291595459,\n",
    "             0.0272355675697326660156,\n",
    "             0.0409869700670242309570,\n",
    "             0.1087436452507972717285,\n",
    "             0.0055408310145139694214,\n",
    "             0.0168069396167993545532,\n",
    "             0.0551970452070236206055,\n",
    "             0.8168405294418334960938,\n",
    "             0.0309042464941740036011,\n",
    "             0.0218161847442388534546,\n",
    "             0.0366795845329761505127,\n",
    "             0.0297530721873044967651,\n",
    "             0.0599620603024959564209,\n",
    "             0.0299207344651222229004,\n",
    "             0.0386633872985839843750 ]\n",
    "# (1) iterate through all THINGS images\n",
    "# (2) push thru CLIP (big-sleep-code)\n",
    "# (3) save CLIP dims for 1854x12 images in .mat file"
   ]
  },
  {
   "cell_type": "code",
   "execution_count": 15,
   "id": "4354bb90",
   "metadata": {},
   "outputs": [
    {
     "data": {
      "text/plain": [
       "(513, 49)"
      ]
     },
     "execution_count": 15,
     "metadata": {},
     "output_type": "execute_result"
    }
   ],
   "source": [
    "w.shape"
   ]
  },
  {
   "cell_type": "code",
   "execution_count": 16,
   "id": "f4e056e8",
   "metadata": {},
   "outputs": [],
   "source": [
    "pred_spose = np.dot(w, ex_spose)"
   ]
  },
  {
   "cell_type": "code",
   "execution_count": 22,
   "id": "c73d1117",
   "metadata": {},
   "outputs": [
    {
     "data": {
      "text/plain": [
       "(513,)"
      ]
     },
     "execution_count": 22,
     "metadata": {},
     "output_type": "execute_result"
    }
   ],
   "source": [
    "pred_spose.shape"
   ]
  },
  {
   "cell_type": "code",
   "execution_count": 23,
   "id": "2ae71517",
   "metadata": {},
   "outputs": [
    {
     "data": {
      "text/plain": [
       "array([ 1.69377445e+00, -2.76439077e-02,  3.46379903e-02, -8.64144141e-03,\n",
       "       -5.45750178e-03,  9.08126112e-02,  2.11592839e-02,  8.06359681e-03,\n",
       "        9.35421572e-03, -1.37752431e-01,  3.17834304e-02,  1.22711652e-02,\n",
       "        1.49770829e-03,  4.31098453e-02, -3.77771924e-02,  5.08406808e-03,\n",
       "       -1.93669675e-02, -1.07349438e-01,  3.60750681e-03, -4.78334144e-02,\n",
       "       -1.05301569e-03,  1.57696954e-01,  5.04007151e-03,  1.78252123e-02,\n",
       "        4.58981167e-02,  7.43020884e-02,  5.24780328e-02,  1.50875198e-03,\n",
       "       -5.32103902e-02, -1.32712521e-02,  2.77695222e-02, -4.10422193e-02,\n",
       "        5.22433961e-03,  1.90301677e-02,  2.62561696e-02,  5.16155416e-02,\n",
       "       -4.52895032e-02, -7.01960540e-02, -3.10427823e-02, -1.12272467e-02,\n",
       "       -1.98520739e-02,  7.93512877e-03, -1.98940289e-02, -5.63297074e-02,\n",
       "       -2.93150468e-02,  6.44681910e-02, -5.57566526e-02, -6.74078448e-02,\n",
       "        1.69392929e-02, -4.01275469e-02,  1.58307257e-02, -3.12211123e-02,\n",
       "       -3.64951971e-02,  4.61900907e-02, -4.21023178e-03,  3.11399696e-03,\n",
       "       -3.10247503e-04, -5.95661627e-02, -5.23603283e-02,  6.95639223e-02,\n",
       "       -1.41068219e-02, -7.41198461e-02,  4.42038929e-03, -9.61279926e-03,\n",
       "       -3.24585503e-02,  3.89753004e-02,  9.12296512e-03,  4.56963112e-02,\n",
       "       -5.95069713e-02, -1.51454872e-02,  1.83430039e-02, -6.83111181e-03,\n",
       "        1.32579341e-02,  1.39169641e-02,  2.24889158e-03,  2.63494233e-02,\n",
       "        1.76841565e-02,  5.11680963e-02,  2.87395719e-02,  4.74666044e-02,\n",
       "       -2.74286541e-02,  1.43119604e-02,  5.37128353e-02,  3.57667589e-03,\n",
       "        3.58202029e-02, -9.18842547e-03,  7.43855838e-03, -1.98069052e-02,\n",
       "        3.39447997e-02, -7.64437519e-02,  1.97204590e-02, -8.31977683e-02,\n",
       "        4.91699134e-02, -5.17576684e-03,  3.62322687e-02,  3.83180175e-02,\n",
       "        1.54685916e-02,  3.66196473e-03,  5.85280703e-02, -7.97811038e-03,\n",
       "       -7.69103320e-02,  1.10419849e-02,  2.58447855e-03, -3.97299145e-03,\n",
       "        2.38178029e-02,  8.40563753e-02,  9.80618904e-03, -6.75537507e-02,\n",
       "       -1.87256377e-02, -7.24359521e-02,  1.50101764e-02, -1.12064657e-02,\n",
       "        4.78928934e-03, -2.51170989e-02, -1.05425175e-02,  2.29300332e-02,\n",
       "       -5.23197041e-02, -9.73812089e-02,  4.27135019e-02, -1.90593002e-02,\n",
       "        7.92406840e-02,  2.02606856e-02, -2.13834418e-02, -5.36586399e-03,\n",
       "        2.32705254e-02, -7.42295091e-03, -2.88455482e-02, -2.72914073e-02,\n",
       "       -2.89736331e-02,  3.68713586e-02,  5.83614878e-02, -7.33905129e-03,\n",
       "       -5.05886035e-02,  2.07212333e-02,  5.37193075e-03,  7.10385019e-02,\n",
       "       -5.50947505e-02, -5.46935220e-03,  2.81541415e-02, -1.86666794e-02,\n",
       "        4.37902715e-02,  7.36722568e-03,  2.59802477e-02,  2.01823130e-02,\n",
       "        4.86260854e-02,  1.37416631e-02, -1.89578145e-02, -6.88296694e-02,\n",
       "       -3.91804896e-02,  3.20086056e-02, -4.36972207e-02,  3.85440220e-03,\n",
       "       -3.66798242e-02,  9.41413562e-03,  1.58931859e-03,  2.96565367e-02,\n",
       "       -3.71447176e-02,  1.67287596e-02, -1.57293582e-03,  3.69559603e-02,\n",
       "        1.11313801e-02,  2.07029247e-02,  1.62419153e-02,  4.55607109e-02,\n",
       "       -1.90896406e-02, -7.37850402e-03,  6.23788279e-02,  2.11721714e-02,\n",
       "        7.45580315e-03, -4.57476319e-02, -6.60020564e-03,  5.32674912e-02,\n",
       "       -2.09297559e-03,  7.27135478e-02,  6.90074391e-02, -4.27228584e-02,\n",
       "        1.04977227e-02,  6.56582012e-02, -1.39137246e-02, -7.71567569e-02,\n",
       "        1.33658724e-02,  7.09021011e-03,  2.16243901e-02, -1.00482987e-02,\n",
       "       -2.36624834e-03,  3.00137230e-03, -5.01169353e-03,  6.50440583e-05,\n",
       "        6.42412471e-02,  1.18915140e-04, -4.21416311e-02, -1.57634044e-02,\n",
       "       -6.08704508e-02,  2.60837134e-03, -4.14375102e-03, -8.19321552e-02,\n",
       "       -3.54732187e-02,  4.89529842e-02,  2.90637320e-03, -1.04183530e-01,\n",
       "       -9.34358121e-02,  7.26546289e-03, -1.46036625e-02,  1.32310694e-02,\n",
       "        2.25313096e-02,  3.91285289e-03,  2.02044833e-02,  3.26549052e-03,\n",
       "        2.25320098e-03, -3.83751020e-03, -4.33750891e-02, -2.90220317e-02,\n",
       "       -2.09204170e-02, -6.43818353e-03, -4.55446727e-02, -3.63162890e-03,\n",
       "       -5.58308511e-04, -2.20768031e-02, -1.60530767e-02,  1.18416264e-04,\n",
       "       -4.01504838e-02, -1.32877711e-02, -7.96700705e-03, -1.14591944e-02,\n",
       "       -7.98912565e-02, -3.73581103e-02,  4.50319792e-02,  3.82721686e-02,\n",
       "        5.29046081e-02, -1.29774588e-02,  3.69176868e-02,  1.02546917e-02,\n",
       "       -1.51840331e-02, -5.96101643e-02,  5.52261813e-02, -5.71779479e-02,\n",
       "        5.40492716e-02,  1.75960456e-02, -1.35610246e-02, -4.43172901e-02,\n",
       "        9.90386818e-03, -8.07961042e-03, -4.22944483e-02, -3.21780793e-02,\n",
       "        2.93489083e-02,  3.10380293e-02,  1.35855584e-01, -1.32303021e-02,\n",
       "        2.25559962e-02, -5.32271715e-02,  1.94882782e-02,  1.95249895e-02,\n",
       "       -1.90114537e-02, -4.06335841e-02, -5.69405182e-02,  6.41414728e-03,\n",
       "        7.11776397e-02,  6.35841345e-02,  1.59437676e-03,  5.03590419e-02,\n",
       "       -7.78184737e-03,  7.51699082e-03,  9.30677453e-03,  2.55044788e-02,\n",
       "        5.26182390e-02,  3.80748897e-02, -4.76761957e-02, -8.66566352e-03,\n",
       "       -2.63762891e-02,  2.43219390e-02,  2.28375477e-02, -6.47055953e-02,\n",
       "       -1.83972739e-02, -1.33742007e-02,  2.01939804e-02, -3.51299088e-02,\n",
       "       -4.56304636e-04, -1.79990870e-02, -2.97527682e-02,  2.96682584e-02,\n",
       "       -2.50721689e-02,  8.18396765e-02, -1.56168952e-02, -8.38617015e-03,\n",
       "        2.39460649e-02,  7.69928535e-02,  6.61576077e-03,  4.14676694e-02,\n",
       "        2.60691573e-02, -1.36112565e-02, -6.43847401e-02,  2.32157877e-02,\n",
       "       -5.95982373e-02, -1.87191428e-03,  3.35801899e-02,  1.44325698e-02,\n",
       "       -2.44855046e-02, -1.34588858e-02,  2.67117393e-02, -1.60716825e-02,\n",
       "       -3.08265146e-02,  3.44344181e-02,  1.25307287e-02, -5.08257560e-02,\n",
       "       -3.96483782e-02, -4.63414868e-02, -7.76070618e-02, -3.20036280e-02,\n",
       "       -4.47425906e-02, -7.77334304e-03, -3.81224748e-03, -2.61886253e-03,\n",
       "        7.50138956e-02,  1.10363501e-02, -2.62289493e-02,  1.75924514e-02,\n",
       "       -1.64745754e-02,  3.41451255e-02, -6.24897070e-02,  3.67378025e-03,\n",
       "       -7.58994782e-02,  5.54464441e-02,  9.74868071e-03,  4.26987197e-03,\n",
       "        5.18206879e-02, -1.86745154e-02, -3.07151863e-02, -6.45127620e-03,\n",
       "       -5.35094720e-02, -4.50541335e-02,  2.00006865e-02,  5.72285242e-03,\n",
       "        5.98737211e-02,  3.55193462e-03, -2.15466082e-02,  6.10772517e-02,\n",
       "        6.12996851e-03,  5.66172036e-03, -1.89622147e-02,  9.42128472e-04,\n",
       "       -1.45126097e-02,  4.41008813e-02,  2.29823849e-02, -2.99925747e-02,\n",
       "       -7.19836002e-02, -4.14253745e-03, -3.18442936e-02, -1.01045725e-02,\n",
       "       -4.64284962e-02, -4.70264575e-02, -4.95554074e-02, -6.00861163e-04,\n",
       "       -1.11806845e-02, -1.18393722e-01,  2.88417364e-02, -3.61067893e-02,\n",
       "       -3.99371159e-02, -5.37897599e-02, -1.18290776e-02, -1.36405630e-02,\n",
       "       -6.02725653e-02, -7.45960500e-02,  2.49149461e-02,  2.90552848e-02,\n",
       "       -2.51941647e-02, -3.19937485e-03, -4.25256408e-02,  3.41775109e-02,\n",
       "        1.12202951e-02,  4.69731641e-02,  6.19208069e-02,  1.87539779e-02,\n",
       "       -3.24610039e-02, -5.62684531e-02, -4.73568753e-02,  5.29956564e-02,\n",
       "       -5.81500930e-02, -7.71565714e-02, -1.71974737e-02,  8.57015114e-02,\n",
       "        1.15483866e-02, -4.90041011e-03,  5.67151198e-02, -6.46251198e-02,\n",
       "        3.35438744e-02,  5.87807279e-02, -1.26152628e-02,  9.12803499e-02,\n",
       "       -8.14913746e-03,  1.05922506e-01,  5.01922843e-03, -4.15621188e-03,\n",
       "        5.10553407e-02, -3.14461005e-02, -4.41842206e-02, -2.69847658e-03,\n",
       "        2.41745286e-03, -1.56375328e-02, -1.60173775e-02,  8.04104195e-02,\n",
       "       -3.91812648e-03, -5.04504790e-02, -5.33685304e-03,  7.42634457e-04,\n",
       "        9.45938958e-03,  1.13260257e-02, -1.24546189e-03,  4.62925541e-02,\n",
       "        6.25713111e-02, -5.28104163e-02, -8.68698711e-04, -3.72275286e-02,\n",
       "        2.40588950e-02,  5.16102121e-02, -8.00621231e-02,  1.74330209e-02,\n",
       "        4.33389475e-02, -2.89987578e-02, -4.05622832e-02, -4.74656509e-02,\n",
       "        1.15353627e-02, -2.55166089e-02,  3.75118488e-02, -2.74700143e-02,\n",
       "       -1.79363721e-02,  2.01640234e-02,  4.63348215e-03,  1.71425070e-02,\n",
       "        1.50289595e-02, -4.52101180e-03, -1.20856757e-02,  1.10761364e-02,\n",
       "        1.36109859e-02,  2.36500869e-02, -2.96311685e-02,  1.21003947e-02,\n",
       "       -1.22108561e-02, -2.23091311e-02, -1.48339470e-02, -1.53327650e-02,\n",
       "       -1.32827618e-02,  3.45987923e-02,  1.55547159e-02,  7.56385563e-02,\n",
       "        3.35707592e-02, -4.84290641e-02,  6.17488656e-03,  3.26949053e-02,\n",
       "       -2.47082378e-02, -3.62548938e-02, -2.58764665e-03,  2.12790061e-02,\n",
       "        6.31379542e-03, -8.58073470e-03, -3.44598394e-03,  4.86486212e-02,\n",
       "        2.98110882e-02,  9.11903183e-02, -3.04462561e-02,  4.18409341e-02,\n",
       "       -1.68885655e-02,  2.13617091e-02,  4.32978111e-02, -3.32292015e-02,\n",
       "        1.09561830e-03,  9.35829823e-03,  7.41455253e-02,  5.33012253e-02,\n",
       "       -1.63039636e-02, -2.17904688e-02, -4.17693028e-03,  5.57392939e-03,\n",
       "       -3.73648881e-02,  9.02178688e-02, -1.87493551e-02,  2.11165873e-02,\n",
       "        3.12276471e-03,  6.76944485e-02, -3.73635289e-02,  1.25430078e-02,\n",
       "       -7.93193734e-02,  1.08862361e-02, -4.86410141e-02,  4.94789334e-02,\n",
       "        2.97603009e-02,  7.25759555e-02, -5.04917185e-02, -1.42607294e-02,\n",
       "        1.90296092e-02,  4.97089284e-02,  8.47452100e-03, -4.23480464e-02,\n",
       "        2.04727917e-03,  6.02840107e-02, -2.49944012e-02,  7.56183116e-03,\n",
       "       -1.73466655e-02, -7.67961274e-03, -2.88716583e-02,  4.22350953e-02,\n",
       "       -1.22366205e-01,  4.02817874e-02, -6.46572881e-02,  6.51740239e-02,\n",
       "        9.50822379e-03,  4.62633962e-02,  8.36486327e-02,  3.42647272e-02,\n",
       "        1.91197261e-03, -4.44902902e-03, -2.33547745e-03, -4.35369609e-02,\n",
       "       -6.15289025e-02])"
      ]
     },
     "execution_count": 23,
     "metadata": {},
     "output_type": "execute_result"
    }
   ],
   "source": [
    "pred_spose  # TODO: bearbeiten? "
   ]
  },
  {
   "cell_type": "code",
   "execution_count": 21,
   "id": "bc4e5905",
   "metadata": {},
   "outputs": [
    {
     "data": {
      "text/plain": [
       "array([ 0.        ,  0.        , -0.        ,  0.00905891, -0.038716  ,\n",
       "        0.0129695 , -0.        ,  0.00756257, -0.        ,  0.01706754,\n",
       "       -0.        ,  0.        , -0.02882218,  0.        , -0.        ,\n",
       "        0.00936854, -0.00483221, -0.        , -0.00781206, -0.        ,\n",
       "       -0.        ,  0.        , -0.01099454, -0.        , -0.03706237,\n",
       "        0.        , -0.        ,  0.00870609, -0.02445644, -0.01066406,\n",
       "        0.00498796,  0.        , -0.01092766, -0.        ,  0.00637899,\n",
       "        0.00686441,  0.        , -0.        , -0.02098082,  0.01142042,\n",
       "        0.00902877, -0.01237741, -0.        ,  0.00167139, -0.00295781,\n",
       "       -0.01610521, -0.        , -0.00096545,  0.        ])"
      ]
     },
     "execution_count": 21,
     "metadata": {},
     "output_type": "execute_result"
    }
   ],
   "source": [
    "w[-1,:]"
   ]
  },
  {
   "cell_type": "code",
   "execution_count": null,
   "id": "142699be",
   "metadata": {},
   "outputs": [],
   "source": []
  }
 ],
 "metadata": {
  "kernelspec": {
   "display_name": "Python 3 (ipykernel)",
   "language": "python",
   "name": "python3"
  },
  "language_info": {
   "codemirror_mode": {
    "name": "ipython",
    "version": 3
   },
   "file_extension": ".py",
   "mimetype": "text/x-python",
   "name": "python",
   "nbconvert_exporter": "python",
   "pygments_lexer": "ipython3",
   "version": "3.7.11"
  }
 },
 "nbformat": 4,
 "nbformat_minor": 5
}
