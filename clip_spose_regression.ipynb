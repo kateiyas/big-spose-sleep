{
 "cells": [
  {
   "cell_type": "code",
   "execution_count": 1,
   "id": "477a1e72",
   "metadata": {},
   "outputs": [],
   "source": [
    "import numpy as np\n",
    "from sklearn.model_selection import cross_val_score\n",
    "from sklearn.multioutput import MultiOutputRegressor\n",
    "import xgboost as xgb\n",
    "from sklearn.linear_model import MultiTaskElasticNet, Ridge, RidgeCV, ElasticNet, ElasticNetCV, Lasso, MultiTaskLassoCV, LinearRegression\n",
    "from sklearn.metrics import mean_squared_error, median_absolute_error, r2_score, explained_variance_score, mean_absolute_percentage_error\n",
    "from scipy.io import loadmat, savemat\n",
    "from sklearn.preprocessing import StandardScaler\n",
    "##from big_sleep.clip import load\n",
    "##from big_sleep.big_spose_sleep import create_clip_img_transform\n",
    "import glob\n",
    "import torch\n",
    "from os.path import exists\n",
    "#from ridge import ridge, ridge_corr, bootstrap_ridge\n",
    "\n",
    "from sklearn.ensemble import GradientBoostingClassifier\n",
    "#https://scikit-learn.org/stable/modules/generated/sklearn.linear_model.ElasticNet.html#sklearn.linear_model.ElasticNet\n",
    "\n",
    "from torchvision import datasets, transforms\n",
    "\n",
    "from sklearn.datasets import make_regression\n",
    "from sklearn.model_selection import train_test_split\n",
    "\n",
    "from sklearn.multioutput import MultiOutputRegressor\n",
    "from sklearn.ensemble import GradientBoostingRegressor, HistGradientBoostingRegressor"
   ]
  },
  {
   "cell_type": "markdown",
   "id": "bbe86d78",
   "metadata": {},
   "source": [
    "## Extract CLIP features"
   ]
  },
  {
   "cell_type": "code",
   "execution_count": 2,
   "id": "cdfe5a32",
   "metadata": {},
   "outputs": [],
   "source": [
    "thingsroot = \"/Users/katja/Documents/Data/THINGS/\"\n",
    "\n",
    "#thingscats = [catdir.split(\"/\")[-1] for catdir in glob.glob(thingsroot+\"/images/*\")]\n",
    "thingsimgfns = thingsroot+\"/images/{}/*.*\"\n",
    "\n",
    "regr_data_fn = \"../data_spose_to_clip.mat\"\n",
    "\n",
    "reextract_data = False\n",
    "\n",
    "thingscats = []\n",
    "with open(thingsroot+\"THINGS_unique_IDs.txt\", 'r') as handle:\n",
    "    lines = handle.readlines()\n",
    "    for line in lines:\n",
    "        line = line.strip()\n",
    "        if len(line)>0:\n",
    "            thingscats.append(line)\n",
    "\n",
    "assert(len(thingscats)==1854)\n",
    "\n",
    "spose_cat_emb = np.loadtxt(thingsroot+\"spose_embedding_49d_sorted.txt\")\n",
    "\n",
    "assert(len(thingscats)==spose_cat_emb.shape[0])\n",
    "\n",
    "#num_imgs = 0\n",
    "#for thingscat in thingscats:\n",
    "#    thingscatimgfns = glob.glob(thingsimgfns.format(thingscat))\n",
    "#    num_imgs += len(thingscatimgfns)\n",
    "#print(\"Number of THINGS images found:\", num_imgs)\n",
    "    \n",
    "##clip_perceptor, _ = load('ViT-B/32', jit = False)\n",
    "##clip_transform = create_clip_img_transform(224)"
   ]
  },
  {
   "cell_type": "code",
   "execution_count": 40,
   "id": "8874670e",
   "metadata": {},
   "outputs": [
    {
     "ename": "NameError",
     "evalue": "name 'clip_transform' is not defined",
     "output_type": "error",
     "traceback": [
      "\u001b[0;31m---------------------------------------------------------------------------\u001b[0m",
      "\u001b[0;31mNameError\u001b[0m                                 Traceback (most recent call last)",
      "\u001b[0;32m/var/folders/r_/hnd33lkn4gsfnf5jlkssqggm0000gp/T/ipykernel_22551/922677277.py\u001b[0m in \u001b[0;36m<module>\u001b[0;34m\u001b[0m\n\u001b[0;32m----> 1\u001b[0;31m \u001b[0mthingsimgs\u001b[0m \u001b[0;34m=\u001b[0m \u001b[0mdatasets\u001b[0m\u001b[0;34m.\u001b[0m\u001b[0mImageFolder\u001b[0m\u001b[0;34m(\u001b[0m\u001b[0mthingsroot\u001b[0m\u001b[0;34m+\u001b[0m\u001b[0;34m'/images/'\u001b[0m\u001b[0;34m,\u001b[0m \u001b[0mtransform\u001b[0m\u001b[0;34m=\u001b[0m\u001b[0mclip_transform\u001b[0m\u001b[0;34m)\u001b[0m\u001b[0;34m\u001b[0m\u001b[0;34m\u001b[0m\u001b[0m\n\u001b[0m\u001b[1;32m      2\u001b[0m \u001b[0mthingsloader\u001b[0m \u001b[0;34m=\u001b[0m \u001b[0mtorch\u001b[0m\u001b[0;34m.\u001b[0m\u001b[0mutils\u001b[0m\u001b[0;34m.\u001b[0m\u001b[0mdata\u001b[0m\u001b[0;34m.\u001b[0m\u001b[0mDataLoader\u001b[0m\u001b[0;34m(\u001b[0m\u001b[0mthingsimgs\u001b[0m\u001b[0;34m,\u001b[0m \u001b[0mbatch_size\u001b[0m\u001b[0;34m=\u001b[0m\u001b[0;36m1\u001b[0m\u001b[0;34m,\u001b[0m \u001b[0mshuffle\u001b[0m\u001b[0;34m=\u001b[0m\u001b[0;32mFalse\u001b[0m\u001b[0;34m)\u001b[0m\u001b[0;34m\u001b[0m\u001b[0;34m\u001b[0m\u001b[0m\n\u001b[1;32m      3\u001b[0m \u001b[0;34m\u001b[0m\u001b[0m\n\u001b[1;32m      4\u001b[0m \u001b[0mprint\u001b[0m\u001b[0;34m(\u001b[0m\u001b[0;34m\"Number of THINGS images found:\"\u001b[0m\u001b[0;34m,\u001b[0m \u001b[0mlen\u001b[0m\u001b[0;34m(\u001b[0m\u001b[0mthingsloader\u001b[0m\u001b[0;34m)\u001b[0m\u001b[0;34m)\u001b[0m\u001b[0;34m\u001b[0m\u001b[0;34m\u001b[0m\u001b[0m\n\u001b[1;32m      5\u001b[0m \u001b[0;34m\u001b[0m\u001b[0m\n",
      "\u001b[0;31mNameError\u001b[0m: name 'clip_transform' is not defined"
     ]
    }
   ],
   "source": [
    "thingsimgs = datasets.ImageFolder(thingsroot+'/images/', transform=clip_transform)\n",
    "thingsloader = torch.utils.data.DataLoader(thingsimgs, batch_size=1, shuffle=False)\n",
    "\n",
    "print(\"Number of THINGS images found:\", len(thingsloader))\n",
    "\n",
    "print(clip_transform)\n",
    "\n",
    "num_imgs = len(thingsloader)"
   ]
  },
  {
   "cell_type": "code",
   "execution_count": 41,
   "id": "d0a5b1e3",
   "metadata": {},
   "outputs": [
    {
     "ename": "NameError",
     "evalue": "name 'thingsloader' is not defined",
     "output_type": "error",
     "traceback": [
      "\u001b[0;31m---------------------------------------------------------------------------\u001b[0m",
      "\u001b[0;31mNameError\u001b[0m                                 Traceback (most recent call last)",
      "\u001b[0;32m/var/folders/r_/hnd33lkn4gsfnf5jlkssqggm0000gp/T/ipykernel_22551/3556275756.py\u001b[0m in \u001b[0;36m<module>\u001b[0;34m\u001b[0m\n\u001b[1;32m      1\u001b[0m \u001b[0;31m# Looping through it, get a batch on each loop\u001b[0m\u001b[0;34m\u001b[0m\u001b[0;34m\u001b[0m\u001b[0;34m\u001b[0m\u001b[0m\n\u001b[1;32m      2\u001b[0m \u001b[0mshow_num\u001b[0m \u001b[0;34m=\u001b[0m \u001b[0;36m50\u001b[0m\u001b[0;34m\u001b[0m\u001b[0;34m\u001b[0m\u001b[0m\n\u001b[0;32m----> 3\u001b[0;31m \u001b[0;32mfor\u001b[0m \u001b[0mi\u001b[0m\u001b[0;34m,\u001b[0m \u001b[0;34m(\u001b[0m\u001b[0mthingsimg\u001b[0m\u001b[0;34m,\u001b[0m \u001b[0mcatID\u001b[0m\u001b[0;34m)\u001b[0m \u001b[0;32min\u001b[0m \u001b[0menumerate\u001b[0m\u001b[0;34m(\u001b[0m\u001b[0mthingsloader\u001b[0m\u001b[0;34m)\u001b[0m\u001b[0;34m:\u001b[0m\u001b[0;34m\u001b[0m\u001b[0;34m\u001b[0m\u001b[0m\n\u001b[0m\u001b[1;32m      4\u001b[0m     \u001b[0;31m#print(thingscats[catID])\u001b[0m\u001b[0;34m\u001b[0m\u001b[0;34m\u001b[0m\u001b[0;34m\u001b[0m\u001b[0m\n\u001b[1;32m      5\u001b[0m     \u001b[0;31m#print(thingsimg.shape)\u001b[0m\u001b[0;34m\u001b[0m\u001b[0;34m\u001b[0m\u001b[0;34m\u001b[0m\u001b[0m\n",
      "\u001b[0;31mNameError\u001b[0m: name 'thingsloader' is not defined"
     ]
    }
   ],
   "source": [
    "# Looping through it, get a batch on each loop \n",
    "show_num = 50\n",
    "for i, (thingsimg, catID) in enumerate(thingsloader): \n",
    "    #print(thingscats[catID])\n",
    "    #print(thingsimg.shape)\n",
    "    if i > show_num:\n",
    "        break"
   ]
  },
  {
   "cell_type": "code",
   "execution_count": 3,
   "id": "23120728",
   "metadata": {},
   "outputs": [
    {
     "name": "stdout",
     "output_type": "stream",
     "text": [
      "CPU times: user 36.8 ms, sys: 56.2 ms, total: 92.9 ms\n",
      "Wall time: 96.2 ms\n"
     ]
    }
   ],
   "source": [
    "%%time\n",
    "#https://www.datacamp.com/community/tutorials/xgboost-in-python\n",
    "\n",
    "if not exists(regr_data_fn) and reextract_data:\n",
    "    # CPU times: user 1h 7min 42s, sys: 2min 53s, total: 1h 10min 36s\n",
    "    # Wall time: 1h 8min 37s\n",
    "\n",
    "    x_spose_vecs = np.zeros([num_imgs,49])  # X: SPoSE vectors (same for each cat)\n",
    "    y_clip_vecs = np.zeros([num_imgs,512])  # Y: clip vectors\n",
    "\n",
    "    # Load data\n",
    "    img_i = 0\n",
    "    for i, (thingsimg, catID) in enumerate(thingsloader):\n",
    "\n",
    "        x_spose_vecs[i,:] = spose_cat_emb[catID,:] \n",
    "        y_clip_vecs[i,:] = clip_perceptor.encode_image(thingsimg).detach().numpy().squeeze()\n",
    "\n",
    "        img_i += 1\n",
    "\n",
    "    savemat(regr_data_fn, {\"x_spose\":x_spose_vecs, \"y_clip\":y_clip_vecs})\n",
    "else: \n",
    "    regr_data = loadmat(regr_data_fn)\n",
    "    x_spose_vecs = regr_data[\"x_spose\"]\n",
    "    y_clip_vecs = regr_data[\"y_clip\"]"
   ]
  },
  {
   "cell_type": "code",
   "execution_count": 4,
   "id": "662f2d54",
   "metadata": {},
   "outputs": [
    {
     "name": "stdout",
     "output_type": "stream",
     "text": [
      "X shape: (26107, 49)\n",
      "Y shape: (26107, 512)\n"
     ]
    }
   ],
   "source": [
    "print(\"X shape:\", x_spose_vecs.shape)\n",
    "print(\"Y shape:\", y_clip_vecs.shape)\n",
    "\n",
    "xspose_train, xspose_test, yclip_train, yclip_test = train_test_split( x_spose_vecs, \n",
    "                                                                       y_clip_vecs, \n",
    "                                                                       test_size=0.10, \n",
    "                                                                       random_state=42)\n",
    "\n",
    "xclip_train, xclip_test, yspose_train, yspose_test = train_test_split( y_clip_vecs, \n",
    "                                                                       x_spose_vecs, \n",
    "                                                                       test_size=0.10, \n",
    "                                                                       random_state=42)"
   ]
  },
  {
   "cell_type": "code",
   "execution_count": 30,
   "id": "36a5c277",
   "metadata": {},
   "outputs": [],
   "source": [
    "if False: # scaling\n",
    "    scaler = StandardScaler()\n",
    "    xspose_train = scaler.fit_transform(xspose_train)\n",
    "    xspose_test = scaler.fit_transform(xspose_test)\n",
    "    \n",
    "    xclip_train = scaler.fit_transform(xclip_train)\n",
    "    xclip_test = scaler.fit_transform(xclip_test)"
   ]
  },
  {
   "cell_type": "code",
   "execution_count": 104,
   "id": "200b3f10",
   "metadata": {},
   "outputs": [
    {
     "name": "stdout",
     "output_type": "stream",
     "text": [
      "Default Ridge SPoSE-to-CLIP R2: 0.48681972609016083\n"
     ]
    }
   ],
   "source": [
    "# checking data for issues by doing CLIP-to-SPoSE (which is supposed to work)\n",
    "model = Ridge()\n",
    "model.fit(xclip_train, yspose_train)\n",
    "yspose_test_pred = model.predict(xclip_test)\n",
    "\n",
    "print(\"Default Ridge SPoSE-to-CLIP R2:\", r2_score(yspose_test, yspose_test_pred))\n",
    "\n",
    "# TODO: find best\n",
    "# TODO: determine best parameters"
   ]
  },
  {
   "cell_type": "code",
   "execution_count": null,
   "id": "140be33b",
   "metadata": {},
   "outputs": [],
   "source": []
  },
  {
   "cell_type": "code",
   "execution_count": 105,
   "id": "83eef859",
   "metadata": {},
   "outputs": [
    {
     "data": {
      "text/plain": [
       "0.5152470793049417"
      ]
     },
     "execution_count": 105,
     "metadata": {},
     "output_type": "execute_result"
    }
   ],
   "source": [
    "# checking data for issues by doing CLIP-to-SPoSE (which is supposed to work)\n",
    "model = RidgeCV()\n",
    "clf = model.fit(xclip_train, yspose_train)\n",
    "clf.score(xclip_train, yspose_train)"
   ]
  },
  {
   "cell_type": "code",
   "execution_count": 113,
   "id": "1b0f5256",
   "metadata": {},
   "outputs": [],
   "source": [
    "wt, corr, valphas, bscorrs, valinds = bootstrap_ridge(xclip_train, yspose_train, \n",
    "                                                      xclip_test, yspose_test,\n",
    "                                                      alphas=np.logspace(-100, 100, 60),\n",
    "                                                      nboots=5,\n",
    "                                                      chunklen=10, nchunks=15, return_wt=True)"
   ]
  },
  {
   "cell_type": "code",
   "execution_count": 125,
   "id": "4a753a1a",
   "metadata": {},
   "outputs": [
    {
     "name": "stdout",
     "output_type": "stream",
     "text": [
      "0.42757745111063405\n"
     ]
    }
   ],
   "source": [
    "print(np.mean(corr))  # 0.68"
   ]
  },
  {
   "cell_type": "code",
   "execution_count": 33,
   "id": "2d3f20cc",
   "metadata": {},
   "outputs": [
    {
     "name": "stdout",
     "output_type": "stream",
     "text": [
      "Default LinearRegression SPoSE-to-CLIP R2: 0.19375703244804993\n"
     ]
    }
   ],
   "source": [
    "# checking data for issues by doing CLIP-to-SPoSE (which is supposed to work)\n",
    "model = LinearRegression()\n",
    "model.fit(xspose_train, yclip_train)\n",
    "yclip_test_pred = model.predict(xspose_test)\n",
    "\n",
    "print(\"Default LinearRegression SPoSE-to-CLIP R2:\", r2_score(yclip_test, yclip_test_pred))"
   ]
  },
  {
   "cell_type": "code",
   "execution_count": 5,
   "id": "55b3d666",
   "metadata": {},
   "outputs": [
    {
     "name": "stdout",
     "output_type": "stream",
     "text": [
      "Default XGBRegressor SPoSE-to-CLIP R2: 0.4962098745787638\n",
      "CPU times: user 3h 58min 11s, sys: 5min 44s, total: 4h 3min 56s\n",
      "Wall time: 16min 23s\n"
     ]
    }
   ],
   "source": [
    "%%time\n",
    "\n",
    "# fitting\n",
    "model = MultiOutputRegressor(xgb.XGBRegressor(objective='reg:squarederror'))\n",
    "model.fit(xspose_train, yclip_train)\n",
    "yclip_test_pred = model.predict(xspose_test)\n",
    "\n",
    "print(\"Default XGBRegressor SPoSE-to-CLIP R2:\", r2_score(yclip_test, yclip_test_pred))"
   ]
  },
  {
   "cell_type": "code",
   "execution_count": 46,
   "id": "b6e35597",
   "metadata": {},
   "outputs": [
    {
     "data": {
      "text/plain": [
       "'\\nparams = {\"objective\":\"reg:linear\",\\'colsample_bytree\\': 0.3,\\'learning_rate\\': 0.1,\\n                \\'max_depth\\': 5, \\'alpha\\': 10}\\n\\ncv_results = xgb.cv(dtrain=data_dmatrix, params=params, nfold=3,\\n                    num_boost_round=50,early_stopping_rounds=10,metrics=\"rmse\", as_pandas=True, seed=123)\\n'"
      ]
     },
     "execution_count": 46,
     "metadata": {},
     "output_type": "execute_result"
    }
   ],
   "source": [
    "\"\"\"\n",
    "params = {\"objective\":\"reg:linear\",'colsample_bytree': 0.3,'learning_rate': 0.1,\n",
    "                'max_depth': 5, 'al                'max_depth': 5, 'alpha': 10}\n",
    "pha': 10}\n",
    "\n",
    "cv_results = xgb.cv(dtrain=data_dmatrix, params=params, nfold=3,\n",
    "                    num_boost_round=50,early_stopping_rounds=10,metrics=\"rmse\", as_pandas=True, seed=123)\n",
    "# https://www.datacamp.com/community/tutorials/xgboost-in-python\n",
    "\"\"\""
   ]
  },
  {
   "cell_type": "code",
   "execution_count": 34,
   "id": "0486e446",
   "metadata": {},
   "outputs": [
    {
     "name": "stdout",
     "output_type": "stream",
     "text": [
      "Default LinearRegression SPoSE-to-CLIP R2: 0.1937618314739155\n"
     ]
    }
   ],
   "source": [
    "# checking data for issues by doing CLIP-to-SPoSE (which is supposed to work)\n",
    "model = Ridge()\n",
    "model.fit(xspose_train, yclip_train)\n",
    "yclip_test_pred = model.predict(xspose_test)\n",
    "\n",
    "print(\"Default RidgeRegression SPoSE-to-CLIP R2:\", r2_score(yclip_test, yclip_test_pred))"
   ]
  },
  {
   "cell_type": "code",
   "execution_count": 126,
   "id": "9b050bef",
   "metadata": {},
   "outputs": [
    {
     "data": {
      "text/plain": [
       "(49, 512)"
      ]
     },
     "execution_count": 126,
     "metadata": {},
     "output_type": "execute_result"
    }
   ],
   "source": [
    "wt.shape"
   ]
  },
  {
   "cell_type": "code",
   "execution_count": 116,
   "id": "b3545dec",
   "metadata": {},
   "outputs": [],
   "source": [
    "wt, corr, valphas, bscorrs, valinds = bootstrap_ridge(xspose_train, yclip_train, \n",
    "                                                      xspose_test, yclip_test,\n",
    "                                                      alphas=np.logspace(-2, 100, 100),\n",
    "                                                      nboots=5,\n",
    "                                                      chunklen=10, nchunks=15, return_wt=True)"
   ]
  },
  {
   "cell_type": "code",
   "execution_count": 124,
   "id": "98790b2a",
   "metadata": {},
   "outputs": [
    {
     "data": {
      "text/plain": [
       "0.795284011669666"
      ]
     },
     "execution_count": 124,
     "metadata": {},
     "output_type": "execute_result"
    }
   ],
   "source": [
    "np.max(corr)"
   ]
  },
  {
   "cell_type": "code",
   "execution_count": null,
   "id": "6f48092b",
   "metadata": {},
   "outputs": [],
   "source": []
  },
  {
   "cell_type": "code",
   "execution_count": 133,
   "id": "bc8a8348",
   "metadata": {},
   "outputs": [],
   "source": [
    "# train on all data\n",
    "wt, corr, valphas, bscorrs, valinds = bootstrap_ridge(x_spose_vecs, y_clip_vecs, \n",
    "                                                      xspose_test, yclip_test,\n",
    "                                                      alphas=np.logspace(-2, 100, 100),\n",
    "                                                      nboots=5,\n",
    "                                                      chunklen=10, nchunks=15, return_wt=True)"
   ]
  },
  {
   "cell_type": "code",
   "execution_count": 134,
   "id": "222a7b2c",
   "metadata": {},
   "outputs": [
    {
     "name": "stdout",
     "output_type": "stream",
     "text": [
      "0.42767548855293525\n"
     ]
    }
   ],
   "source": [
    "print(np.mean(corr))  # 0.68"
   ]
  },
  {
   "cell_type": "code",
   "execution_count": 136,
   "id": "92926b69",
   "metadata": {},
   "outputs": [],
   "source": [
    "savemat('big_sleep/data/W_aridge_spose_to_clip.mat', {'W':wt} )"
   ]
  },
  {
   "cell_type": "code",
   "execution_count": null,
   "id": "b92f0221",
   "metadata": {},
   "outputs": [],
   "source": []
  },
  {
   "cell_type": "code",
   "execution_count": 101,
   "id": "f171064d",
   "metadata": {},
   "outputs": [
    {
     "data": {
      "text/plain": [
       "0.5128427207844467"
      ]
     },
     "execution_count": 101,
     "metadata": {},
     "output_type": "execute_result"
    }
   ],
   "source": [
    "# checking data for issues by doing CLIP-to-SPoSE (which is supposed to work)\n",
    "model = MultiTaskLassoCV()\n",
    "clf = model.fit(xclip_train, yspose_train)\n",
    "clf.score(xclip_train, yspose_train)"
   ]
  },
  {
   "cell_type": "code",
   "execution_count": 102,
   "id": "14477c68",
   "metadata": {},
   "outputs": [
    {
     "data": {
      "text/plain": [
       "0.5127160482374192"
      ]
     },
     "execution_count": 102,
     "metadata": {},
     "output_type": "execute_result"
    }
   ],
   "source": [
    "# checking data for issues by doing CLIP-to-SPoSE (which is supposed to work)\n",
    "model = MultiTaskElasticNetCV()\n",
    "clf = model.fit(xclip_train, yspose_train)\n",
    "clf.score(xclip_train, yspose_train)"
   ]
  },
  {
   "cell_type": "code",
   "execution_count": null,
   "id": "67175cdf",
   "metadata": {},
   "outputs": [],
   "source": [
    "# TODO: set up modeling with CLIP-to-spose\n",
    "\n",
    "# TODO: standard scaler\n",
    "# TODO: compare regression methods: https://towardsdatascience.com/quickly-test-multiple-models-a98477476f0\n",
    "# TODO: determine best parameters via CV\n",
    "# TODO: try alexridge"
   ]
  },
  {
   "cell_type": "code",
   "execution_count": null,
   "id": "2223ff6f",
   "metadata": {},
   "outputs": [],
   "source": [
    "# TODO: set up modeling with CLIP-to-spose\n",
    "\n"
   ]
  },
  {
   "cell_type": "code",
   "execution_count": 31,
   "id": "175fbc9a",
   "metadata": {},
   "outputs": [],
   "source": [
    "model = MultiTaskElasticNet()\n",
    "model.fit(xspose_train, yclip_train)\n",
    "yclip_test_pred = model.predict(xspose_test)\n",
    "\n",
    "# TODO: determine best parameters"
   ]
  },
  {
   "cell_type": "code",
   "execution_count": 32,
   "id": "e0891141",
   "metadata": {},
   "outputs": [],
   "source": [
    "model = MultiTaskLasso()\n",
    "model.fit(xspose_train, yclip_train)\n",
    "yclip_test_pred = model.predict(xspose_test)"
   ]
  },
  {
   "cell_type": "code",
   "execution_count": 36,
   "id": "e8167e86",
   "metadata": {},
   "outputs": [
    {
     "name": "stdout",
     "output_type": "stream",
     "text": [
      "CPU times: user 3 µs, sys: 0 ns, total: 3 µs\n",
      "Wall time: 5.96 µs\n"
     ]
    }
   ],
   "source": [
    "%%time\n",
    "#yclip_test_pred = MultiOutputRegressor(GradientBoostingRegressor(random_state=0)).fit(xspose_train, yclip_train).predict(xspose_test)"
   ]
  },
  {
   "cell_type": "code",
   "execution_count": null,
   "id": "5a344664",
   "metadata": {},
   "outputs": [],
   "source": [
    "r2_score(yclip_test, yclip_test_pred)"
   ]
  },
  {
   "cell_type": "code",
   "execution_count": null,
   "id": "1b3f35e5",
   "metadata": {},
   "outputs": [],
   "source": [
    "model = LinearRegression()  # TODO: elasticNet\n",
    "# fit model\n",
    "model.fit(X, y)\n",
    "# make a prediction\n",
    "\n",
    "# define the evaluation procedure\n",
    "cv = RepeatedKFold(n_splits=10, n_repeats=3, random_state=1)\n",
    "# evaluate the model and collect the scores\n",
    "n_scores = cross_val_score(model, X, y, scoring='neg_mean_absolute_error', cv=cv, n_jobs=-1)\n",
    "# force the scores to be positive\n",
    "n_scores = absolute(n_scores)\n",
    "# summarize performance\n",
    "print('MAE: %.3f (%.3f)' % (mean(n_scores), std(n_scores)))\n"
   ]
  },
  {
   "cell_type": "code",
   "execution_count": null,
   "id": "62a1360d",
   "metadata": {},
   "outputs": [],
   "source": [
    "from sklearn.linear_model import LinearRegression\n",
    "from sklearn.model_selection import train_test_split\n",
    "from sklearn.model_selection import cross_val_score\n",
    "\n",
    "from sklearn.preprocessing import StandardScaler\n",
    "from statistics import mean\n",
    "\n",
    "X_train, X_test, Y_train, Y_test = train_test_split(df,target,test_size=0.3)\n",
    "scaler = StandardScaler()\n",
    "features = scaler.fit_transform(X_train)\n",
    "scaled_x_test = scaler.fit_transform(X_test)\n",
    "regression = LinearRegression()\n",
    "model = regression.fit(features, Y_train)\n",
    "preds = model.predict(scaled_x_test)\n",
    "\n",
    "mean(cross_val_score(regression, preds.reshape(-1,1), Y_test, cv=10))\n"
   ]
  },
  {
   "cell_type": "code",
   "execution_count": null,
   "id": "78b27c86",
   "metadata": {},
   "outputs": [],
   "source": [
    "# TODO: ensemble randomforest\n",
    "# TODO: test model accuracy\n",
    "\n",
    "import xgboost as xgb\n",
    "from sklearn.metrics import mean_squared_error\n",
    "\n",
    "regressor = xgb.XGBRegressor(\n",
    "    learning_rate=0.01,\n",
    "    colsample_bytree=0.8,\n",
    "    n_estimators=430,\n",
    "    reg_lambda=1,\n",
    "    gamma=1,\n",
    "    max_depth=3,\n",
    "    subsample=0.55\n",
    ")\n",
    "model = regressor.fit(features,Y_train)\n",
    "preds = regressor.predict(scaled_x_test)\n",
    "r2_score=mean_squared_error(Y_test, preds)"
   ]
  },
  {
   "cell_type": "code",
   "execution_count": null,
   "id": "0c0dd956",
   "metadata": {},
   "outputs": [],
   "source": []
  },
  {
   "cell_type": "code",
   "execution_count": null,
   "id": "7b01a09a",
   "metadata": {},
   "outputs": [],
   "source": []
  },
  {
   "cell_type": "code",
   "execution_count": null,
   "id": "4998f510",
   "metadata": {},
   "outputs": [],
   "source": []
  },
  {
   "cell_type": "code",
   "execution_count": null,
   "id": "bdb84d57",
   "metadata": {},
   "outputs": [],
   "source": []
  },
  {
   "cell_type": "code",
   "execution_count": null,
   "id": "a1ce0bc3",
   "metadata": {},
   "outputs": [],
   "source": []
  },
  {
   "cell_type": "code",
   "execution_count": null,
   "id": "62ddb898",
   "metadata": {},
   "outputs": [],
   "source": []
  },
  {
   "cell_type": "code",
   "execution_count": null,
   "id": "79be662e",
   "metadata": {},
   "outputs": [],
   "source": []
  },
  {
   "cell_type": "code",
   "execution_count": null,
   "id": "9d513b2e",
   "metadata": {},
   "outputs": [],
   "source": []
  },
  {
   "cell_type": "code",
   "execution_count": null,
   "id": "4354bb90",
   "metadata": {},
   "outputs": [],
   "source": []
  },
  {
   "cell_type": "code",
   "execution_count": null,
   "id": "f4e056e8",
   "metadata": {},
   "outputs": [],
   "source": []
  },
  {
   "cell_type": "code",
   "execution_count": null,
   "id": "c73d1117",
   "metadata": {},
   "outputs": [],
   "source": []
  },
  {
   "cell_type": "code",
   "execution_count": null,
   "id": "2ae71517",
   "metadata": {},
   "outputs": [],
   "source": []
  },
  {
   "cell_type": "code",
   "execution_count": null,
   "id": "bc4e5905",
   "metadata": {},
   "outputs": [],
   "source": []
  },
  {
   "cell_type": "code",
   "execution_count": null,
   "id": "142699be",
   "metadata": {},
   "outputs": [],
   "source": []
  }
 ],
 "metadata": {
  "kernelspec": {
   "display_name": "Python 3 (ipykernel)",
   "language": "python",
   "name": "python3"
  },
  "language_info": {
   "codemirror_mode": {
    "name": "ipython",
    "version": 3
   },
   "file_extension": ".py",
   "mimetype": "text/x-python",
   "name": "python",
   "nbconvert_exporter": "python",
   "pygments_lexer": "ipython3",
   "version": "3.7.11"
  }
 },
 "nbformat": 4,
 "nbformat_minor": 5
}
